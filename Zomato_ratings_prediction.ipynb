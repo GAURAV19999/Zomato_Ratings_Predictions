{
 "cells": [
  {
   "cell_type": "code",
   "execution_count": null,
   "id": "6b3a7811",
   "metadata": {},
   "outputs": [],
   "source": [
    "import pandas as pd\n",
    "import numpy as np\n",
    "import matplotlib.pyplot as plt\n",
    "import seaborn as sns\n",
    "\n",
    "### so that u dont have warnings\n",
    "from warnings import filterwarnings\n",
    "filterwarnings('ignore')"
   ]
  },
  {
   "cell_type": "markdown",
   "id": "361ef03d",
   "metadata": {},
   "source": [
    "# load the dataset"
   ]
  },
  {
   "cell_type": "code",
   "execution_count": null,
   "id": "85bae5f4",
   "metadata": {},
   "outputs": [
    {
     "name": "stdout",
     "output_type": "stream",
     "text": [
      "Dataset shape: (51717, 17)\n"
     ]
    },
    {
     "data": {
      "text/html": [
       "<div>\n",
       "<style scoped>\n",
       "    .dataframe tbody tr th:only-of-type {\n",
       "        vertical-align: middle;\n",
       "    }\n",
       "\n",
       "    .dataframe tbody tr th {\n",
       "        vertical-align: top;\n",
       "    }\n",
       "\n",
       "    .dataframe thead th {\n",
       "        text-align: right;\n",
       "    }\n",
       "</style>\n",
       "<table border=\"1\" class=\"dataframe\">\n",
       "  <thead>\n",
       "    <tr style=\"text-align: right;\">\n",
       "      <th></th>\n",
       "      <th>url</th>\n",
       "      <th>address</th>\n",
       "      <th>name</th>\n",
       "      <th>online_order</th>\n",
       "      <th>book_table</th>\n",
       "      <th>rate</th>\n",
       "      <th>votes</th>\n",
       "      <th>phone</th>\n",
       "      <th>location</th>\n",
       "      <th>rest_type</th>\n",
       "      <th>dish_liked</th>\n",
       "      <th>cuisines</th>\n",
       "      <th>approx_cost(for two people)</th>\n",
       "      <th>reviews_list</th>\n",
       "      <th>menu_item</th>\n",
       "      <th>listed_in(type)</th>\n",
       "      <th>listed_in(city)</th>\n",
       "    </tr>\n",
       "  </thead>\n",
       "  <tbody>\n",
       "    <tr>\n",
       "      <th>0</th>\n",
       "      <td>https://www.zomato.com/bangalore/jalsa-banasha...</td>\n",
       "      <td>942, 21st Main Road, 2nd Stage, Banashankari, ...</td>\n",
       "      <td>Jalsa</td>\n",
       "      <td>Yes</td>\n",
       "      <td>Yes</td>\n",
       "      <td>4.1/5</td>\n",
       "      <td>775</td>\n",
       "      <td>080 42297555\\r\\n+91 9743772233</td>\n",
       "      <td>Banashankari</td>\n",
       "      <td>Casual Dining</td>\n",
       "      <td>Pasta, Lunch Buffet, Masala Papad, Paneer Laja...</td>\n",
       "      <td>North Indian, Mughlai, Chinese</td>\n",
       "      <td>800</td>\n",
       "      <td>[('Rated 4.0', 'RATED\\n  A beautiful place to ...</td>\n",
       "      <td>[]</td>\n",
       "      <td>Buffet</td>\n",
       "      <td>Banashankari</td>\n",
       "    </tr>\n",
       "    <tr>\n",
       "      <th>1</th>\n",
       "      <td>https://www.zomato.com/bangalore/spice-elephan...</td>\n",
       "      <td>2nd Floor, 80 Feet Road, Near Big Bazaar, 6th ...</td>\n",
       "      <td>Spice Elephant</td>\n",
       "      <td>Yes</td>\n",
       "      <td>No</td>\n",
       "      <td>4.1/5</td>\n",
       "      <td>787</td>\n",
       "      <td>080 41714161</td>\n",
       "      <td>Banashankari</td>\n",
       "      <td>Casual Dining</td>\n",
       "      <td>Momos, Lunch Buffet, Chocolate Nirvana, Thai G...</td>\n",
       "      <td>Chinese, North Indian, Thai</td>\n",
       "      <td>800</td>\n",
       "      <td>[('Rated 4.0', 'RATED\\n  Had been here for din...</td>\n",
       "      <td>[]</td>\n",
       "      <td>Buffet</td>\n",
       "      <td>Banashankari</td>\n",
       "    </tr>\n",
       "  </tbody>\n",
       "</table>\n",
       "</div>"
      ],
      "text/plain": [
       "                                                 url  \\\n",
       "0  https://www.zomato.com/bangalore/jalsa-banasha...   \n",
       "1  https://www.zomato.com/bangalore/spice-elephan...   \n",
       "\n",
       "                                             address            name  \\\n",
       "0  942, 21st Main Road, 2nd Stage, Banashankari, ...           Jalsa   \n",
       "1  2nd Floor, 80 Feet Road, Near Big Bazaar, 6th ...  Spice Elephant   \n",
       "\n",
       "  online_order book_table   rate  votes                           phone  \\\n",
       "0          Yes        Yes  4.1/5    775  080 42297555\\r\\n+91 9743772233   \n",
       "1          Yes         No  4.1/5    787                    080 41714161   \n",
       "\n",
       "       location      rest_type  \\\n",
       "0  Banashankari  Casual Dining   \n",
       "1  Banashankari  Casual Dining   \n",
       "\n",
       "                                          dish_liked  \\\n",
       "0  Pasta, Lunch Buffet, Masala Papad, Paneer Laja...   \n",
       "1  Momos, Lunch Buffet, Chocolate Nirvana, Thai G...   \n",
       "\n",
       "                         cuisines approx_cost(for two people)  \\\n",
       "0  North Indian, Mughlai, Chinese                         800   \n",
       "1     Chinese, North Indian, Thai                         800   \n",
       "\n",
       "                                        reviews_list menu_item  \\\n",
       "0  [('Rated 4.0', 'RATED\\n  A beautiful place to ...        []   \n",
       "1  [('Rated 4.0', 'RATED\\n  Had been here for din...        []   \n",
       "\n",
       "  listed_in(type) listed_in(city)  \n",
       "0          Buffet    Banashankari  \n",
       "1          Buffet    Banashankari  "
      ]
     },
     "execution_count": 109,
     "metadata": {},
     "output_type": "execute_result"
    }
   ],
   "source": [
    "# load the dataset\n",
    "df = pd.read_csv(r\"C:\\Users\\Admin\\Dropbox\\Copy of zomato.csv\")\n",
    "print(f'Dataset shape: {df.shape}')\n",
    "df.head(2)"
   ]
  },
  {
   "cell_type": "code",
   "execution_count": null,
   "id": "b9e374a2",
   "metadata": {},
   "outputs": [
    {
     "name": "stdout",
     "output_type": "stream",
     "text": [
      "<class 'pandas.core.frame.DataFrame'>\n",
      "RangeIndex: 51717 entries, 0 to 51716\n",
      "Data columns (total 17 columns):\n",
      " #   Column                       Non-Null Count  Dtype \n",
      "---  ------                       --------------  ----- \n",
      " 0   url                          51717 non-null  object\n",
      " 1   address                      51717 non-null  object\n",
      " 2   name                         51717 non-null  object\n",
      " 3   online_order                 51717 non-null  object\n",
      " 4   book_table                   51717 non-null  object\n",
      " 5   rate                         43942 non-null  object\n",
      " 6   votes                        51717 non-null  int64 \n",
      " 7   phone                        50509 non-null  object\n",
      " 8   location                     51696 non-null  object\n",
      " 9   rest_type                    51490 non-null  object\n",
      " 10  dish_liked                   23639 non-null  object\n",
      " 11  cuisines                     51672 non-null  object\n",
      " 12  approx_cost(for two people)  51371 non-null  object\n",
      " 13  reviews_list                 51717 non-null  object\n",
      " 14  menu_item                    51717 non-null  object\n",
      " 15  listed_in(type)              51717 non-null  object\n",
      " 16  listed_in(city)              51717 non-null  object\n",
      "dtypes: int64(1), object(16)\n",
      "memory usage: 6.7+ MB\n"
     ]
    }
   ],
   "source": [
    "df.info()"
   ]
  },
  {
   "cell_type": "code",
   "execution_count": null,
   "id": "c21a2d1b",
   "metadata": {},
   "outputs": [
    {
     "data": {
      "text/plain": [
       "url                                0\n",
       "address                            0\n",
       "name                               0\n",
       "online_order                       0\n",
       "book_table                         0\n",
       "rate                            7775\n",
       "votes                              0\n",
       "phone                           1208\n",
       "location                          21\n",
       "rest_type                        227\n",
       "dish_liked                     28078\n",
       "cuisines                          45\n",
       "approx_cost(for two people)      346\n",
       "reviews_list                       0\n",
       "menu_item                          0\n",
       "listed_in(type)                    0\n",
       "listed_in(city)                    0\n",
       "dtype: int64"
      ]
     },
     "execution_count": 111,
     "metadata": {},
     "output_type": "execute_result"
    }
   ],
   "source": [
    "df.isnull().sum()"
   ]
  },
  {
   "cell_type": "code",
   "execution_count": null,
   "id": "f74677cc",
   "metadata": {},
   "outputs": [
    {
     "data": {
      "text/plain": [
       "['rate',\n",
       " 'phone',\n",
       " 'location',\n",
       " 'rest_type',\n",
       " 'dish_liked',\n",
       " 'cuisines',\n",
       " 'approx_cost(for two people)']"
      ]
     },
     "execution_count": 112,
     "metadata": {},
     "output_type": "execute_result"
    }
   ],
   "source": [
    "feature_na =[feature for feature in df.columns if df[feature].isnull().sum()>0]\n",
    "feature_na"
   ]
  },
  {
   "cell_type": "markdown",
   "id": "07d3c3a6",
   "metadata": {},
   "source": [
    "# % of missing values"
   ]
  },
  {
   "cell_type": "code",
   "execution_count": null,
   "id": "5e7f1f70",
   "metadata": {},
   "outputs": [
    {
     "name": "stdout",
     "output_type": "stream",
     "text": [
      "rate has 15.0337 % missing values\n",
      "phone has 2.3358 % missing values\n",
      "location has 0.0406 % missing values\n",
      "rest_type has 0.4389 % missing values\n",
      "dish_liked has 54.2916 % missing values\n",
      "cuisines has 0.087 % missing values\n",
      "approx_cost(for two people) has 0.669 % missing values\n"
     ]
    }
   ],
   "source": [
    "for feature in feature_na:\n",
    "    print('{} has {} % missing values'.format(feature,np.round(df[feature].isnull().sum()/len(df)*100,4)))"
   ]
  },
  {
   "cell_type": "code",
   "execution_count": null,
   "id": "d73df57b",
   "metadata": {},
   "outputs": [],
   "source": [
    "# Making a copy of the dataset to work on\n",
    "data = df.copy()"
   ]
  },
  {
   "cell_type": "markdown",
   "id": "2ed2d6ff",
   "metadata": {},
   "source": [
    "## Lets aggregate data of listed_in(type) into list"
   ]
  },
  {
   "cell_type": "code",
   "execution_count": null,
   "id": "fb7e64e7",
   "metadata": {},
   "outputs": [],
   "source": [
    "grouped=data.groupby([\"name\",\"address\"]).agg({\"listed_in(type)\" : list})"
   ]
  },
  {
   "cell_type": "code",
   "execution_count": null,
   "id": "137c6c85",
   "metadata": {},
   "outputs": [
    {
     "data": {
      "text/plain": [
       "Index(['url', 'address', 'name', 'online_order', 'book_table', 'rate', 'votes',\n",
       "       'phone', 'location', 'rest_type', 'dish_liked', 'cuisines',\n",
       "       'approx_cost(for two people)', 'reviews_list', 'menu_item',\n",
       "       'listed_in(type)', 'listed_in(city)'],\n",
       "      dtype='object')"
      ]
     },
     "execution_count": 116,
     "metadata": {},
     "output_type": "execute_result"
    }
   ],
   "source": [
    "df.columns"
   ]
  },
  {
   "cell_type": "markdown",
   "id": "d84bc586",
   "metadata": {},
   "source": [
    "## merge your both the dataframe"
   ]
  },
  {
   "cell_type": "code",
   "execution_count": null,
   "id": "5130ef8f",
   "metadata": {},
   "outputs": [],
   "source": [
    "newdata = pd.merge(grouped, data, on =([\"name\", \"address\"]))"
   ]
  },
  {
   "cell_type": "code",
   "execution_count": null,
   "id": "0b9e0958",
   "metadata": {},
   "outputs": [
    {
     "data": {
      "text/plain": [
       "Index(['name', 'address', 'listed_in(type)_x', 'url', 'online_order',\n",
       "       'book_table', 'rate', 'votes', 'phone', 'location', 'rest_type',\n",
       "       'dish_liked', 'cuisines', 'approx_cost(for two people)', 'reviews_list',\n",
       "       'menu_item', 'listed_in(type)_y', 'listed_in(city)'],\n",
       "      dtype='object')"
      ]
     },
     "execution_count": 118,
     "metadata": {},
     "output_type": "execute_result"
    }
   ],
   "source": [
    "newdata.columns"
   ]
  },
  {
   "cell_type": "code",
   "execution_count": null,
   "id": "bbba578d",
   "metadata": {},
   "outputs": [
    {
     "data": {
      "text/plain": [
       "dtype('O')"
      ]
     },
     "execution_count": 119,
     "metadata": {},
     "output_type": "execute_result"
    }
   ],
   "source": [
    "newdata['listed_in(type)_y'].dtype"
   ]
  },
  {
   "cell_type": "code",
   "execution_count": null,
   "id": "ea55738e",
   "metadata": {},
   "outputs": [
    {
     "data": {
      "text/plain": [
       "(51717, 18)"
      ]
     },
     "execution_count": 120,
     "metadata": {},
     "output_type": "execute_result"
    }
   ],
   "source": [
    "newdata.shape"
   ]
  },
  {
   "cell_type": "markdown",
   "id": "ee673f26",
   "metadata": {},
   "source": [
    "# dropping duplicates"
   ]
  },
  {
   "cell_type": "code",
   "execution_count": null,
   "id": "12798512",
   "metadata": {},
   "outputs": [],
   "source": [
    "newdata.drop_duplicates(subset = [\"name\", \"address\", \"listed_in(type)_y\"], inplace = True)"
   ]
  },
  {
   "cell_type": "code",
   "execution_count": null,
   "id": "a7a7936a",
   "metadata": {},
   "outputs": [
    {
     "data": {
      "text/plain": [
       "(20915, 18)"
      ]
     },
     "execution_count": 122,
     "metadata": {},
     "output_type": "execute_result"
    }
   ],
   "source": [
    "newdata.shape"
   ]
  },
  {
   "cell_type": "code",
   "execution_count": null,
   "id": "e99f6b49",
   "metadata": {},
   "outputs": [
    {
     "data": {
      "text/html": [
       "<div>\n",
       "<style scoped>\n",
       "    .dataframe tbody tr th:only-of-type {\n",
       "        vertical-align: middle;\n",
       "    }\n",
       "\n",
       "    .dataframe tbody tr th {\n",
       "        vertical-align: top;\n",
       "    }\n",
       "\n",
       "    .dataframe thead th {\n",
       "        text-align: right;\n",
       "    }\n",
       "</style>\n",
       "<table border=\"1\" class=\"dataframe\">\n",
       "  <thead>\n",
       "    <tr style=\"text-align: right;\">\n",
       "      <th></th>\n",
       "      <th>name</th>\n",
       "      <th>address</th>\n",
       "      <th>listed_in(type)_x</th>\n",
       "      <th>url</th>\n",
       "      <th>online_order</th>\n",
       "      <th>book_table</th>\n",
       "      <th>rate</th>\n",
       "      <th>votes</th>\n",
       "      <th>phone</th>\n",
       "      <th>location</th>\n",
       "      <th>rest_type</th>\n",
       "      <th>dish_liked</th>\n",
       "      <th>cuisines</th>\n",
       "      <th>approx_cost(for two people)</th>\n",
       "      <th>reviews_list</th>\n",
       "      <th>menu_item</th>\n",
       "      <th>listed_in(type)_y</th>\n",
       "      <th>listed_in(city)</th>\n",
       "    </tr>\n",
       "  </thead>\n",
       "  <tbody>\n",
       "    <tr>\n",
       "      <th>0</th>\n",
       "      <td>#FeelTheROLL</td>\n",
       "      <td>Opposite Mantri Commercio, Outer Ring Road, De...</td>\n",
       "      <td>[Delivery, Delivery]</td>\n",
       "      <td>https://www.zomato.com/bangalore/feeltheroll-b...</td>\n",
       "      <td>No</td>\n",
       "      <td>No</td>\n",
       "      <td>3.4/5</td>\n",
       "      <td>7</td>\n",
       "      <td>+91 9108342079\\r\\n+91 9886117901</td>\n",
       "      <td>Bellandur</td>\n",
       "      <td>Quick Bites</td>\n",
       "      <td>NaN</td>\n",
       "      <td>Fast Food</td>\n",
       "      <td>200</td>\n",
       "      <td>[('Rated 5.0', \"RATED\\n  Had an egg chicken ro...</td>\n",
       "      <td>[]</td>\n",
       "      <td>Delivery</td>\n",
       "      <td>Bellandur</td>\n",
       "    </tr>\n",
       "    <tr>\n",
       "      <th>2</th>\n",
       "      <td>#L-81 Cafe</td>\n",
       "      <td>Sector 6, HSR Layout, HSR</td>\n",
       "      <td>[Delivery, Dine-out, Delivery, Dine-out, Deliv...</td>\n",
       "      <td>https://www.zomato.com/bangalore/l-81-cafe-hsr...</td>\n",
       "      <td>Yes</td>\n",
       "      <td>No</td>\n",
       "      <td>3.9/5</td>\n",
       "      <td>48</td>\n",
       "      <td>+91 9986210891</td>\n",
       "      <td>HSR</td>\n",
       "      <td>Quick Bites</td>\n",
       "      <td>Burgers</td>\n",
       "      <td>Fast Food, Beverages</td>\n",
       "      <td>400</td>\n",
       "      <td>[('Rated 4.0', 'RATED\\n  This little cafe is s...</td>\n",
       "      <td>[]</td>\n",
       "      <td>Delivery</td>\n",
       "      <td>BTM</td>\n",
       "    </tr>\n",
       "    <tr>\n",
       "      <th>3</th>\n",
       "      <td>#L-81 Cafe</td>\n",
       "      <td>Sector 6, HSR Layout, HSR</td>\n",
       "      <td>[Delivery, Dine-out, Delivery, Dine-out, Deliv...</td>\n",
       "      <td>https://www.zomato.com/bangalore/l-81-cafe-hsr...</td>\n",
       "      <td>Yes</td>\n",
       "      <td>No</td>\n",
       "      <td>3.9/5</td>\n",
       "      <td>48</td>\n",
       "      <td>+91 9986210891</td>\n",
       "      <td>HSR</td>\n",
       "      <td>Quick Bites</td>\n",
       "      <td>Burgers</td>\n",
       "      <td>Fast Food, Beverages</td>\n",
       "      <td>400</td>\n",
       "      <td>[('Rated 4.0', 'RATED\\n  This little cafe is s...</td>\n",
       "      <td>[]</td>\n",
       "      <td>Dine-out</td>\n",
       "      <td>BTM</td>\n",
       "    </tr>\n",
       "    <tr>\n",
       "      <th>11</th>\n",
       "      <td>#Vibes Restro</td>\n",
       "      <td>Marasur Gate, Chandapura - Anekal Road, Near A...</td>\n",
       "      <td>[Buffet, Delivery, Dine-out]</td>\n",
       "      <td>https://www.zomato.com/bangalore/vibes-restro-...</td>\n",
       "      <td>No</td>\n",
       "      <td>No</td>\n",
       "      <td>NaN</td>\n",
       "      <td>0</td>\n",
       "      <td>+91 9538911285</td>\n",
       "      <td>Electronic City</td>\n",
       "      <td>Casual Dining</td>\n",
       "      <td>NaN</td>\n",
       "      <td>Continental, Chinese, Italian</td>\n",
       "      <td>700</td>\n",
       "      <td>[('Rated 5.0', \"RATED\\n  Great service and don...</td>\n",
       "      <td>[]</td>\n",
       "      <td>Buffet</td>\n",
       "      <td>Electronic City</td>\n",
       "    </tr>\n",
       "    <tr>\n",
       "      <th>12</th>\n",
       "      <td>#Vibes Restro</td>\n",
       "      <td>Marasur Gate, Chandapura - Anekal Road, Near A...</td>\n",
       "      <td>[Buffet, Delivery, Dine-out]</td>\n",
       "      <td>https://www.zomato.com/bangalore/vibes-restro-...</td>\n",
       "      <td>No</td>\n",
       "      <td>No</td>\n",
       "      <td>NaN</td>\n",
       "      <td>0</td>\n",
       "      <td>+91 9538911285</td>\n",
       "      <td>Electronic City</td>\n",
       "      <td>Casual Dining</td>\n",
       "      <td>NaN</td>\n",
       "      <td>Continental, Chinese, Italian</td>\n",
       "      <td>700</td>\n",
       "      <td>[('Rated 5.0', \"RATED\\n  Great service and don...</td>\n",
       "      <td>[]</td>\n",
       "      <td>Delivery</td>\n",
       "      <td>Electronic City</td>\n",
       "    </tr>\n",
       "  </tbody>\n",
       "</table>\n",
       "</div>"
      ],
      "text/plain": [
       "             name                                            address  \\\n",
       "0    #FeelTheROLL  Opposite Mantri Commercio, Outer Ring Road, De...   \n",
       "2      #L-81 Cafe                          Sector 6, HSR Layout, HSR   \n",
       "3      #L-81 Cafe                          Sector 6, HSR Layout, HSR   \n",
       "11  #Vibes Restro  Marasur Gate, Chandapura - Anekal Road, Near A...   \n",
       "12  #Vibes Restro  Marasur Gate, Chandapura - Anekal Road, Near A...   \n",
       "\n",
       "                                    listed_in(type)_x  \\\n",
       "0                                [Delivery, Delivery]   \n",
       "2   [Delivery, Dine-out, Delivery, Dine-out, Deliv...   \n",
       "3   [Delivery, Dine-out, Delivery, Dine-out, Deliv...   \n",
       "11                       [Buffet, Delivery, Dine-out]   \n",
       "12                       [Buffet, Delivery, Dine-out]   \n",
       "\n",
       "                                                  url online_order book_table  \\\n",
       "0   https://www.zomato.com/bangalore/feeltheroll-b...           No         No   \n",
       "2   https://www.zomato.com/bangalore/l-81-cafe-hsr...          Yes         No   \n",
       "3   https://www.zomato.com/bangalore/l-81-cafe-hsr...          Yes         No   \n",
       "11  https://www.zomato.com/bangalore/vibes-restro-...           No         No   \n",
       "12  https://www.zomato.com/bangalore/vibes-restro-...           No         No   \n",
       "\n",
       "     rate  votes                             phone         location  \\\n",
       "0   3.4/5      7  +91 9108342079\\r\\n+91 9886117901        Bellandur   \n",
       "2   3.9/5     48                    +91 9986210891              HSR   \n",
       "3   3.9/5     48                    +91 9986210891              HSR   \n",
       "11    NaN      0                    +91 9538911285  Electronic City   \n",
       "12    NaN      0                    +91 9538911285  Electronic City   \n",
       "\n",
       "        rest_type dish_liked                       cuisines  \\\n",
       "0     Quick Bites        NaN                      Fast Food   \n",
       "2     Quick Bites    Burgers           Fast Food, Beverages   \n",
       "3     Quick Bites    Burgers           Fast Food, Beverages   \n",
       "11  Casual Dining        NaN  Continental, Chinese, Italian   \n",
       "12  Casual Dining        NaN  Continental, Chinese, Italian   \n",
       "\n",
       "   approx_cost(for two people)  \\\n",
       "0                          200   \n",
       "2                          400   \n",
       "3                          400   \n",
       "11                         700   \n",
       "12                         700   \n",
       "\n",
       "                                         reviews_list menu_item  \\\n",
       "0   [('Rated 5.0', \"RATED\\n  Had an egg chicken ro...        []   \n",
       "2   [('Rated 4.0', 'RATED\\n  This little cafe is s...        []   \n",
       "3   [('Rated 4.0', 'RATED\\n  This little cafe is s...        []   \n",
       "11  [('Rated 5.0', \"RATED\\n  Great service and don...        []   \n",
       "12  [('Rated 5.0', \"RATED\\n  Great service and don...        []   \n",
       "\n",
       "   listed_in(type)_y  listed_in(city)  \n",
       "0           Delivery        Bellandur  \n",
       "2           Delivery              BTM  \n",
       "3           Dine-out              BTM  \n",
       "11            Buffet  Electronic City  \n",
       "12          Delivery  Electronic City  "
      ]
     },
     "execution_count": 123,
     "metadata": {},
     "output_type": "execute_result"
    }
   ],
   "source": [
    "newdata.head()"
   ]
  },
  {
   "cell_type": "code",
   "execution_count": null,
   "id": "f28d41b2",
   "metadata": {},
   "outputs": [],
   "source": [
    "# resetting your index\n",
    "newdata = newdata.reset_index(drop=True)"
   ]
  },
  {
   "cell_type": "code",
   "execution_count": null,
   "id": "95e458ba",
   "metadata": {},
   "outputs": [
    {
     "data": {
      "text/html": [
       "<div>\n",
       "<style scoped>\n",
       "    .dataframe tbody tr th:only-of-type {\n",
       "        vertical-align: middle;\n",
       "    }\n",
       "\n",
       "    .dataframe tbody tr th {\n",
       "        vertical-align: top;\n",
       "    }\n",
       "\n",
       "    .dataframe thead th {\n",
       "        text-align: right;\n",
       "    }\n",
       "</style>\n",
       "<table border=\"1\" class=\"dataframe\">\n",
       "  <thead>\n",
       "    <tr style=\"text-align: right;\">\n",
       "      <th></th>\n",
       "      <th>name</th>\n",
       "      <th>address</th>\n",
       "      <th>listed_in(type)_x</th>\n",
       "      <th>url</th>\n",
       "      <th>online_order</th>\n",
       "      <th>book_table</th>\n",
       "      <th>rate</th>\n",
       "      <th>votes</th>\n",
       "      <th>phone</th>\n",
       "      <th>location</th>\n",
       "      <th>rest_type</th>\n",
       "      <th>dish_liked</th>\n",
       "      <th>cuisines</th>\n",
       "      <th>approx_cost(for two people)</th>\n",
       "      <th>reviews_list</th>\n",
       "      <th>menu_item</th>\n",
       "      <th>listed_in(type)_y</th>\n",
       "      <th>listed_in(city)</th>\n",
       "    </tr>\n",
       "  </thead>\n",
       "  <tbody>\n",
       "    <tr>\n",
       "      <th>0</th>\n",
       "      <td>#FeelTheROLL</td>\n",
       "      <td>Opposite Mantri Commercio, Outer Ring Road, De...</td>\n",
       "      <td>[Delivery, Delivery]</td>\n",
       "      <td>https://www.zomato.com/bangalore/feeltheroll-b...</td>\n",
       "      <td>No</td>\n",
       "      <td>No</td>\n",
       "      <td>3.4/5</td>\n",
       "      <td>7</td>\n",
       "      <td>+91 9108342079\\r\\n+91 9886117901</td>\n",
       "      <td>Bellandur</td>\n",
       "      <td>Quick Bites</td>\n",
       "      <td>NaN</td>\n",
       "      <td>Fast Food</td>\n",
       "      <td>200</td>\n",
       "      <td>[('Rated 5.0', \"RATED\\n  Had an egg chicken ro...</td>\n",
       "      <td>[]</td>\n",
       "      <td>Delivery</td>\n",
       "      <td>Bellandur</td>\n",
       "    </tr>\n",
       "    <tr>\n",
       "      <th>1</th>\n",
       "      <td>#L-81 Cafe</td>\n",
       "      <td>Sector 6, HSR Layout, HSR</td>\n",
       "      <td>[Delivery, Dine-out, Delivery, Dine-out, Deliv...</td>\n",
       "      <td>https://www.zomato.com/bangalore/l-81-cafe-hsr...</td>\n",
       "      <td>Yes</td>\n",
       "      <td>No</td>\n",
       "      <td>3.9/5</td>\n",
       "      <td>48</td>\n",
       "      <td>+91 9986210891</td>\n",
       "      <td>HSR</td>\n",
       "      <td>Quick Bites</td>\n",
       "      <td>Burgers</td>\n",
       "      <td>Fast Food, Beverages</td>\n",
       "      <td>400</td>\n",
       "      <td>[('Rated 4.0', 'RATED\\n  This little cafe is s...</td>\n",
       "      <td>[]</td>\n",
       "      <td>Delivery</td>\n",
       "      <td>BTM</td>\n",
       "    </tr>\n",
       "    <tr>\n",
       "      <th>2</th>\n",
       "      <td>#L-81 Cafe</td>\n",
       "      <td>Sector 6, HSR Layout, HSR</td>\n",
       "      <td>[Delivery, Dine-out, Delivery, Dine-out, Deliv...</td>\n",
       "      <td>https://www.zomato.com/bangalore/l-81-cafe-hsr...</td>\n",
       "      <td>Yes</td>\n",
       "      <td>No</td>\n",
       "      <td>3.9/5</td>\n",
       "      <td>48</td>\n",
       "      <td>+91 9986210891</td>\n",
       "      <td>HSR</td>\n",
       "      <td>Quick Bites</td>\n",
       "      <td>Burgers</td>\n",
       "      <td>Fast Food, Beverages</td>\n",
       "      <td>400</td>\n",
       "      <td>[('Rated 4.0', 'RATED\\n  This little cafe is s...</td>\n",
       "      <td>[]</td>\n",
       "      <td>Dine-out</td>\n",
       "      <td>BTM</td>\n",
       "    </tr>\n",
       "    <tr>\n",
       "      <th>3</th>\n",
       "      <td>#Vibes Restro</td>\n",
       "      <td>Marasur Gate, Chandapura - Anekal Road, Near A...</td>\n",
       "      <td>[Buffet, Delivery, Dine-out]</td>\n",
       "      <td>https://www.zomato.com/bangalore/vibes-restro-...</td>\n",
       "      <td>No</td>\n",
       "      <td>No</td>\n",
       "      <td>NaN</td>\n",
       "      <td>0</td>\n",
       "      <td>+91 9538911285</td>\n",
       "      <td>Electronic City</td>\n",
       "      <td>Casual Dining</td>\n",
       "      <td>NaN</td>\n",
       "      <td>Continental, Chinese, Italian</td>\n",
       "      <td>700</td>\n",
       "      <td>[('Rated 5.0', \"RATED\\n  Great service and don...</td>\n",
       "      <td>[]</td>\n",
       "      <td>Buffet</td>\n",
       "      <td>Electronic City</td>\n",
       "    </tr>\n",
       "    <tr>\n",
       "      <th>4</th>\n",
       "      <td>#Vibes Restro</td>\n",
       "      <td>Marasur Gate, Chandapura - Anekal Road, Near A...</td>\n",
       "      <td>[Buffet, Delivery, Dine-out]</td>\n",
       "      <td>https://www.zomato.com/bangalore/vibes-restro-...</td>\n",
       "      <td>No</td>\n",
       "      <td>No</td>\n",
       "      <td>NaN</td>\n",
       "      <td>0</td>\n",
       "      <td>+91 9538911285</td>\n",
       "      <td>Electronic City</td>\n",
       "      <td>Casual Dining</td>\n",
       "      <td>NaN</td>\n",
       "      <td>Continental, Chinese, Italian</td>\n",
       "      <td>700</td>\n",
       "      <td>[('Rated 5.0', \"RATED\\n  Great service and don...</td>\n",
       "      <td>[]</td>\n",
       "      <td>Delivery</td>\n",
       "      <td>Electronic City</td>\n",
       "    </tr>\n",
       "  </tbody>\n",
       "</table>\n",
       "</div>"
      ],
      "text/plain": [
       "            name                                            address  \\\n",
       "0   #FeelTheROLL  Opposite Mantri Commercio, Outer Ring Road, De...   \n",
       "1     #L-81 Cafe                          Sector 6, HSR Layout, HSR   \n",
       "2     #L-81 Cafe                          Sector 6, HSR Layout, HSR   \n",
       "3  #Vibes Restro  Marasur Gate, Chandapura - Anekal Road, Near A...   \n",
       "4  #Vibes Restro  Marasur Gate, Chandapura - Anekal Road, Near A...   \n",
       "\n",
       "                                   listed_in(type)_x  \\\n",
       "0                               [Delivery, Delivery]   \n",
       "1  [Delivery, Dine-out, Delivery, Dine-out, Deliv...   \n",
       "2  [Delivery, Dine-out, Delivery, Dine-out, Deliv...   \n",
       "3                       [Buffet, Delivery, Dine-out]   \n",
       "4                       [Buffet, Delivery, Dine-out]   \n",
       "\n",
       "                                                 url online_order book_table  \\\n",
       "0  https://www.zomato.com/bangalore/feeltheroll-b...           No         No   \n",
       "1  https://www.zomato.com/bangalore/l-81-cafe-hsr...          Yes         No   \n",
       "2  https://www.zomato.com/bangalore/l-81-cafe-hsr...          Yes         No   \n",
       "3  https://www.zomato.com/bangalore/vibes-restro-...           No         No   \n",
       "4  https://www.zomato.com/bangalore/vibes-restro-...           No         No   \n",
       "\n",
       "    rate  votes                             phone         location  \\\n",
       "0  3.4/5      7  +91 9108342079\\r\\n+91 9886117901        Bellandur   \n",
       "1  3.9/5     48                    +91 9986210891              HSR   \n",
       "2  3.9/5     48                    +91 9986210891              HSR   \n",
       "3    NaN      0                    +91 9538911285  Electronic City   \n",
       "4    NaN      0                    +91 9538911285  Electronic City   \n",
       "\n",
       "       rest_type dish_liked                       cuisines  \\\n",
       "0    Quick Bites        NaN                      Fast Food   \n",
       "1    Quick Bites    Burgers           Fast Food, Beverages   \n",
       "2    Quick Bites    Burgers           Fast Food, Beverages   \n",
       "3  Casual Dining        NaN  Continental, Chinese, Italian   \n",
       "4  Casual Dining        NaN  Continental, Chinese, Italian   \n",
       "\n",
       "  approx_cost(for two people)  \\\n",
       "0                         200   \n",
       "1                         400   \n",
       "2                         400   \n",
       "3                         700   \n",
       "4                         700   \n",
       "\n",
       "                                        reviews_list menu_item  \\\n",
       "0  [('Rated 5.0', \"RATED\\n  Had an egg chicken ro...        []   \n",
       "1  [('Rated 4.0', 'RATED\\n  This little cafe is s...        []   \n",
       "2  [('Rated 4.0', 'RATED\\n  This little cafe is s...        []   \n",
       "3  [('Rated 5.0', \"RATED\\n  Great service and don...        []   \n",
       "4  [('Rated 5.0', \"RATED\\n  Great service and don...        []   \n",
       "\n",
       "  listed_in(type)_y  listed_in(city)  \n",
       "0          Delivery        Bellandur  \n",
       "1          Delivery              BTM  \n",
       "2          Dine-out              BTM  \n",
       "3            Buffet  Electronic City  \n",
       "4          Delivery  Electronic City  "
      ]
     },
     "execution_count": 125,
     "metadata": {},
     "output_type": "execute_result"
    }
   ],
   "source": [
    "newdata.head()"
   ]
  },
  {
   "cell_type": "code",
   "execution_count": null,
   "id": "dd954551",
   "metadata": {},
   "outputs": [
    {
     "data": {
      "text/plain": [
       "(20915, 18)"
      ]
     },
     "execution_count": 126,
     "metadata": {},
     "output_type": "execute_result"
    }
   ],
   "source": [
    "newdata.shape"
   ]
  },
  {
   "cell_type": "code",
   "execution_count": null,
   "id": "4ac21049",
   "metadata": {},
   "outputs": [
    {
     "data": {
      "text/plain": [
       "array(['3.4/5', '3.9/5', nan, '3.7/5', '3.2/5', '3.5/5', '4.6/5', '4.1/5',\n",
       "       '4.2 /5', '4.3 /5', '4.2/5', '4.0/5', '4.0 /5', '3.9 /5', '4.1 /5',\n",
       "       '3.7 /5', '4.3/5', '3.1 /5', '3.6/5', '3.1/5', '3.3/5', '3.0/5',\n",
       "       '3.5 /5', '4.4/5', '4.5 /5', 'NEW', '3.3 /5', '3.8/5', '3.2 /5',\n",
       "       '3.6 /5', '4.5/5', '3.8 /5', '3.4 /5', '2.7/5', '2.7 /5', '2.8/5',\n",
       "       '3.0 /5', '2.9/5', '2.5 /5', '2.9 /5', '2.8 /5', '4.9/5', '4.7/5',\n",
       "       '4.8/5', '4.8 /5', '4.4 /5', '1.8/5', '2.4/5', '2.1/5', '2.5/5',\n",
       "       '-', '2.2/5', '4.7 /5', '2.6/5', '4.6 /5', '4.9 /5', '2.3/5',\n",
       "       '2.0 /5', '2.3 /5', '2.6 /5', '2.4 /5', '2.0/5'], dtype=object)"
      ]
     },
     "execution_count": 127,
     "metadata": {},
     "output_type": "execute_result"
    }
   ],
   "source": [
    "newdata['rate'].unique()"
   ]
  },
  {
   "cell_type": "code",
   "execution_count": null,
   "id": "9ebb845f",
   "metadata": {},
   "outputs": [
    {
     "data": {
      "text/plain": [
       "dtype('O')"
      ]
     },
     "execution_count": 128,
     "metadata": {},
     "output_type": "execute_result"
    }
   ],
   "source": [
    "newdata['rate'].dtype"
   ]
  },
  {
   "cell_type": "markdown",
   "id": "04e3e80c",
   "metadata": {},
   "source": [
    "# Transforming the ratings column \n"
   ]
  },
  {
   "cell_type": "code",
   "execution_count": null,
   "id": "7f831f9f",
   "metadata": {},
   "outputs": [],
   "source": [
    "newdata[\"rating\"] = newdata[\"rate\"].str[:3] # Extracting the first three characters of each string in \"rate\""
   ]
  },
  {
   "cell_type": "code",
   "execution_count": null,
   "id": "6420f24f",
   "metadata": {},
   "outputs": [],
   "source": [
    "newdata[\"rating\"].replace(\"NEW\",0,inplace=True)\n",
    "newdata[\"rating\"].replace(\"-\",0,inplace=True)"
   ]
  },
  {
   "cell_type": "markdown",
   "id": "c7f03d79",
   "metadata": {},
   "source": [
    "# Converting ratings to a numeric column so we can discretize it"
   ]
  },
  {
   "cell_type": "code",
   "execution_count": null,
   "id": "83526887",
   "metadata": {},
   "outputs": [],
   "source": [
    "newdata[\"rating\"]= pd.to_numeric(newdata[\"rating\"])"
   ]
  },
  {
   "cell_type": "code",
   "execution_count": null,
   "id": "49f5f8da",
   "metadata": {},
   "outputs": [],
   "source": [
    "# Discretizing the ratings into a categorical feature with 4 levels\n",
    "## ie if less than 3, assign 0\n",
    "## ie if less than 3.5, assign 1\n",
    "## ie if less than 4.0, assign 2\n",
    "## ie if less than 5.o assign 3\n",
    "\n",
    "## We can think of these as 0-Very Low, 1-Low, 2-Medium and 3-High."
   ]
  },
  {
   "cell_type": "code",
   "execution_count": null,
   "id": "6834c5c9",
   "metadata": {},
   "outputs": [
    {
     "data": {
      "text/plain": [
       "0    3.4\n",
       "1    3.9\n",
       "2    3.9\n",
       "3    NaN\n",
       "4    NaN\n",
       "Name: rating, dtype: float64"
      ]
     },
     "execution_count": 133,
     "metadata": {},
     "output_type": "execute_result"
    }
   ],
   "source": [
    "newdata[\"rating\"].head()"
   ]
  },
  {
   "cell_type": "code",
   "execution_count": null,
   "id": "2ba4907b",
   "metadata": {},
   "outputs": [
    {
     "data": {
      "text/plain": [
       "array([3.4, 3.9, nan, 3.7, 3.2, 3.5, 4.6, 4.1, 4.2, 4.3, 4. , 3.1, 3.6,\n",
       "       3.3, 3. , 4.4, 4.5, 0. , 3.8, 2.7, 2.8, 2.9, 2.5, 4.9, 4.7, 4.8,\n",
       "       1.8, 2.4, 2.1, 2.2, 2.6, 2.3, 2. ])"
      ]
     },
     "execution_count": 134,
     "metadata": {},
     "output_type": "execute_result"
    }
   ],
   "source": [
    "newdata['rating'].unique()"
   ]
  },
  {
   "cell_type": "code",
   "execution_count": null,
   "id": "753ad879",
   "metadata": {},
   "outputs": [
    {
     "data": {
      "text/plain": [
       "name                               0\n",
       "address                            0\n",
       "listed_in(type)_x                  0\n",
       "url                                0\n",
       "online_order                       0\n",
       "book_table                         0\n",
       "rate                            3383\n",
       "votes                              0\n",
       "phone                            399\n",
       "location                          12\n",
       "rest_type                        106\n",
       "dish_liked                     11999\n",
       "cuisines                          23\n",
       "approx_cost(for two people)       98\n",
       "reviews_list                       0\n",
       "menu_item                          0\n",
       "listed_in(type)_y                  0\n",
       "listed_in(city)                    0\n",
       "rating                          3383\n",
       "dtype: int64"
      ]
     },
     "execution_count": 135,
     "metadata": {},
     "output_type": "execute_result"
    }
   ],
   "source": [
    "newdata.isnull().sum()"
   ]
  },
  {
   "cell_type": "code",
   "execution_count": null,
   "id": "a0cb2fd8",
   "metadata": {},
   "outputs": [
    {
     "data": {
      "text/plain": [
       "(20915, 19)"
      ]
     },
     "execution_count": 136,
     "metadata": {},
     "output_type": "execute_result"
    }
   ],
   "source": [
    "newdata.shape"
   ]
  },
  {
   "cell_type": "code",
   "execution_count": null,
   "id": "ccd9b03d",
   "metadata": {},
   "outputs": [],
   "source": [
    "## bins = [1, 3.25, 4.1, 5.0]\n",
    "## it means if it is b/w 1 to 3.25, assign label as 0\n",
    "## if b/w 3.25 to 4.1, assign label as 1 & so on------\n",
    "\n",
    "newdata[\"rating\"]=pd.cut(newdata[\"rating\"], bins = [1, 3.25, 4.1, 5.0], labels = [\"0\", \"1\", \"2\"])"
   ]
  },
  {
   "cell_type": "code",
   "execution_count": null,
   "id": "66a8d55d",
   "metadata": {},
   "outputs": [
    {
     "data": {
      "text/plain": [
       "<AxesSubplot:xlabel='rating', ylabel='count'>"
      ]
     },
     "execution_count": 138,
     "metadata": {},
     "output_type": "execute_result"
    },
    {
     "data": {
      "image/png": "[encoded data removed]",
      "text/plain": [
       "<Figure size 720x360 with 1 Axes>"
      ]
     },
     "metadata": {
      "needs_background": "light"
     },
     "output_type": "display_data"
    }
   ],
   "source": [
    "# Visualizing the rating class distribution\n",
    "plt.figure(figsize = (10, 5))\n",
    "sns.countplot(newdata[\"rating\"])\n"
   ]
  },
  {
   "cell_type": "code",
   "execution_count": null,
   "id": "130e54ab",
   "metadata": {},
   "outputs": [
    {
     "data": {
      "text/html": [
       "<div>\n",
       "<style scoped>\n",
       "    .dataframe tbody tr th:only-of-type {\n",
       "        vertical-align: middle;\n",
       "    }\n",
       "\n",
       "    .dataframe tbody tr th {\n",
       "        vertical-align: top;\n",
       "    }\n",
       "\n",
       "    .dataframe thead th {\n",
       "        text-align: right;\n",
       "    }\n",
       "</style>\n",
       "<table border=\"1\" class=\"dataframe\">\n",
       "  <thead>\n",
       "    <tr style=\"text-align: right;\">\n",
       "      <th></th>\n",
       "      <th>name</th>\n",
       "      <th>address</th>\n",
       "      <th>listed_in(type)_x</th>\n",
       "      <th>url</th>\n",
       "      <th>online_order</th>\n",
       "      <th>book_table</th>\n",
       "      <th>rate</th>\n",
       "      <th>votes</th>\n",
       "      <th>phone</th>\n",
       "      <th>location</th>\n",
       "      <th>rest_type</th>\n",
       "      <th>dish_liked</th>\n",
       "      <th>cuisines</th>\n",
       "      <th>approx_cost(for two people)</th>\n",
       "      <th>reviews_list</th>\n",
       "      <th>menu_item</th>\n",
       "      <th>listed_in(type)_y</th>\n",
       "      <th>listed_in(city)</th>\n",
       "      <th>rating</th>\n",
       "    </tr>\n",
       "  </thead>\n",
       "  <tbody>\n",
       "    <tr>\n",
       "      <th>count</th>\n",
       "      <td>20915</td>\n",
       "      <td>20915</td>\n",
       "      <td>20915</td>\n",
       "      <td>20915</td>\n",
       "      <td>20915</td>\n",
       "      <td>20915</td>\n",
       "      <td>17532</td>\n",
       "      <td>20915.000000</td>\n",
       "      <td>20516</td>\n",
       "      <td>20903</td>\n",
       "      <td>20809</td>\n",
       "      <td>8916</td>\n",
       "      <td>20892</td>\n",
       "      <td>20817</td>\n",
       "      <td>20915</td>\n",
       "      <td>20915</td>\n",
       "      <td>20915</td>\n",
       "      <td>20915</td>\n",
       "      <td>16391</td>\n",
       "    </tr>\n",
       "    <tr>\n",
       "      <th>unique</th>\n",
       "      <td>8792</td>\n",
       "      <td>11495</td>\n",
       "      <td>927</td>\n",
       "      <td>20915</td>\n",
       "      <td>2</td>\n",
       "      <td>2</td>\n",
       "      <td>61</td>\n",
       "      <td>NaN</td>\n",
       "      <td>11999</td>\n",
       "      <td>93</td>\n",
       "      <td>93</td>\n",
       "      <td>4502</td>\n",
       "      <td>2630</td>\n",
       "      <td>70</td>\n",
       "      <td>12660</td>\n",
       "      <td>3693</td>\n",
       "      <td>7</td>\n",
       "      <td>30</td>\n",
       "      <td>3</td>\n",
       "    </tr>\n",
       "    <tr>\n",
       "      <th>top</th>\n",
       "      <td>Cafe Coffee Day</td>\n",
       "      <td>Delivery Only</td>\n",
       "      <td>[Delivery, Dine-out]</td>\n",
       "      <td>https://www.zomato.com/bangalore/punjabites-hs...</td>\n",
       "      <td>Yes</td>\n",
       "      <td>No</td>\n",
       "      <td>3.9/5</td>\n",
       "      <td>NaN</td>\n",
       "      <td>080 43334333</td>\n",
       "      <td>Whitefield</td>\n",
       "      <td>Quick Bites</td>\n",
       "      <td>Biryani</td>\n",
       "      <td>North Indian</td>\n",
       "      <td>300</td>\n",
       "      <td>[]</td>\n",
       "      <td>[]</td>\n",
       "      <td>Delivery</td>\n",
       "      <td>BTM</td>\n",
       "      <td>1</td>\n",
       "    </tr>\n",
       "    <tr>\n",
       "      <th>freq</th>\n",
       "      <td>78</td>\n",
       "      <td>36</td>\n",
       "      <td>2418</td>\n",
       "      <td>1</td>\n",
       "      <td>11605</td>\n",
       "      <td>18615</td>\n",
       "      <td>1181</td>\n",
       "      <td>NaN</td>\n",
       "      <td>93</td>\n",
       "      <td>1462</td>\n",
       "      <td>8007</td>\n",
       "      <td>78</td>\n",
       "      <td>1174</td>\n",
       "      <td>3005</td>\n",
       "      <td>3524</td>\n",
       "      <td>16766</td>\n",
       "      <td>9355</td>\n",
       "      <td>2379</td>\n",
       "      <td>11321</td>\n",
       "    </tr>\n",
       "    <tr>\n",
       "      <th>mean</th>\n",
       "      <td>NaN</td>\n",
       "      <td>NaN</td>\n",
       "      <td>NaN</td>\n",
       "      <td>NaN</td>\n",
       "      <td>NaN</td>\n",
       "      <td>NaN</td>\n",
       "      <td>NaN</td>\n",
       "      <td>246.105427</td>\n",
       "      <td>NaN</td>\n",
       "      <td>NaN</td>\n",
       "      <td>NaN</td>\n",
       "      <td>NaN</td>\n",
       "      <td>NaN</td>\n",
       "      <td>NaN</td>\n",
       "      <td>NaN</td>\n",
       "      <td>NaN</td>\n",
       "      <td>NaN</td>\n",
       "      <td>NaN</td>\n",
       "      <td>NaN</td>\n",
       "    </tr>\n",
       "    <tr>\n",
       "      <th>std</th>\n",
       "      <td>NaN</td>\n",
       "      <td>NaN</td>\n",
       "      <td>NaN</td>\n",
       "      <td>NaN</td>\n",
       "      <td>NaN</td>\n",
       "      <td>NaN</td>\n",
       "      <td>NaN</td>\n",
       "      <td>741.954538</td>\n",
       "      <td>NaN</td>\n",
       "      <td>NaN</td>\n",
       "      <td>NaN</td>\n",
       "      <td>NaN</td>\n",
       "      <td>NaN</td>\n",
       "      <td>NaN</td>\n",
       "      <td>NaN</td>\n",
       "      <td>NaN</td>\n",
       "      <td>NaN</td>\n",
       "      <td>NaN</td>\n",
       "      <td>NaN</td>\n",
       "    </tr>\n",
       "    <tr>\n",
       "      <th>min</th>\n",
       "      <td>NaN</td>\n",
       "      <td>NaN</td>\n",
       "      <td>NaN</td>\n",
       "      <td>NaN</td>\n",
       "      <td>NaN</td>\n",
       "      <td>NaN</td>\n",
       "      <td>NaN</td>\n",
       "      <td>0.000000</td>\n",
       "      <td>NaN</td>\n",
       "      <td>NaN</td>\n",
       "      <td>NaN</td>\n",
       "      <td>NaN</td>\n",
       "      <td>NaN</td>\n",
       "      <td>NaN</td>\n",
       "      <td>NaN</td>\n",
       "      <td>NaN</td>\n",
       "      <td>NaN</td>\n",
       "      <td>NaN</td>\n",
       "      <td>NaN</td>\n",
       "    </tr>\n",
       "    <tr>\n",
       "      <th>25%</th>\n",
       "      <td>NaN</td>\n",
       "      <td>NaN</td>\n",
       "      <td>NaN</td>\n",
       "      <td>NaN</td>\n",
       "      <td>NaN</td>\n",
       "      <td>NaN</td>\n",
       "      <td>NaN</td>\n",
       "      <td>5.000000</td>\n",
       "      <td>NaN</td>\n",
       "      <td>NaN</td>\n",
       "      <td>NaN</td>\n",
       "      <td>NaN</td>\n",
       "      <td>NaN</td>\n",
       "      <td>NaN</td>\n",
       "      <td>NaN</td>\n",
       "      <td>NaN</td>\n",
       "      <td>NaN</td>\n",
       "      <td>NaN</td>\n",
       "      <td>NaN</td>\n",
       "    </tr>\n",
       "    <tr>\n",
       "      <th>50%</th>\n",
       "      <td>NaN</td>\n",
       "      <td>NaN</td>\n",
       "      <td>NaN</td>\n",
       "      <td>NaN</td>\n",
       "      <td>NaN</td>\n",
       "      <td>NaN</td>\n",
       "      <td>NaN</td>\n",
       "      <td>34.000000</td>\n",
       "      <td>NaN</td>\n",
       "      <td>NaN</td>\n",
       "      <td>NaN</td>\n",
       "      <td>NaN</td>\n",
       "      <td>NaN</td>\n",
       "      <td>NaN</td>\n",
       "      <td>NaN</td>\n",
       "      <td>NaN</td>\n",
       "      <td>NaN</td>\n",
       "      <td>NaN</td>\n",
       "      <td>NaN</td>\n",
       "    </tr>\n",
       "    <tr>\n",
       "      <th>75%</th>\n",
       "      <td>NaN</td>\n",
       "      <td>NaN</td>\n",
       "      <td>NaN</td>\n",
       "      <td>NaN</td>\n",
       "      <td>NaN</td>\n",
       "      <td>NaN</td>\n",
       "      <td>NaN</td>\n",
       "      <td>167.000000</td>\n",
       "      <td>NaN</td>\n",
       "      <td>NaN</td>\n",
       "      <td>NaN</td>\n",
       "      <td>NaN</td>\n",
       "      <td>NaN</td>\n",
       "      <td>NaN</td>\n",
       "      <td>NaN</td>\n",
       "      <td>NaN</td>\n",
       "      <td>NaN</td>\n",
       "      <td>NaN</td>\n",
       "      <td>NaN</td>\n",
       "    </tr>\n",
       "    <tr>\n",
       "      <th>max</th>\n",
       "      <td>NaN</td>\n",
       "      <td>NaN</td>\n",
       "      <td>NaN</td>\n",
       "      <td>NaN</td>\n",
       "      <td>NaN</td>\n",
       "      <td>NaN</td>\n",
       "      <td>NaN</td>\n",
       "      <td>16345.000000</td>\n",
       "      <td>NaN</td>\n",
       "      <td>NaN</td>\n",
       "      <td>NaN</td>\n",
       "      <td>NaN</td>\n",
       "      <td>NaN</td>\n",
       "      <td>NaN</td>\n",
       "      <td>NaN</td>\n",
       "      <td>NaN</td>\n",
       "      <td>NaN</td>\n",
       "      <td>NaN</td>\n",
       "      <td>NaN</td>\n",
       "    </tr>\n",
       "  </tbody>\n",
       "</table>\n",
       "</div>"
      ],
      "text/plain": [
       "                   name        address     listed_in(type)_x  \\\n",
       "count             20915          20915                 20915   \n",
       "unique             8792          11495                   927   \n",
       "top     Cafe Coffee Day  Delivery Only  [Delivery, Dine-out]   \n",
       "freq                 78             36                  2418   \n",
       "mean                NaN            NaN                   NaN   \n",
       "std                 NaN            NaN                   NaN   \n",
       "min                 NaN            NaN                   NaN   \n",
       "25%                 NaN            NaN                   NaN   \n",
       "50%                 NaN            NaN                   NaN   \n",
       "75%                 NaN            NaN                   NaN   \n",
       "max                 NaN            NaN                   NaN   \n",
       "\n",
       "                                                      url online_order  \\\n",
       "count                                               20915        20915   \n",
       "unique                                              20915            2   \n",
       "top     https://www.zomato.com/bangalore/punjabites-hs...          Yes   \n",
       "freq                                                    1        11605   \n",
       "mean                                                  NaN          NaN   \n",
       "std                                                   NaN          NaN   \n",
       "min                                                   NaN          NaN   \n",
       "25%                                                   NaN          NaN   \n",
       "50%                                                   NaN          NaN   \n",
       "75%                                                   NaN          NaN   \n",
       "max                                                   NaN          NaN   \n",
       "\n",
       "       book_table   rate         votes         phone    location    rest_type  \\\n",
       "count       20915  17532  20915.000000         20516       20903        20809   \n",
       "unique          2     61           NaN         11999          93           93   \n",
       "top            No  3.9/5           NaN  080 43334333  Whitefield  Quick Bites   \n",
       "freq        18615   1181           NaN            93        1462         8007   \n",
       "mean          NaN    NaN    246.105427           NaN         NaN          NaN   \n",
       "std           NaN    NaN    741.954538           NaN         NaN          NaN   \n",
       "min           NaN    NaN      0.000000           NaN         NaN          NaN   \n",
       "25%           NaN    NaN      5.000000           NaN         NaN          NaN   \n",
       "50%           NaN    NaN     34.000000           NaN         NaN          NaN   \n",
       "75%           NaN    NaN    167.000000           NaN         NaN          NaN   \n",
       "max           NaN    NaN  16345.000000           NaN         NaN          NaN   \n",
       "\n",
       "       dish_liked      cuisines approx_cost(for two people) reviews_list  \\\n",
       "count        8916         20892                       20817        20915   \n",
       "unique       4502          2630                          70        12660   \n",
       "top       Biryani  North Indian                         300           []   \n",
       "freq           78          1174                        3005         3524   \n",
       "mean          NaN           NaN                         NaN          NaN   \n",
       "std           NaN           NaN                         NaN          NaN   \n",
       "min           NaN           NaN                         NaN          NaN   \n",
       "25%           NaN           NaN                         NaN          NaN   \n",
       "50%           NaN           NaN                         NaN          NaN   \n",
       "75%           NaN           NaN                         NaN          NaN   \n",
       "max           NaN           NaN                         NaN          NaN   \n",
       "\n",
       "       menu_item listed_in(type)_y listed_in(city) rating  \n",
       "count      20915             20915           20915  16391  \n",
       "unique      3693                 7              30      3  \n",
       "top           []          Delivery             BTM      1  \n",
       "freq       16766              9355            2379  11321  \n",
       "mean         NaN               NaN             NaN    NaN  \n",
       "std          NaN               NaN             NaN    NaN  \n",
       "min          NaN               NaN             NaN    NaN  \n",
       "25%          NaN               NaN             NaN    NaN  \n",
       "50%          NaN               NaN             NaN    NaN  \n",
       "75%          NaN               NaN             NaN    NaN  \n",
       "max          NaN               NaN             NaN    NaN  "
      ]
     },
     "execution_count": 139,
     "metadata": {},
     "output_type": "execute_result"
    }
   ],
   "source": [
    "# Summary statistics\n",
    "newdata.describe(include = \"all\")"
   ]
  },
  {
   "cell_type": "code",
   "execution_count": null,
   "id": "04c661a2",
   "metadata": {},
   "outputs": [
    {
     "data": {
      "text/plain": [
       "'[(\\'Rated 5.0\\', \"RATED\\\\n  Had an egg chicken roll and a paneer roll... Really yummy... A must visit place... It would be good if you guys can keep the shop open on Sunday\\'s as well.. Good luck... :-)\"), (\\'Rated 5.0\\', \\'RATED\\\\n  Not just the Roll but the filling tastes great. I would highly recommend to others to try their rolls. Owners hospitality is also good and very friendly.\\'), (\\'Rated 4.5\\', \\'RATED\\\\n  Very nice place complete value for money ? Highly recommend.Must visit for any foodie . I would recommend the egg chicken roll . #feeltheroll\\'), (\\'Rated 5.0\\', \\'RATED\\\\n  Had an amazing mouth-watering ?chicken roll?Worth every bite..A must try for every foodie?A variety of rolls and sandwiches are available as well .. A budding rafflesia ?\\')]'"
      ]
     },
     "execution_count": 140,
     "metadata": {},
     "output_type": "execute_result"
    }
   ],
   "source": [
    "newdata['reviews_list'][0]"
   ]
  },
  {
   "cell_type": "code",
   "execution_count": null,
   "id": "f86bf23f",
   "metadata": {},
   "outputs": [
    {
     "data": {
      "text/plain": [
       "'[(\\'rated 5.0\\', \"rated\\\\n  had an egg chicken roll and a paneer roll... really yummy... a must visit place... it would be good if you guys can keep the shop open on sunday\\'s as well.. good luck... :-)\"), (\\'rated 5.0\\', \\'rated\\\\n  not just the roll but the filling tastes great. i would highly recommend to others to try their rolls. owners hospitality is also good and very friendly.\\'), (\\'rated 4.5\\', \\'rated\\\\n  very nice place complete value for money ? highly recommend.must visit for any foodie . i would recommend the egg chicken roll . #feeltheroll\\'), (\\'rated 5.0\\', \\'rated\\\\n  had an amazing mouth-watering ?chicken roll?worth every bite..a must try for every foodie?a variety of rolls and sandwiches are available as well .. a budding rafflesia ?\\')]'"
      ]
     },
     "execution_count": 141,
     "metadata": {},
     "output_type": "execute_result"
    }
   ],
   "source": [
    "rev = newdata['reviews_list'][0].lower()\n",
    "rev"
   ]
  },
  {
   "cell_type": "code",
   "execution_count": null,
   "id": "53e7e8c7",
   "metadata": {},
   "outputs": [
    {
     "data": {
      "text/plain": [
       "'   rated        rated n  had an egg chicken roll and a paneer roll    really yummy    a must visit place    it would be good if you guys can keep the shop open on sunday s as well   good luck             rated        rated n  not just the roll but the filling tastes great  i would highly recommend to others to try their rolls  owners hospitality is also good and very friendly       rated        rated n  very nice place complete value for money   highly recommend must visit for any foodie   i would recommend the egg chicken roll    feeltheroll      rated        rated n  had an amazing mouth watering  chicken roll worth every bite  a must try for every foodie a variety of rolls and sandwiches are available as well    a budding rafflesia     '"
      ]
     },
     "execution_count": 142,
     "metadata": {},
     "output_type": "execute_result"
    }
   ],
   "source": [
    "import re\n",
    "rev2 = re.sub('[^a-zA-Z]', ' ',rev)\n",
    "rev2"
   ]
  },
  {
   "cell_type": "code",
   "execution_count": null,
   "id": "1aba0dec",
   "metadata": {},
   "outputs": [
    {
     "data": {
      "text/plain": [
       "'              n  had an egg chicken roll and a paneer roll    really yummy    a must visit place    it would be good if you guys can keep the shop open on sunday s as well   good luck                        n  not just the roll but the filling tastes great  i would highly recommend to others to try their rolls  owners hospitality is also good and very friendly                  n  very nice place complete value for money   highly recommend must visit for any foodie   i would recommend the egg chicken roll    feeltheroll                 n  had an amazing mouth watering  chicken roll worth every bite  a must try for every foodie a variety of rolls and sandwiches are available as well    a budding rafflesia     '"
      ]
     },
     "execution_count": 143,
     "metadata": {},
     "output_type": "execute_result"
    }
   ],
   "source": [
    "rev3=re.sub('rated', ' ',rev2)\n",
    "rev3"
   ]
  },
  {
   "cell_type": "code",
   "execution_count": null,
   "id": "cedf61e9",
   "metadata": {},
   "outputs": [
    {
     "data": {
      "text/plain": [
       "'              n  had an egg chicken roll and a paneer roll    really yummy    a must visit place    it would be good if you guys can keep the shop open on sunday s as well   good luck                        n  not just the roll but the filling tastes great  i would highly recommend to others to try their rolls  owners hospitality is also good and very friendly                  n  very nice place complete value for money   highly recommend must visit for any foodie   i would recommend the egg chicken roll    feeltheroll                 n  had an amazing mouth watering  chicken roll worth every bite  a must try for every foodie a variety of rolls and sandwiches are available as well    a budding rafflesia     '"
      ]
     },
     "execution_count": 144,
     "metadata": {},
     "output_type": "execute_result"
    }
   ],
   "source": [
    "rev4=re.sub('x',' ',rev3)\n",
    "rev4"
   ]
  },
  {
   "cell_type": "markdown",
   "id": "4a5d04b7",
   "metadata": {},
   "source": [
    "    remove multiple spaces"
   ]
  },
  {
   "cell_type": "code",
   "execution_count": null,
   "id": "a5dd82fb",
   "metadata": {},
   "outputs": [
    {
     "data": {
      "text/plain": [
       "' n had an egg chicken roll and a paneer roll really yummy a must visit place it would be good if you guys can keep the shop open on sunday s as well good luck n not just the roll but the filling tastes great i would highly recommend to others to try their rolls owners hospitality is also good and very friendly n very nice place complete value for money highly recommend must visit for any foodie i would recommend the egg chicken roll feeltheroll n had an amazing mouth watering chicken roll worth every bite a must try for every foodie a variety of rolls and sandwiches are available as well a budding rafflesia '"
      ]
     },
     "execution_count": 145,
     "metadata": {},
     "output_type": "execute_result"
    }
   ],
   "source": [
    "rev5=re.sub(' +',' ',rev4)\n",
    "rev5"
   ]
  },
  {
   "cell_type": "code",
   "execution_count": null,
   "id": "9e54b186",
   "metadata": {},
   "outputs": [
    {
     "data": {
      "text/plain": [
       "(20915, 19)"
      ]
     },
     "execution_count": 146,
     "metadata": {},
     "output_type": "execute_result"
    }
   ],
   "source": [
    "newdata.shape"
   ]
  },
  {
   "cell_type": "code",
   "execution_count": null,
   "id": "8071ea8b",
   "metadata": {},
   "outputs": [],
   "source": [
    "sample = newdata.sample(n=2000)"
   ]
  },
  {
   "cell_type": "code",
   "execution_count": null,
   "id": "f3a46d6a",
   "metadata": {},
   "outputs": [],
   "source": [
    "total_review = ' '\n",
    "for review in sample['reviews_list']:\n",
    "    review=review.lower()\n",
    "    review=re.sub('[^a-zA-Z]', ' ',review)\n",
    "    review=re.sub('rated', ' ',review)\n",
    "    review=re.sub('x',' ',review)\n",
    "    review=re.sub(' +',' ',review)\n",
    "    total_review=total_review + str(review)"
   ]
  },
  {
   "cell_type": "markdown",
   "id": "ee0ece84",
   "metadata": {},
   "source": [
    "## generate wordcloud"
   ]
  },
  {
   "cell_type": "code",
   "execution_count": null,
   "id": "49750b3a",
   "metadata": {},
   "outputs": [],
   "source": [
    "import wordcloud\n",
    "from wordcloud import WordCloud,STOPWORDS"
   ]
  },
  {
   "cell_type": "code",
   "execution_count": null,
   "id": "57f46111",
   "metadata": {},
   "outputs": [],
   "source": [
    "stopwords=set(STOPWORDS)"
   ]
  },
  {
   "cell_type": "code",
   "execution_count": null,
   "id": "4d85d619",
   "metadata": {},
   "outputs": [
    {
     "data": {
      "text/plain": [
       "(-0.5, 799.5, 799.5, -0.5)"
      ]
     },
     "execution_count": 151,
     "metadata": {},
     "output_type": "execute_result"
    },
    {
     "data": {
      "image/png": "[encoded data removed]",
      "text/plain": [
       "<Figure size 720x720 with 1 Axes>"
      ]
     },
     "metadata": {
      "needs_background": "light"
     },
     "output_type": "display_data"
    }
   ],
   "source": [
    "wordcloud = WordCloud(width= 800, height= 800,\n",
    "                background_color='white',\n",
    "                stopwords=stopwords,\n",
    "                min_font_size= 10).generate(total_review)\n",
    "#plot the WordCloud Image\n",
    "plt.figure(figsize = (10, 10))\n",
    "plt.imshow(wordcloud)\n",
    "plt.axis(\"off\")"
   ]
  },
  {
   "cell_type": "markdown",
   "id": "04918b17",
   "metadata": {},
   "source": [
    "    Observations\n",
    "    Of the 50 most frequent words across customer reviews, best are: place,food,taste,ambience,good..\n",
    "    The only negative word in the top 50 is \"bad\"."
   ]
  },
  {
   "cell_type": "code",
   "execution_count": null,
   "id": "5411baad",
   "metadata": {},
   "outputs": [],
   "source": [
    "from nltk.corpus import RegexpTokenizer as regextoken"
   ]
  },
  {
   "cell_type": "code",
   "execution_count": null,
   "id": "f7bae649",
   "metadata": {},
   "outputs": [
    {
     "data": {
      "text/plain": [
       "'\\ndef apply_lower(x):\\n    return x.lower()\\n newdata[\"reviews_list\"] = newdata[\"reviews_list\"].apply(apply_lower)\\n   \\n\\n'"
      ]
     },
     "execution_count": 153,
     "metadata": {},
     "output_type": "execute_result"
    }
   ],
   "source": [
    "# Converting all the text to lowercase\n",
    "\n",
    "newdata['reviews_list'] = newdata['reviews_list'].apply(lambda x: x.lower())\n",
    " \n",
    "#another method for converting lowercase\n",
    "\n",
    "'''\n",
    "def apply_lower(x):\n",
    "    return x.lower()\n",
    " newdata[\"reviews_list\"] = newdata[\"reviews_list\"].apply(apply_lower)\n",
    "   \n",
    "\n",
    "'''"
   ]
  },
  {
   "cell_type": "code",
   "execution_count": null,
   "id": "971125d3",
   "metadata": {},
   "outputs": [],
   "source": [
    "##  Creating a regular expression tokenizer that have only alphabets , ie it remove all the special characters\n",
    "\n",
    "\n",
    "tokenizer = regextoken(\"[a-zA-Z]+\") "
   ]
  },
  {
   "cell_type": "code",
   "execution_count": null,
   "id": "5abeac7d",
   "metadata": {},
   "outputs": [
    {
     "data": {
      "text/plain": [
       "RegexpTokenizer(pattern='[a-zA-Z]+', gaps=False, discard_empty=True, flags=re.UNICODE|re.MULTILINE|re.DOTALL)"
      ]
     },
     "execution_count": 155,
     "metadata": {},
     "output_type": "execute_result"
    }
   ],
   "source": [
    "tokenizer"
   ]
  },
  {
   "cell_type": "code",
   "execution_count": null,
   "id": "42a0ee52",
   "metadata": {},
   "outputs": [
    {
     "data": {
      "text/plain": [
       "'[(\\'rated 5.0\\', \"rated\\\\n  had an egg chicken roll and a paneer roll... really yummy... a must visit place... it would be good if you guys can keep the shop open on sunday\\'s as well.. good luck... :-)\"), (\\'rated 5.0\\', \\'rated\\\\n  not just the roll but the filling tastes great. i would highly recommend to others to try their rolls. owners hospitality is also good and very friendly.\\'), (\\'rated 4.5\\', \\'rated\\\\n  very nice place complete value for money ? highly recommend.must visit for any foodie . i would recommend the egg chicken roll . #feeltheroll\\'), (\\'rated 5.0\\', \\'rated\\\\n  had an amazing mouth-watering ?chicken roll?worth every bite..a must try for every foodie?a variety of rolls and sandwiches are available as well .. a budding rafflesia ?\\')]'"
      ]
     },
     "execution_count": 156,
     "metadata": {},
     "output_type": "execute_result"
    }
   ],
   "source": [
    "newdata[\"reviews_list\"][0]"
   ]
  },
  {
   "cell_type": "code",
   "execution_count": null,
   "id": "75a8c8a1",
   "metadata": {},
   "outputs": [
    {
     "name": "stdout",
     "output_type": "stream",
     "text": [
      "['rated', 'rated', 'n', 'had', 'an', 'egg', 'chicken', 'roll', 'and', 'a', 'paneer', 'roll', 'really', 'yummy', 'a', 'must', 'visit', 'place', 'it', 'would', 'be', 'good', 'if', 'you', 'guys', 'can', 'keep', 'the', 'shop', 'open', 'on', 'sunday', 's', 'as', 'well', 'good', 'luck', 'rated', 'rated', 'n', 'not', 'just', 'the', 'roll', 'but', 'the', 'filling', 'tastes', 'great', 'i', 'would', 'highly', 'recommend', 'to', 'others', 'to', 'try', 'their', 'rolls', 'owners', 'hospitality', 'is', 'also', 'good', 'and', 'very', 'friendly', 'rated', 'rated', 'n', 'very', 'nice', 'place', 'complete', 'value', 'for', 'money', 'highly', 'recommend', 'must', 'visit', 'for', 'any', 'foodie', 'i', 'would', 'recommend', 'the', 'egg', 'chicken', 'roll', 'feeltheroll', 'rated', 'rated', 'n', 'had', 'an', 'amazing', 'mouth', 'watering', 'chicken', 'roll', 'worth', 'every', 'bite', 'a', 'must', 'try', 'for', 'every', 'foodie', 'a', 'variety', 'of', 'rolls', 'and', 'sandwiches', 'are', 'available', 'as', 'well', 'a', 'budding', 'rafflesia']\n"
     ]
    }
   ],
   "source": [
    "## tokenize data of very first review\n",
    "print(tokenizer.tokenize(newdata[\"reviews_list\"][0]))"
   ]
  },
  {
   "cell_type": "code",
   "execution_count": null,
   "id": "64e66052",
   "metadata": {},
   "outputs": [],
   "source": [
    "# Applying the tokenizer to each row of the reviews\n",
    "review_tokens = newdata[\"reviews_list\"].apply(tokenizer.tokenize)"
   ]
  },
  {
   "cell_type": "code",
   "execution_count": null,
   "id": "cfd328bd",
   "metadata": {},
   "outputs": [
    {
     "name": "stdout",
     "output_type": "stream",
     "text": [
      "['rated', 'rated', 'n', 'had', 'an', 'egg', 'chicken', 'roll', 'and', 'a', 'paneer', 'roll', 'really', 'yummy', 'a', 'must', 'visit', 'place', 'it', 'would', 'be', 'good', 'if', 'you', 'guys', 'can', 'keep', 'the', 'shop', 'open', 'on', 'sunday', 's', 'as', 'well', 'good', 'luck', 'rated', 'rated', 'n', 'not', 'just', 'the', 'roll', 'but', 'the', 'filling', 'tastes', 'great', 'i', 'would', 'highly', 'recommend', 'to', 'others', 'to', 'try', 'their', 'rolls', 'owners', 'hospitality', 'is', 'also', 'good', 'and', 'very', 'friendly', 'rated', 'rated', 'n', 'very', 'nice', 'place', 'complete', 'value', 'for', 'money', 'highly', 'recommend', 'must', 'visit', 'for', 'any', 'foodie', 'i', 'would', 'recommend', 'the', 'egg', 'chicken', 'roll', 'feeltheroll', 'rated', 'rated', 'n', 'had', 'an', 'amazing', 'mouth', 'watering', 'chicken', 'roll', 'worth', 'every', 'bite', 'a', 'must', 'try', 'for', 'every', 'foodie', 'a', 'variety', 'of', 'rolls', 'and', 'sandwiches', 'are', 'available', 'as', 'well', 'a', 'budding', 'rafflesia']\n"
     ]
    }
   ],
   "source": [
    "# Examining the tokens created for the first row / restaurant\n",
    "print(review_tokens[0])"
   ]
  },
  {
   "cell_type": "markdown",
   "id": "59d5e770",
   "metadata": {},
   "source": [
    "### now from this above list,we will figure out we have some stopwords, it means we have to remove these stopwords like an,and,it etc"
   ]
  },
  {
   "cell_type": "code",
   "execution_count": null,
   "id": "fd6c0fc7",
   "metadata": {},
   "outputs": [
    {
     "name": "stderr",
     "output_type": "stream",
     "text": [
      "[nltk_data] Downloading package stopwords to\n",
      "[nltk_data]     C:\\Users\\Admin\\AppData\\Roaming\\nltk_data...\n",
      "[nltk_data]   Package stopwords is already up-to-date!\n"
     ]
    },
    {
     "data": {
      "text/plain": [
       "True"
      ]
     },
     "execution_count": 160,
     "metadata": {},
     "output_type": "execute_result"
    }
   ],
   "source": [
    "from nltk.corpus import stopwords\n",
    "import nltk\n",
    "nltk.download('stopwords')"
   ]
  },
  {
   "cell_type": "code",
   "execution_count": null,
   "id": "25c37550",
   "metadata": {},
   "outputs": [
    {
     "name": "stdout",
     "output_type": "stream",
     "text": [
      "['i', 'me', 'my', 'myself', 'we', 'our', 'ours', 'ourselves', 'you', \"you're\", \"you've\", \"you'll\", \"you'd\", 'your', 'yours', 'yourself', 'yourselves', 'he', 'him', 'his', 'himself', 'she', \"she's\", 'her', 'hers', 'herself', 'it', \"it's\", 'its', 'itself', 'they', 'them', 'their', 'theirs', 'themselves', 'what', 'which', 'who', 'whom', 'this', 'that', \"that'll\", 'these', 'those', 'am', 'is', 'are', 'was', 'were', 'be', 'been', 'being', 'have', 'has', 'had', 'having', 'do', 'does', 'did', 'doing', 'a', 'an', 'the', 'and', 'but', 'if', 'or', 'because', 'as', 'until', 'while', 'of', 'at', 'by', 'for', 'with', 'about', 'against', 'between', 'into', 'through', 'during', 'before', 'after', 'above', 'below', 'to', 'from', 'up', 'down', 'in', 'out', 'on', 'off', 'over', 'under', 'again', 'further', 'then', 'once', 'here', 'there', 'when', 'where', 'why', 'how', 'all', 'any', 'both', 'each', 'few', 'more', 'most', 'other', 'some', 'such', 'no', 'nor', 'not', 'only', 'own', 'same', 'so', 'than', 'too', 'very', 's', 't', 'can', 'will', 'just', 'don', \"don't\", 'should', \"should've\", 'now', 'd', 'll', 'm', 'o', 're', 've', 'y', 'ain', 'aren', \"aren't\", 'couldn', \"couldn't\", 'didn', \"didn't\", 'doesn', \"doesn't\", 'hadn', \"hadn't\", 'hasn', \"hasn't\", 'haven', \"haven't\", 'isn', \"isn't\", 'ma', 'mightn', \"mightn't\", 'mustn', \"mustn't\", 'needn', \"needn't\", 'shan', \"shan't\", 'shouldn', \"shouldn't\", 'wasn', \"wasn't\", 'weren', \"weren't\", 'won', \"won't\", 'wouldn', \"wouldn't\"]\n"
     ]
    }
   ],
   "source": [
    "stop = stopwords.words(\"english\")\n",
    "print(stop)"
   ]
  },
  {
   "cell_type": "markdown",
   "id": "75fd3e35",
   "metadata": {},
   "source": [
    "### we will figure out there are some more stopwords in my data, that we can add it to my stop list"
   ]
  },
  {
   "cell_type": "code",
   "execution_count": null,
   "id": "5eb02ddb",
   "metadata": {},
   "outputs": [],
   "source": [
    "# Adding custom words to stopwords \n",
    "stop.extend([\"rated\", \"n\", \"nan\", \"x\"])"
   ]
  },
  {
   "cell_type": "code",
   "execution_count": null,
   "id": "917c84dc",
   "metadata": {},
   "outputs": [
    {
     "name": "stdout",
     "output_type": "stream",
     "text": [
      "['i', 'me', 'my', 'myself', 'we', 'our', 'ours', 'ourselves', 'you', \"you're\", \"you've\", \"you'll\", \"you'd\", 'your', 'yours', 'yourself', 'yourselves', 'he', 'him', 'his', 'himself', 'she', \"she's\", 'her', 'hers', 'herself', 'it', \"it's\", 'its', 'itself', 'they', 'them', 'their', 'theirs', 'themselves', 'what', 'which', 'who', 'whom', 'this', 'that', \"that'll\", 'these', 'those', 'am', 'is', 'are', 'was', 'were', 'be', 'been', 'being', 'have', 'has', 'had', 'having', 'do', 'does', 'did', 'doing', 'a', 'an', 'the', 'and', 'but', 'if', 'or', 'because', 'as', 'until', 'while', 'of', 'at', 'by', 'for', 'with', 'about', 'against', 'between', 'into', 'through', 'during', 'before', 'after', 'above', 'below', 'to', 'from', 'up', 'down', 'in', 'out', 'on', 'off', 'over', 'under', 'again', 'further', 'then', 'once', 'here', 'there', 'when', 'where', 'why', 'how', 'all', 'any', 'both', 'each', 'few', 'more', 'most', 'other', 'some', 'such', 'no', 'nor', 'not', 'only', 'own', 'same', 'so', 'than', 'too', 'very', 's', 't', 'can', 'will', 'just', 'don', \"don't\", 'should', \"should've\", 'now', 'd', 'll', 'm', 'o', 're', 've', 'y', 'ain', 'aren', \"aren't\", 'couldn', \"couldn't\", 'didn', \"didn't\", 'doesn', \"doesn't\", 'hadn', \"hadn't\", 'hasn', \"hasn't\", 'haven', \"haven't\", 'isn', \"isn't\", 'ma', 'mightn', \"mightn't\", 'mustn', \"mustn't\", 'needn', \"needn't\", 'shan', \"shan't\", 'shouldn', \"shouldn't\", 'wasn', \"wasn't\", 'weren', \"weren't\", 'won', \"won't\", 'wouldn', \"wouldn't\", 'rated', 'n', 'nan', 'x']\n"
     ]
    }
   ],
   "source": [
    "print(stop)"
   ]
  },
  {
   "cell_type": "code",
   "execution_count": null,
   "id": "45f0b6fd",
   "metadata": {},
   "outputs": [
    {
     "name": "stdout",
     "output_type": "stream",
     "text": [
      "['rated', 'rated', 'n', 'had', 'an', 'egg', 'chicken', 'roll', 'and', 'a', 'paneer', 'roll', 'really', 'yummy', 'a', 'must', 'visit', 'place', 'it', 'would', 'be', 'good', 'if', 'you', 'guys', 'can', 'keep', 'the', 'shop', 'open', 'on', 'sunday', 's', 'as', 'well', 'good', 'luck', 'rated', 'rated', 'n', 'not', 'just', 'the', 'roll', 'but', 'the', 'filling', 'tastes', 'great', 'i', 'would', 'highly', 'recommend', 'to', 'others', 'to', 'try', 'their', 'rolls', 'owners', 'hospitality', 'is', 'also', 'good', 'and', 'very', 'friendly', 'rated', 'rated', 'n', 'very', 'nice', 'place', 'complete', 'value', 'for', 'money', 'highly', 'recommend', 'must', 'visit', 'for', 'any', 'foodie', 'i', 'would', 'recommend', 'the', 'egg', 'chicken', 'roll', 'feeltheroll', 'rated', 'rated', 'n', 'had', 'an', 'amazing', 'mouth', 'watering', 'chicken', 'roll', 'worth', 'every', 'bite', 'a', 'must', 'try', 'for', 'every', 'foodie', 'a', 'variety', 'of', 'rolls', 'and', 'sandwiches', 'are', 'available', 'as', 'well', 'a', 'budding', 'rafflesia']\n"
     ]
    }
   ],
   "source": [
    "### with respect to very first row, how to remove stopwords\n",
    "rev=review_tokens[0]\n",
    "print(rev)"
   ]
  },
  {
   "cell_type": "code",
   "execution_count": null,
   "id": "64f6a108",
   "metadata": {},
   "outputs": [
    {
     "name": "stdout",
     "output_type": "stream",
     "text": [
      "['egg', 'chicken', 'roll', 'paneer', 'roll', 'really', 'yummy', 'must', 'visit', 'place', 'would', 'good', 'guys', 'keep', 'shop', 'open', 'sunday', 'well', 'good', 'luck', 'roll', 'filling', 'tastes', 'great', 'would', 'highly', 'recommend', 'others', 'try', 'rolls', 'owners', 'hospitality', 'also', 'good', 'friendly', 'nice', 'place', 'complete', 'value', 'money', 'highly', 'recommend', 'must', 'visit', 'foodie', 'would', 'recommend', 'egg', 'chicken', 'roll', 'feeltheroll', 'amazing', 'mouth', 'watering', 'chicken', 'roll', 'worth', 'every', 'bite', 'must', 'try', 'every', 'foodie', 'variety', 'rolls', 'sandwiches', 'available', 'well', 'budding', 'rafflesia']\n"
     ]
    }
   ],
   "source": [
    "print([token for token in rev if token not in stop])"
   ]
  },
  {
   "cell_type": "code",
   "execution_count": null,
   "id": "4b64520c",
   "metadata": {},
   "outputs": [],
   "source": [
    "### using function"
   ]
  },
  {
   "cell_type": "code",
   "execution_count": null,
   "id": "d71710b7",
   "metadata": {},
   "outputs": [],
   "source": [
    "def remove_stopwords(text):\n",
    "    updated_text = [token for token in text if token not in stop]\n",
    "    return updated_text"
   ]
  },
  {
   "cell_type": "code",
   "execution_count": 168,
   "id": "2981b0bb",
   "metadata": {},
   "outputs": [],
   "source": [
    "review_tokens=review_tokens.apply(remove_stopwords)"
   ]
  },
  {
   "cell_type": "code",
   "execution_count": 169,
   "id": "fbfa6ff9",
   "metadata": {},
   "outputs": [
    {
     "data": {
      "text/plain": [
       "pandas.core.series.Series"
      ]
     },
     "execution_count": 169,
     "metadata": {},
     "output_type": "execute_result"
    }
   ],
   "source": [
    "type(review_tokens)"
   ]
  },
  {
   "cell_type": "code",
   "execution_count": 170,
   "id": "0ff7040f",
   "metadata": {},
   "outputs": [
    {
     "name": "stdout",
     "output_type": "stream",
     "text": [
      "['egg', 'chicken', 'roll', 'paneer', 'roll', 'really', 'yummy', 'must', 'visit', 'place', 'would', 'good', 'guys', 'keep', 'shop', 'open', 'sunday', 'well', 'good', 'luck', 'roll', 'filling', 'tastes', 'great', 'would', 'highly', 'recommend', 'others', 'try', 'rolls', 'owners', 'hospitality', 'also', 'good', 'friendly', 'nice', 'place', 'complete', 'value', 'money', 'highly', 'recommend', 'must', 'visit', 'foodie', 'would', 'recommend', 'egg', 'chicken', 'roll', 'feeltheroll', 'amazing', 'mouth', 'watering', 'chicken', 'roll', 'worth', 'every', 'bite', 'must', 'try', 'every', 'foodie', 'variety', 'rolls', 'sandwiches', 'available', 'well', 'budding', 'rafflesia']\n"
     ]
    }
   ],
   "source": [
    "print(review_tokens[0])"
   ]
  },
  {
   "cell_type": "code",
   "execution_count": 171,
   "id": "0c380add",
   "metadata": {},
   "outputs": [
    {
     "name": "stdout",
     "output_type": "stream",
     "text": [
      "['little', 'cafe', 'set', 'beautiful', 'location', 'ambiance', 'good', 'nthe', 'burger', 'filled', 'taste', 'chicken', 'nthe', 'banana', 'chocolate', 'sandwich', 'variety', 'would', 'never', 'find', 'restaurants', 'bangalore', 'drinks', 'wonderful', 'lot', 'flavours', 'choose', 'nit', 'took', 'little', 'time', 'expected', 'food', 'served', 'table', 'nall', 'dishes', 'seemed', 'priced', 'moderately', 'well', 'nfood', 'nambiance', 'nservice', 'ntheir', 'chefs', 'brilliant', 'job', 'creating', 'new', 'dishes', 'variety', 'na', 'wonderful', 'place', 'friends', 'cozy', 'cafe', 'near', 'silk', 'board', 'came', 'boarding', 'bus', 'totally', 'open', 'air', 'especially', 'comfortable', 'night', 'staff', 'friendly', 'serve', 'food', 'fast', 'quite', 'cheap', 'good', 'bite', 'ncons', 'come', 'weather', 'good', 'toilets', 'lights', 'ni', 'recommend', 'beetroot', 'juice', 'nice', 'place', 'hang', 'open', 'space', 'must', 'visit', 'place', 'night', 'looks', 'awesome', 'food', 'items', 'tasty', 'friend', 'ordered', 'onion', 'pakoda', 'masala', 'soda', 'rose', 'falooda', 'corn', 'sandwich', 'chocolate', 'sandwich', 'items', 'tasty', 'love', 'visit', 'place', 'love', 'ambiance', 'perfect', 'way', 'spend', 'sunday', 'food', 'really', 'good', 'value', 'money', 'even', 'shakes', 'delicious', 'must', 'visit', 'nature', 'lovers', 'amazing', 'beautiful', 'place', 'calm', 'area', 'hsr', 'usually', 'comes', 'office', 'breaks', 'hard', 'realise', 'l', 'serves', 'food', 'snacks', 'shakes', 'shakes', 'really', 'well', 'tried', 'lassi', 'dark', 'chocolate', 'ice', 'cream', 'day', 'lassi', 'nice', 'icecream', 'usual', 'hearts', 'place', 'fresh', 'air', 'decent', 'builtup', 'style']\n"
     ]
    }
   ],
   "source": [
    "print(review_tokens[1])"
   ]
  },
  {
   "cell_type": "code",
   "execution_count": 172,
   "id": "ac9e1ed4",
   "metadata": {},
   "outputs": [
    {
     "data": {
      "text/plain": [
       "20915"
      ]
     },
     "execution_count": 172,
     "metadata": {},
     "output_type": "execute_result"
    }
   ],
   "source": [
    "len(review_tokens)"
   ]
  },
  {
   "cell_type": "code",
   "execution_count": 173,
   "id": "ad1705e1",
   "metadata": {},
   "outputs": [],
   "source": [
    "# Concatenating all the reviews as I have to count frequency of each word\n",
    "all_reviews = review_tokens.astype(str).str.cat()"
   ]
  },
  {
   "cell_type": "code",
   "execution_count": 174,
   "id": "9069b5a7",
   "metadata": {},
   "outputs": [
    {
     "data": {
      "text/plain": [
       "\"['egg', 'chicken', 'roll', 'paneer', 'roll', 'really', 'yummy', 'must', 'visit', 'place', 'would', 'good', 'guys', 'keep', 'shop', 'open', 'sunday', 'well', 'good', 'luck', 'roll', 'filling', 'tastes'\""
      ]
     },
     "execution_count": 174,
     "metadata": {},
     "output_type": "execute_result"
    }
   ],
   "source": [
    "all_reviews[0:200]"
   ]
  },
  {
   "cell_type": "code",
   "execution_count": 175,
   "id": "9baedadf",
   "metadata": {},
   "outputs": [
    {
     "data": {
      "text/plain": [
       "str"
      ]
     },
     "execution_count": 175,
     "metadata": {},
     "output_type": "execute_result"
    }
   ],
   "source": [
    "type(all_reviews)"
   ]
  },
  {
   "cell_type": "code",
   "execution_count": 176,
   "id": "38ee1b52",
   "metadata": {},
   "outputs": [
    {
     "data": {
      "text/plain": [
       "129341038"
      ]
     },
     "execution_count": 176,
     "metadata": {},
     "output_type": "execute_result"
    }
   ],
   "source": [
    "len(all_reviews)"
   ]
  },
  {
   "cell_type": "code",
   "execution_count": 177,
   "id": "70de23c5",
   "metadata": {},
   "outputs": [],
   "source": [
    "## perform tokenization to convert your string(all_reviews) into list,so that we will count frequency of words\n",
    "cleaned_reviews = tokenizer.tokenize(all_reviews)"
   ]
  },
  {
   "cell_type": "code",
   "execution_count": 178,
   "id": "fce6a7be",
   "metadata": {},
   "outputs": [
    {
     "data": {
      "text/plain": [
       "13376224"
      ]
     },
     "execution_count": 178,
     "metadata": {},
     "output_type": "execute_result"
    }
   ],
   "source": [
    "len(cleaned_reviews)"
   ]
  },
  {
   "cell_type": "code",
   "execution_count": 179,
   "id": "b508042f",
   "metadata": {},
   "outputs": [
    {
     "data": {
      "text/plain": [
       "list"
      ]
     },
     "execution_count": 179,
     "metadata": {},
     "output_type": "execute_result"
    }
   ],
   "source": [
    "type(cleaned_reviews)"
   ]
  },
  {
   "cell_type": "code",
   "execution_count": 180,
   "id": "5999c58b",
   "metadata": {},
   "outputs": [
    {
     "name": "stdout",
     "output_type": "stream",
     "text": [
      "['egg', 'chicken', 'roll', 'paneer', 'roll', 'really', 'yummy', 'must', 'visit', 'place', 'would', 'good', 'guys', 'keep', 'shop', 'open', 'sunday', 'well', 'good', 'luck', 'roll', 'filling', 'tastes', 'great', 'would', 'highly', 'recommend', 'others', 'try', 'rolls', 'owners', 'hospitality', 'also', 'good', 'friendly', 'nice', 'place', 'complete', 'value', 'money', 'highly', 'recommend', 'must', 'visit', 'foodie', 'would', 'recommend', 'egg', 'chicken', 'roll', 'feeltheroll', 'amazing', 'mouth', 'watering', 'chicken', 'roll', 'worth', 'every', 'bite', 'must', 'try', 'every', 'foodie', 'variety', 'rolls', 'sandwiches', 'available', 'well', 'budding', 'rafflesia', 'little', 'cafe', 'set', 'beautiful', 'location', 'ambiance', 'good', 'nthe', 'burger', 'filled', 'taste', 'chicken', 'nthe', 'banana', 'chocolate', 'sandwich', 'variety', 'would', 'never', 'find', 'restaurants', 'bangalore', 'drinks', 'wonderful', 'lot', 'flavours', 'choose', 'nit', 'took', 'little', 'time', 'expected', 'food', 'served', 'table', 'nall', 'dishes', 'seemed', 'priced', 'moderately', 'well', 'nfood', 'nambiance', 'nservice', 'ntheir', 'chefs', 'brilliant', 'job', 'creating', 'new', 'dishes', 'variety', 'na', 'wonderful', 'place', 'friends', 'cozy', 'cafe', 'near', 'silk', 'board', 'came', 'boarding', 'bus', 'totally', 'open', 'air', 'especially', 'comfortable', 'night', 'staff', 'friendly', 'serve', 'food', 'fast', 'quite', 'cheap', 'good', 'bite', 'ncons', 'come', 'weather', 'good', 'toilets', 'lights', 'ni', 'recommend', 'beetroot', 'juice', 'nice', 'place', 'hang', 'open', 'space', 'must', 'visit', 'place', 'night', 'looks', 'awesome', 'food', 'items', 'tasty', 'friend', 'ordered', 'onion', 'pakoda', 'masala', 'soda', 'rose', 'falooda', 'corn', 'sandwich', 'chocolate', 'sandwich', 'items', 'tasty', 'love', 'visit', 'place', 'love', 'ambiance', 'perfect', 'way', 'spend', 'sunday', 'food', 'really', 'good', 'value']\n"
     ]
    }
   ],
   "source": [
    "print(cleaned_reviews[0:200])"
   ]
  },
  {
   "cell_type": "markdown",
   "id": "0f91af67",
   "metadata": {},
   "source": [
    "# obtain the frequency of individual words in the reviews, for this u have to use FreqDist"
   ]
  },
  {
   "cell_type": "code",
   "execution_count": 181,
   "id": "fe44910b",
   "metadata": {},
   "outputs": [],
   "source": [
    "from nltk import FreqDist, bigrams, trigrams"
   ]
  },
  {
   "cell_type": "code",
   "execution_count": 182,
   "id": "468dac23",
   "metadata": {},
   "outputs": [],
   "source": [
    "fd = FreqDist()"
   ]
  },
  {
   "cell_type": "code",
   "execution_count": 183,
   "id": "acf5b0b2",
   "metadata": {},
   "outputs": [],
   "source": [
    "for word in cleaned_reviews:\n",
    "    fd[word]=fd[word]+ 1"
   ]
  },
  {
   "cell_type": "code",
   "execution_count": 184,
   "id": "f374a3de",
   "metadata": {},
   "outputs": [
    {
     "data": {
      "text/plain": [
       "[('good', 328304),\n",
       " ('place', 317915),\n",
       " ('food', 307405),\n",
       " ('chicken', 141301),\n",
       " ('service', 109512)]"
      ]
     },
     "execution_count": 184,
     "metadata": {},
     "output_type": "execute_result"
    }
   ],
   "source": [
    "fd.most_common(5)"
   ]
  },
  {
   "cell_type": "markdown",
   "id": "bb8befa9",
   "metadata": {},
   "source": [
    "# Plotting the top 50 most frequent words"
   ]
  },
  {
   "cell_type": "code",
   "execution_count": 185,
   "id": "94890785",
   "metadata": {},
   "outputs": [
    {
     "data": {
      "image/png": "[encoded data removed]",
      "text/plain": [
       "<Figure size 1080x576 with 1 Axes>"
      ]
     },
     "metadata": {
      "needs_background": "light"
     },
     "output_type": "display_data"
    },
    {
     "data": {
      "text/plain": [
       "<AxesSubplot:xlabel='Samples', ylabel='Counts'>"
      ]
     },
     "execution_count": 185,
     "metadata": {},
     "output_type": "execute_result"
    }
   ],
   "source": [
    "plt.figure(figsize= (15, 8))\n",
    "fd.plot(50)"
   ]
  },
  {
   "cell_type": "markdown",
   "id": "9b639d67",
   "metadata": {},
   "source": [
    "   Factors contributing to restaurant experience are mentioned in the following (descending) order of frequency:\n",
    "   \n",
    "   place > service > taste > ambience >time> staff > quality > menu  > quantity > friendly > delivery>."
   ]
  },
  {
   "cell_type": "markdown",
   "id": "3478ff9b",
   "metadata": {},
   "source": [
    "### Bi-grams"
   ]
  },
  {
   "cell_type": "code",
   "execution_count": 186,
   "id": "9ec0b0f3",
   "metadata": {},
   "outputs": [],
   "source": [
    "##Now let us repeat the analysis on a bi-gram level. Bi-grams are pairs of words that provide better insights than individual words."
   ]
  },
  {
   "cell_type": "code",
   "execution_count": 187,
   "id": "e0e3d1a0",
   "metadata": {},
   "outputs": [],
   "source": [
    "from nltk import bigrams"
   ]
  },
  {
   "cell_type": "code",
   "execution_count": 188,
   "id": "bc9f6ae7",
   "metadata": {},
   "outputs": [],
   "source": [
    "# Generating bigrams from the reviews\n",
    "bigrams = bigrams(cleaned_reviews)"
   ]
  },
  {
   "cell_type": "code",
   "execution_count": 190,
   "id": "aa3727d2",
   "metadata": {},
   "outputs": [
    {
     "data": {
      "text/plain": [
       "<generator object bigrams at 0x000001C9E87C1E40>"
      ]
     },
     "execution_count": 190,
     "metadata": {},
     "output_type": "execute_result"
    }
   ],
   "source": [
    "bigrams"
   ]
  },
  {
   "cell_type": "code",
   "execution_count": 191,
   "id": "40fd4243",
   "metadata": {},
   "outputs": [
    {
     "data": {
      "text/plain": [
       "[(('must', 'try'), 23182),\n",
       " (('really', 'good'), 22564),\n",
       " (('good', 'food'), 21589),\n",
       " (('food', 'good'), 21175),\n",
       " (('good', 'place'), 18690)]"
      ]
     },
     "execution_count": 191,
     "metadata": {},
     "output_type": "execute_result"
    }
   ],
   "source": [
    "# Getting the bigram frequency distribution\n",
    "fd_bigrams = FreqDist()\n",
    "for bigrams in bigrams:\n",
    "    fd_bigrams[bigrams]=fd_bigrams[bigrams] + 1\n",
    "\n",
    "# Examining the top 5 most frequent bigrams\n",
    "fd_bigrams.most_common(5)\n"
   ]
  },
  {
   "cell_type": "code",
   "execution_count": 192,
   "id": "b99f57a2",
   "metadata": {},
   "outputs": [
    {
     "data": {
      "image/png": "[encoded data removed]",
      "text/plain": [
       "<Figure size 1080x576 with 1 Axes>"
      ]
     },
     "metadata": {
      "needs_background": "light"
     },
     "output_type": "display_data"
    },
    {
     "data": {
      "text/plain": [
       "<AxesSubplot:xlabel='Samples', ylabel='Counts'>"
      ]
     },
     "execution_count": 192,
     "metadata": {},
     "output_type": "execute_result"
    }
   ],
   "source": [
    "# Plotting the top 50 most frequent bigrams\n",
    "plt.figure(figsize= (15, 8))\n",
    "fd_bigrams.plot(50)"
   ]
  },
  {
   "cell_type": "markdown",
   "id": "f4e9426d",
   "metadata": {},
   "source": [
    "    Observations\n",
    "    We have some new insights! Food items/preferences mentioned in the top 50 bigrams are non veg, ice cream, North Indian,\n",
    "    chicken biryani\n",
    "    Factors contributing to restaurant experience are : good food > good place > good service > value (for) money > pocket\n",
    "    friendly > ambience good."
   ]
  },
  {
   "cell_type": "markdown",
   "id": "4ca06122",
   "metadata": {},
   "source": [
    "There's a key insight here: the expense factor, which was missed by individual word frequency counts, was picked up by the bigram frequency counts.\n"
   ]
  },
  {
   "cell_type": "code",
   "execution_count": 193,
   "id": "d2d9d933",
   "metadata": {},
   "outputs": [
    {
     "data": {
      "text/plain": [
       "[(('must', 'try'), 23182),\n",
       " (('really', 'good'), 22564),\n",
       " (('good', 'food'), 21589),\n",
       " (('food', 'good'), 21175),\n",
       " (('good', 'place'), 18690),\n",
       " (('visit', 'place'), 15832),\n",
       " (('non', 'veg'), 13561),\n",
       " (('one', 'best'), 13537),\n",
       " (('main', 'course'), 13470),\n",
       " (('ice', 'cream'), 12961),\n",
       " (('nice', 'place'), 12348),\n",
       " (('also', 'good'), 11087),\n",
       " (('good', 'service'), 10902),\n",
       " (('must', 'visit'), 10327),\n",
       " (('service', 'good'), 9911),\n",
       " (('great', 'place'), 9419),\n",
       " (('north', 'indian'), 9419),\n",
       " (('visited', 'place'), 9232),\n",
       " (('taste', 'good'), 9170),\n",
       " (('place', 'good'), 8860),\n",
       " (('ambience', 'good'), 8789),\n",
       " (('value', 'money'), 8736),\n",
       " (('fried', 'rice'), 8427),\n",
       " (('ordered', 'chicken'), 8023),\n",
       " (('nwe', 'ordered'), 7978),\n",
       " (('quality', 'food'), 7860),\n",
       " (('chicken', 'biryani'), 7647),\n",
       " (('good', 'taste'), 7563),\n",
       " (('pocket', 'friendly'), 7513),\n",
       " (('pretty', 'good'), 7488),\n",
       " (('great', 'food'), 7351),\n",
       " (('zomato', 'gold'), 7340),\n",
       " (('good', 'ambience'), 7245),\n",
       " (('food', 'great'), 7163),\n",
       " (('f', 'f'), 7162),\n",
       " (('place', 'hangout'), 7081),\n",
       " (('best', 'place'), 6910),\n",
       " (('food', 'quality'), 6456),\n",
       " (('first', 'time'), 6434),\n",
       " (('food', 'ordered'), 6285),\n",
       " (('good', 'experience'), 6229),\n",
       " (('food', 'really'), 5918),\n",
       " (('nthe', 'food'), 5833),\n",
       " (('recommend', 'place'), 5828),\n",
       " (('really', 'nice'), 5616),\n",
       " (('nvalue', 'money'), 5573),\n",
       " (('food', 'service'), 5528),\n",
       " (('indian', 'food'), 5383),\n",
       " (('home', 'delivery'), 5367),\n",
       " (('long', 'time'), 5185)]"
      ]
     },
     "execution_count": 193,
     "metadata": {},
     "output_type": "execute_result"
    }
   ],
   "source": [
    "fd_bigrams.most_common(50)"
   ]
  },
  {
   "cell_type": "markdown",
   "id": "c56cce54",
   "metadata": {},
   "source": [
    "Zomato might also be happy to know their membership program \"Zomato Gold\" is in the top 50 bigrams, with 7340 mentions in the customer reviews.\n"
   ]
  },
  {
   "cell_type": "markdown",
   "id": "00b9e100",
   "metadata": {},
   "source": [
    "### What about trigrams?"
   ]
  },
  {
   "cell_type": "code",
   "execution_count": 194,
   "id": "92543340",
   "metadata": {},
   "outputs": [],
   "source": [
    "from nltk import trigrams"
   ]
  },
  {
   "cell_type": "code",
   "execution_count": 195,
   "id": "f540bd58",
   "metadata": {},
   "outputs": [],
   "source": [
    "# Generating trigrams from the reviews\n",
    "trigrams = trigrams(cleaned_reviews)"
   ]
  },
  {
   "cell_type": "code",
   "execution_count": 196,
   "id": "5e1fc5c1",
   "metadata": {},
   "outputs": [],
   "source": [
    "##takes\n",
    "fd_trigrams = FreqDist()\n",
    "for trigrams in trigrams:\n",
    "    fd_trigrams[trigrams] += 1"
   ]
  },
  {
   "cell_type": "code",
   "execution_count": 197,
   "id": "efe5a92a",
   "metadata": {},
   "outputs": [
    {
     "data": {
      "text/plain": [
       "[(('must', 'visit', 'place'), 3982),\n",
       " (('f', 'f', 'f'), 3916),\n",
       " (('veg', 'non', 'veg'), 3734),\n",
       " (('north', 'indian', 'food'), 3433),\n",
       " (('place', 'hangout', 'friends'), 2824)]"
      ]
     },
     "execution_count": 197,
     "metadata": {},
     "output_type": "execute_result"
    }
   ],
   "source": [
    "fd_trigrams.most_common(5)"
   ]
  },
  {
   "cell_type": "code",
   "execution_count": 199,
   "id": "497de75b",
   "metadata": {},
   "outputs": [
    {
     "data": {
      "image/png": "[encoded data removed]",
      "text/plain": [
       "<Figure size 720x360 with 1 Axes>"
      ]
     },
     "metadata": {
      "needs_background": "light"
     },
     "output_type": "display_data"
    },
    {
     "data": {
      "text/plain": [
       "<AxesSubplot:xlabel='Samples', ylabel='Counts'>"
      ]
     },
     "execution_count": 199,
     "metadata": {},
     "output_type": "execute_result"
    }
   ],
   "source": [
    "plt.figure(figsize = (10, 5))\n",
    "fd_trigrams.plot(50)"
   ]
  },
  {
   "cell_type": "markdown",
   "id": "d0279ffd",
   "metadata": {},
   "source": [
    "Observations\n",
    "There appears to be some bad data (strings of \"f f f\") somewhere in the reviews, but we'll ignore that. The specific food preferences we can see here are north Indian Food, paneer butter masala, chicken fried rice, chicken ghee roast etc. Bangalore is full of chicken lovers...\n",
    "[ ]\n"
   ]
  },
  {
   "cell_type": "code",
   "execution_count": 200,
   "id": "998af971",
   "metadata": {},
   "outputs": [
    {
     "data": {
      "text/html": [
       "<div>\n",
       "<style scoped>\n",
       "    .dataframe tbody tr th:only-of-type {\n",
       "        vertical-align: middle;\n",
       "    }\n",
       "\n",
       "    .dataframe tbody tr th {\n",
       "        vertical-align: top;\n",
       "    }\n",
       "\n",
       "    .dataframe thead th {\n",
       "        text-align: right;\n",
       "    }\n",
       "</style>\n",
       "<table border=\"1\" class=\"dataframe\">\n",
       "  <thead>\n",
       "    <tr style=\"text-align: right;\">\n",
       "      <th></th>\n",
       "      <th>name</th>\n",
       "      <th>address</th>\n",
       "      <th>listed_in(type)_x</th>\n",
       "      <th>url</th>\n",
       "      <th>online_order</th>\n",
       "      <th>book_table</th>\n",
       "      <th>rate</th>\n",
       "      <th>votes</th>\n",
       "      <th>phone</th>\n",
       "      <th>location</th>\n",
       "      <th>rest_type</th>\n",
       "      <th>dish_liked</th>\n",
       "      <th>cuisines</th>\n",
       "      <th>approx_cost(for two people)</th>\n",
       "      <th>reviews_list</th>\n",
       "      <th>menu_item</th>\n",
       "      <th>listed_in(type)_y</th>\n",
       "      <th>listed_in(city)</th>\n",
       "      <th>rating</th>\n",
       "    </tr>\n",
       "  </thead>\n",
       "  <tbody>\n",
       "    <tr>\n",
       "      <th>0</th>\n",
       "      <td>#FeelTheROLL</td>\n",
       "      <td>Opposite Mantri Commercio, Outer Ring Road, De...</td>\n",
       "      <td>[Delivery, Delivery]</td>\n",
       "      <td>https://www.zomato.com/bangalore/feeltheroll-b...</td>\n",
       "      <td>No</td>\n",
       "      <td>No</td>\n",
       "      <td>3.4/5</td>\n",
       "      <td>7</td>\n",
       "      <td>+91 9108342079\\r\\n+91 9886117901</td>\n",
       "      <td>Bellandur</td>\n",
       "      <td>Quick Bites</td>\n",
       "      <td>NaN</td>\n",
       "      <td>Fast Food</td>\n",
       "      <td>200</td>\n",
       "      <td>[('rated 5.0', \"rated\\n  had an egg chicken ro...</td>\n",
       "      <td>[]</td>\n",
       "      <td>Delivery</td>\n",
       "      <td>Bellandur</td>\n",
       "      <td>1</td>\n",
       "    </tr>\n",
       "    <tr>\n",
       "      <th>1</th>\n",
       "      <td>#L-81 Cafe</td>\n",
       "      <td>Sector 6, HSR Layout, HSR</td>\n",
       "      <td>[Delivery, Dine-out, Delivery, Dine-out, Deliv...</td>\n",
       "      <td>https://www.zomato.com/bangalore/l-81-cafe-hsr...</td>\n",
       "      <td>Yes</td>\n",
       "      <td>No</td>\n",
       "      <td>3.9/5</td>\n",
       "      <td>48</td>\n",
       "      <td>+91 9986210891</td>\n",
       "      <td>HSR</td>\n",
       "      <td>Quick Bites</td>\n",
       "      <td>Burgers</td>\n",
       "      <td>Fast Food, Beverages</td>\n",
       "      <td>400</td>\n",
       "      <td>[('rated 4.0', 'rated\\n  this little cafe is s...</td>\n",
       "      <td>[]</td>\n",
       "      <td>Delivery</td>\n",
       "      <td>BTM</td>\n",
       "      <td>1</td>\n",
       "    </tr>\n",
       "    <tr>\n",
       "      <th>2</th>\n",
       "      <td>#L-81 Cafe</td>\n",
       "      <td>Sector 6, HSR Layout, HSR</td>\n",
       "      <td>[Delivery, Dine-out, Delivery, Dine-out, Deliv...</td>\n",
       "      <td>https://www.zomato.com/bangalore/l-81-cafe-hsr...</td>\n",
       "      <td>Yes</td>\n",
       "      <td>No</td>\n",
       "      <td>3.9/5</td>\n",
       "      <td>48</td>\n",
       "      <td>+91 9986210891</td>\n",
       "      <td>HSR</td>\n",
       "      <td>Quick Bites</td>\n",
       "      <td>Burgers</td>\n",
       "      <td>Fast Food, Beverages</td>\n",
       "      <td>400</td>\n",
       "      <td>[('rated 4.0', 'rated\\n  this little cafe is s...</td>\n",
       "      <td>[]</td>\n",
       "      <td>Dine-out</td>\n",
       "      <td>BTM</td>\n",
       "      <td>1</td>\n",
       "    </tr>\n",
       "    <tr>\n",
       "      <th>3</th>\n",
       "      <td>#Vibes Restro</td>\n",
       "      <td>Marasur Gate, Chandapura - Anekal Road, Near A...</td>\n",
       "      <td>[Buffet, Delivery, Dine-out]</td>\n",
       "      <td>https://www.zomato.com/bangalore/vibes-restro-...</td>\n",
       "      <td>No</td>\n",
       "      <td>No</td>\n",
       "      <td>NaN</td>\n",
       "      <td>0</td>\n",
       "      <td>+91 9538911285</td>\n",
       "      <td>Electronic City</td>\n",
       "      <td>Casual Dining</td>\n",
       "      <td>NaN</td>\n",
       "      <td>Continental, Chinese, Italian</td>\n",
       "      <td>700</td>\n",
       "      <td>[('rated 5.0', \"rated\\n  great service and don...</td>\n",
       "      <td>[]</td>\n",
       "      <td>Buffet</td>\n",
       "      <td>Electronic City</td>\n",
       "      <td>NaN</td>\n",
       "    </tr>\n",
       "    <tr>\n",
       "      <th>4</th>\n",
       "      <td>#Vibes Restro</td>\n",
       "      <td>Marasur Gate, Chandapura - Anekal Road, Near A...</td>\n",
       "      <td>[Buffet, Delivery, Dine-out]</td>\n",
       "      <td>https://www.zomato.com/bangalore/vibes-restro-...</td>\n",
       "      <td>No</td>\n",
       "      <td>No</td>\n",
       "      <td>NaN</td>\n",
       "      <td>0</td>\n",
       "      <td>+91 9538911285</td>\n",
       "      <td>Electronic City</td>\n",
       "      <td>Casual Dining</td>\n",
       "      <td>NaN</td>\n",
       "      <td>Continental, Chinese, Italian</td>\n",
       "      <td>700</td>\n",
       "      <td>[('rated 5.0', \"rated\\n  great service and don...</td>\n",
       "      <td>[]</td>\n",
       "      <td>Delivery</td>\n",
       "      <td>Electronic City</td>\n",
       "      <td>NaN</td>\n",
       "    </tr>\n",
       "  </tbody>\n",
       "</table>\n",
       "</div>"
      ],
      "text/plain": [
       "            name                                            address  \\\n",
       "0   #FeelTheROLL  Opposite Mantri Commercio, Outer Ring Road, De...   \n",
       "1     #L-81 Cafe                          Sector 6, HSR Layout, HSR   \n",
       "2     #L-81 Cafe                          Sector 6, HSR Layout, HSR   \n",
       "3  #Vibes Restro  Marasur Gate, Chandapura - Anekal Road, Near A...   \n",
       "4  #Vibes Restro  Marasur Gate, Chandapura - Anekal Road, Near A...   \n",
       "\n",
       "                                   listed_in(type)_x  \\\n",
       "0                               [Delivery, Delivery]   \n",
       "1  [Delivery, Dine-out, Delivery, Dine-out, Deliv...   \n",
       "2  [Delivery, Dine-out, Delivery, Dine-out, Deliv...   \n",
       "3                       [Buffet, Delivery, Dine-out]   \n",
       "4                       [Buffet, Delivery, Dine-out]   \n",
       "\n",
       "                                                 url online_order book_table  \\\n",
       "0  https://www.zomato.com/bangalore/feeltheroll-b...           No         No   \n",
       "1  https://www.zomato.com/bangalore/l-81-cafe-hsr...          Yes         No   \n",
       "2  https://www.zomato.com/bangalore/l-81-cafe-hsr...          Yes         No   \n",
       "3  https://www.zomato.com/bangalore/vibes-restro-...           No         No   \n",
       "4  https://www.zomato.com/bangalore/vibes-restro-...           No         No   \n",
       "\n",
       "    rate  votes                             phone         location  \\\n",
       "0  3.4/5      7  +91 9108342079\\r\\n+91 9886117901        Bellandur   \n",
       "1  3.9/5     48                    +91 9986210891              HSR   \n",
       "2  3.9/5     48                    +91 9986210891              HSR   \n",
       "3    NaN      0                    +91 9538911285  Electronic City   \n",
       "4    NaN      0                    +91 9538911285  Electronic City   \n",
       "\n",
       "       rest_type dish_liked                       cuisines  \\\n",
       "0    Quick Bites        NaN                      Fast Food   \n",
       "1    Quick Bites    Burgers           Fast Food, Beverages   \n",
       "2    Quick Bites    Burgers           Fast Food, Beverages   \n",
       "3  Casual Dining        NaN  Continental, Chinese, Italian   \n",
       "4  Casual Dining        NaN  Continental, Chinese, Italian   \n",
       "\n",
       "  approx_cost(for two people)  \\\n",
       "0                         200   \n",
       "1                         400   \n",
       "2                         400   \n",
       "3                         700   \n",
       "4                         700   \n",
       "\n",
       "                                        reviews_list menu_item  \\\n",
       "0  [('rated 5.0', \"rated\\n  had an egg chicken ro...        []   \n",
       "1  [('rated 4.0', 'rated\\n  this little cafe is s...        []   \n",
       "2  [('rated 4.0', 'rated\\n  this little cafe is s...        []   \n",
       "3  [('rated 5.0', \"rated\\n  great service and don...        []   \n",
       "4  [('rated 5.0', \"rated\\n  great service and don...        []   \n",
       "\n",
       "  listed_in(type)_y  listed_in(city) rating  \n",
       "0          Delivery        Bellandur      1  \n",
       "1          Delivery              BTM      1  \n",
       "2          Dine-out              BTM      1  \n",
       "3            Buffet  Electronic City    NaN  \n",
       "4          Delivery  Electronic City    NaN  "
      ]
     },
     "execution_count": 200,
     "metadata": {},
     "output_type": "execute_result"
    }
   ],
   "source": [
    "newdata.head()"
   ]
  },
  {
   "cell_type": "markdown",
   "id": "98b7b8c1",
   "metadata": {},
   "source": [
    "## Analysing your cuisines"
   ]
  },
  {
   "cell_type": "code",
   "execution_count": 201,
   "id": "2e96924d",
   "metadata": {},
   "outputs": [],
   "source": [
    "# Creating a new dataset with cuisines info and restaurant ratings\n",
    "cuisines = newdata[[\"cuisines\", \"rating\"]]"
   ]
  },
  {
   "cell_type": "code",
   "execution_count": 202,
   "id": "f48aa535",
   "metadata": {},
   "outputs": [
    {
     "data": {
      "text/plain": [
       "cuisines      23\n",
       "rating      4524\n",
       "dtype: int64"
      ]
     },
     "execution_count": 202,
     "metadata": {},
     "output_type": "execute_result"
    }
   ],
   "source": [
    "cuisines.isnull().sum()"
   ]
  },
  {
   "cell_type": "code",
   "execution_count": 203,
   "id": "c6c0a2f3",
   "metadata": {},
   "outputs": [],
   "source": [
    "cuisines.dropna(inplace=True)"
   ]
  },
  {
   "cell_type": "code",
   "execution_count": 204,
   "id": "02bcf273",
   "metadata": {},
   "outputs": [],
   "source": [
    "# Converting to lowercase\n",
    "cuisines[\"cuisines\"] = cuisines[\"cuisines\"].apply(lambda x: x.lower())\n",
    "\n",
    "# Tokenizing the cuisines\n",
    "cuisines_tokens = cuisines[\"cuisines\"].apply(tokenizer.tokenize)"
   ]
  },
  {
   "cell_type": "code",
   "execution_count": 205,
   "id": "53c19ae0",
   "metadata": {},
   "outputs": [
    {
     "data": {
      "text/plain": [
       "['fast', 'food']"
      ]
     },
     "execution_count": 205,
     "metadata": {},
     "output_type": "execute_result"
    }
   ],
   "source": [
    "cuisines_tokens[0]"
   ]
  },
  {
   "cell_type": "code",
   "execution_count": 206,
   "id": "253593d4",
   "metadata": {},
   "outputs": [
    {
     "data": {
      "text/plain": [
       "list"
      ]
     },
     "execution_count": 206,
     "metadata": {},
     "output_type": "execute_result"
    }
   ],
   "source": [
    "type(cuisines_tokens[0])"
   ]
  },
  {
   "cell_type": "code",
   "execution_count": 208,
   "id": "cb03c104",
   "metadata": {},
   "outputs": [
    {
     "data": {
      "text/plain": [
       "pandas.core.series.Series"
      ]
     },
     "execution_count": 208,
     "metadata": {},
     "output_type": "execute_result"
    }
   ],
   "source": [
    "type(cuisines_tokens)"
   ]
  },
  {
   "cell_type": "code",
   "execution_count": 209,
   "id": "7a743a19",
   "metadata": {},
   "outputs": [],
   "source": [
    "# Concatenating all the cuisine names into one text document\n",
    "all_cuisines = cuisines_tokens.astype(str).str.cat()"
   ]
  },
  {
   "cell_type": "code",
   "execution_count": 210,
   "id": "4cee8fe1",
   "metadata": {},
   "outputs": [
    {
     "data": {
      "text/plain": [
       "str"
      ]
     },
     "execution_count": 210,
     "metadata": {},
     "output_type": "execute_result"
    }
   ],
   "source": [
    "type(all_cuisines)"
   ]
  },
  {
   "cell_type": "code",
   "execution_count": 211,
   "id": "5d46e8b1",
   "metadata": {},
   "outputs": [
    {
     "data": {
      "text/plain": [
       "\"['fast', 'food']['fast', 'food', 'beverages']['fas\""
      ]
     },
     "execution_count": 211,
     "metadata": {},
     "output_type": "execute_result"
    }
   ],
   "source": [
    "all_cuisines[0:50]"
   ]
  },
  {
   "cell_type": "code",
   "execution_count": 212,
   "id": "631e15c0",
   "metadata": {},
   "outputs": [],
   "source": [
    "cleaned_cuisines = tokenizer.tokenize(all_cuisines)"
   ]
  },
  {
   "cell_type": "code",
   "execution_count": 213,
   "id": "737cb9fa",
   "metadata": {},
   "outputs": [
    {
     "data": {
      "text/plain": [
       "list"
      ]
     },
     "execution_count": 213,
     "metadata": {},
     "output_type": "execute_result"
    }
   ],
   "source": [
    "type(cleaned_cuisines)"
   ]
  },
  {
   "cell_type": "code",
   "execution_count": 214,
   "id": "e23329b2",
   "metadata": {},
   "outputs": [
    {
     "name": "stdout",
     "output_type": "stream",
     "text": [
      "[('indian', 9622), ('north', 6941), ('chinese', 5143), ('food', 4239), ('south', 2650)]\n"
     ]
    }
   ],
   "source": [
    "# Generating cuisine frequencies \n",
    "fd_cuisine = FreqDist()\n",
    "for cuisines in cleaned_cuisines:\n",
    "    fd_cuisine[cuisines] += 1\n",
    "\n",
    "# Printing the 50 most common cuisines (top 50)\n",
    "print(fd_cuisine.most_common(5))"
   ]
  },
  {
   "cell_type": "code",
   "execution_count": 215,
   "id": "be338b3e",
   "metadata": {},
   "outputs": [
    {
     "data": {
      "image/png": "[encoded data removed]",
      "text/plain": [
       "<Figure size 1080x648 with 1 Axes>"
      ]
     },
     "metadata": {
      "needs_background": "light"
     },
     "output_type": "display_data"
    },
    {
     "data": {
      "text/plain": [
       "<AxesSubplot:xlabel='Samples', ylabel='Counts'>"
      ]
     },
     "execution_count": 215,
     "metadata": {},
     "output_type": "execute_result"
    }
   ],
   "source": [
    "plt.figure(figsize=(15, 9))\n",
    "fd_cuisine.plot(50)"
   ]
  },
  {
   "cell_type": "markdown",
   "id": "b54af005",
   "metadata": {},
   "source": [
    "### Now start applying algo but before that u have to pre-process your data"
   ]
  },
  {
   "cell_type": "code",
   "execution_count": 216,
   "id": "81895a5c",
   "metadata": {},
   "outputs": [
    {
     "data": {
      "text/plain": [
       "Index(['name', 'address', 'listed_in(type)_x', 'url', 'online_order',\n",
       "       'book_table', 'rate', 'votes', 'phone', 'location', 'rest_type',\n",
       "       'dish_liked', 'cuisines', 'approx_cost(for two people)', 'reviews_list',\n",
       "       'menu_item', 'listed_in(type)_y', 'listed_in(city)', 'rating'],\n",
       "      dtype='object')"
      ]
     },
     "execution_count": 216,
     "metadata": {},
     "output_type": "execute_result"
    }
   ],
   "source": [
    "newdata.columns"
   ]
  },
  {
   "cell_type": "code",
   "execution_count": 217,
   "id": "a92e5163",
   "metadata": {},
   "outputs": [
    {
     "data": {
      "text/plain": [
       "name                             object\n",
       "address                          object\n",
       "listed_in(type)_x                object\n",
       "url                              object\n",
       "online_order                     object\n",
       "book_table                       object\n",
       "rate                             object\n",
       "votes                             int64\n",
       "phone                            object\n",
       "location                         object\n",
       "rest_type                        object\n",
       "dish_liked                       object\n",
       "cuisines                         object\n",
       "approx_cost(for two people)      object\n",
       "reviews_list                     object\n",
       "menu_item                        object\n",
       "listed_in(type)_y                object\n",
       "listed_in(city)                  object\n",
       "rating                         category\n",
       "dtype: object"
      ]
     },
     "execution_count": 217,
     "metadata": {},
     "output_type": "execute_result"
    }
   ],
   "source": [
    "newdata.dtypes"
   ]
  },
  {
   "cell_type": "code",
   "execution_count": 218,
   "id": "50acaafd",
   "metadata": {},
   "outputs": [],
   "source": [
    "#### considering \"reviews_list\", \"menu_item\", \"dish_liked\", \"cuisines\", u can think for predicting rating\n",
    "### so we can store  (\"reviews_list\", \"menu_item\", \"dish_liked\", \"cuisines\") in a single feature"
   ]
  },
  {
   "cell_type": "code",
   "execution_count": 220,
   "id": "6103406e",
   "metadata": {},
   "outputs": [],
   "source": [
    "# Converting all the text to strings\n",
    "newdata[[\"reviews_list\", \"menu_item\", \"dish_liked\", \"cuisines\"]] = newdata[[\"reviews_list\", \"menu_item\", \"dish_liked\", \"cuisines\"]].astype(\"str\")\n",
    "\n",
    "# Combining all the text data into a single feature called \"text\"\n",
    "newdata[\"text\"] = newdata[\"reviews_list\"] + \" \" + newdata[\"menu_item\"] + \" \" + newdata[\"dish_liked\"] + \" \" + newdata[\"cuisines\"]"
   ]
  },
  {
   "cell_type": "code",
   "execution_count": 221,
   "id": "0c3fd022",
   "metadata": {},
   "outputs": [
    {
     "data": {
      "text/html": [
       "<div>\n",
       "<style scoped>\n",
       "    .dataframe tbody tr th:only-of-type {\n",
       "        vertical-align: middle;\n",
       "    }\n",
       "\n",
       "    .dataframe tbody tr th {\n",
       "        vertical-align: top;\n",
       "    }\n",
       "\n",
       "    .dataframe thead th {\n",
       "        text-align: right;\n",
       "    }\n",
       "</style>\n",
       "<table border=\"1\" class=\"dataframe\">\n",
       "  <thead>\n",
       "    <tr style=\"text-align: right;\">\n",
       "      <th></th>\n",
       "      <th>name</th>\n",
       "      <th>address</th>\n",
       "      <th>listed_in(type)_x</th>\n",
       "      <th>url</th>\n",
       "      <th>online_order</th>\n",
       "      <th>book_table</th>\n",
       "      <th>rate</th>\n",
       "      <th>votes</th>\n",
       "      <th>phone</th>\n",
       "      <th>location</th>\n",
       "      <th>rest_type</th>\n",
       "      <th>dish_liked</th>\n",
       "      <th>cuisines</th>\n",
       "      <th>approx_cost(for two people)</th>\n",
       "      <th>reviews_list</th>\n",
       "      <th>menu_item</th>\n",
       "      <th>listed_in(type)_y</th>\n",
       "      <th>listed_in(city)</th>\n",
       "      <th>rating</th>\n",
       "      <th>text</th>\n",
       "    </tr>\n",
       "  </thead>\n",
       "  <tbody>\n",
       "    <tr>\n",
       "      <th>0</th>\n",
       "      <td>#FeelTheROLL</td>\n",
       "      <td>Opposite Mantri Commercio, Outer Ring Road, De...</td>\n",
       "      <td>[Delivery, Delivery]</td>\n",
       "      <td>https://www.zomato.com/bangalore/feeltheroll-b...</td>\n",
       "      <td>No</td>\n",
       "      <td>No</td>\n",
       "      <td>3.4/5</td>\n",
       "      <td>7</td>\n",
       "      <td>+91 9108342079\\r\\n+91 9886117901</td>\n",
       "      <td>Bellandur</td>\n",
       "      <td>Quick Bites</td>\n",
       "      <td>nan</td>\n",
       "      <td>Fast Food</td>\n",
       "      <td>200</td>\n",
       "      <td>[('rated 5.0', \"rated\\n  had an egg chicken ro...</td>\n",
       "      <td>[]</td>\n",
       "      <td>Delivery</td>\n",
       "      <td>Bellandur</td>\n",
       "      <td>1</td>\n",
       "      <td>[('rated 5.0', \"rated\\n  had an egg chicken ro...</td>\n",
       "    </tr>\n",
       "    <tr>\n",
       "      <th>1</th>\n",
       "      <td>#L-81 Cafe</td>\n",
       "      <td>Sector 6, HSR Layout, HSR</td>\n",
       "      <td>[Delivery, Dine-out, Delivery, Dine-out, Deliv...</td>\n",
       "      <td>https://www.zomato.com/bangalore/l-81-cafe-hsr...</td>\n",
       "      <td>Yes</td>\n",
       "      <td>No</td>\n",
       "      <td>3.9/5</td>\n",
       "      <td>48</td>\n",
       "      <td>+91 9986210891</td>\n",
       "      <td>HSR</td>\n",
       "      <td>Quick Bites</td>\n",
       "      <td>Burgers</td>\n",
       "      <td>Fast Food, Beverages</td>\n",
       "      <td>400</td>\n",
       "      <td>[('rated 4.0', 'rated\\n  this little cafe is s...</td>\n",
       "      <td>[]</td>\n",
       "      <td>Delivery</td>\n",
       "      <td>BTM</td>\n",
       "      <td>1</td>\n",
       "      <td>[('rated 4.0', 'rated\\n  this little cafe is s...</td>\n",
       "    </tr>\n",
       "    <tr>\n",
       "      <th>2</th>\n",
       "      <td>#L-81 Cafe</td>\n",
       "      <td>Sector 6, HSR Layout, HSR</td>\n",
       "      <td>[Delivery, Dine-out, Delivery, Dine-out, Deliv...</td>\n",
       "      <td>https://www.zomato.com/bangalore/l-81-cafe-hsr...</td>\n",
       "      <td>Yes</td>\n",
       "      <td>No</td>\n",
       "      <td>3.9/5</td>\n",
       "      <td>48</td>\n",
       "      <td>+91 9986210891</td>\n",
       "      <td>HSR</td>\n",
       "      <td>Quick Bites</td>\n",
       "      <td>Burgers</td>\n",
       "      <td>Fast Food, Beverages</td>\n",
       "      <td>400</td>\n",
       "      <td>[('rated 4.0', 'rated\\n  this little cafe is s...</td>\n",
       "      <td>[]</td>\n",
       "      <td>Dine-out</td>\n",
       "      <td>BTM</td>\n",
       "      <td>1</td>\n",
       "      <td>[('rated 4.0', 'rated\\n  this little cafe is s...</td>\n",
       "    </tr>\n",
       "    <tr>\n",
       "      <th>3</th>\n",
       "      <td>#Vibes Restro</td>\n",
       "      <td>Marasur Gate, Chandapura - Anekal Road, Near A...</td>\n",
       "      <td>[Buffet, Delivery, Dine-out]</td>\n",
       "      <td>https://www.zomato.com/bangalore/vibes-restro-...</td>\n",
       "      <td>No</td>\n",
       "      <td>No</td>\n",
       "      <td>NaN</td>\n",
       "      <td>0</td>\n",
       "      <td>+91 9538911285</td>\n",
       "      <td>Electronic City</td>\n",
       "      <td>Casual Dining</td>\n",
       "      <td>nan</td>\n",
       "      <td>Continental, Chinese, Italian</td>\n",
       "      <td>700</td>\n",
       "      <td>[('rated 5.0', \"rated\\n  great service and don...</td>\n",
       "      <td>[]</td>\n",
       "      <td>Buffet</td>\n",
       "      <td>Electronic City</td>\n",
       "      <td>NaN</td>\n",
       "      <td>[('rated 5.0', \"rated\\n  great service and don...</td>\n",
       "    </tr>\n",
       "    <tr>\n",
       "      <th>4</th>\n",
       "      <td>#Vibes Restro</td>\n",
       "      <td>Marasur Gate, Chandapura - Anekal Road, Near A...</td>\n",
       "      <td>[Buffet, Delivery, Dine-out]</td>\n",
       "      <td>https://www.zomato.com/bangalore/vibes-restro-...</td>\n",
       "      <td>No</td>\n",
       "      <td>No</td>\n",
       "      <td>NaN</td>\n",
       "      <td>0</td>\n",
       "      <td>+91 9538911285</td>\n",
       "      <td>Electronic City</td>\n",
       "      <td>Casual Dining</td>\n",
       "      <td>nan</td>\n",
       "      <td>Continental, Chinese, Italian</td>\n",
       "      <td>700</td>\n",
       "      <td>[('rated 5.0', \"rated\\n  great service and don...</td>\n",
       "      <td>[]</td>\n",
       "      <td>Delivery</td>\n",
       "      <td>Electronic City</td>\n",
       "      <td>NaN</td>\n",
       "      <td>[('rated 5.0', \"rated\\n  great service and don...</td>\n",
       "    </tr>\n",
       "  </tbody>\n",
       "</table>\n",
       "</div>"
      ],
      "text/plain": [
       "            name                                            address  \\\n",
       "0   #FeelTheROLL  Opposite Mantri Commercio, Outer Ring Road, De...   \n",
       "1     #L-81 Cafe                          Sector 6, HSR Layout, HSR   \n",
       "2     #L-81 Cafe                          Sector 6, HSR Layout, HSR   \n",
       "3  #Vibes Restro  Marasur Gate, Chandapura - Anekal Road, Near A...   \n",
       "4  #Vibes Restro  Marasur Gate, Chandapura - Anekal Road, Near A...   \n",
       "\n",
       "                                   listed_in(type)_x  \\\n",
       "0                               [Delivery, Delivery]   \n",
       "1  [Delivery, Dine-out, Delivery, Dine-out, Deliv...   \n",
       "2  [Delivery, Dine-out, Delivery, Dine-out, Deliv...   \n",
       "3                       [Buffet, Delivery, Dine-out]   \n",
       "4                       [Buffet, Delivery, Dine-out]   \n",
       "\n",
       "                                                 url online_order book_table  \\\n",
       "0  https://www.zomato.com/bangalore/feeltheroll-b...           No         No   \n",
       "1  https://www.zomato.com/bangalore/l-81-cafe-hsr...          Yes         No   \n",
       "2  https://www.zomato.com/bangalore/l-81-cafe-hsr...          Yes         No   \n",
       "3  https://www.zomato.com/bangalore/vibes-restro-...           No         No   \n",
       "4  https://www.zomato.com/bangalore/vibes-restro-...           No         No   \n",
       "\n",
       "    rate  votes                             phone         location  \\\n",
       "0  3.4/5      7  +91 9108342079\\r\\n+91 9886117901        Bellandur   \n",
       "1  3.9/5     48                    +91 9986210891              HSR   \n",
       "2  3.9/5     48                    +91 9986210891              HSR   \n",
       "3    NaN      0                    +91 9538911285  Electronic City   \n",
       "4    NaN      0                    +91 9538911285  Electronic City   \n",
       "\n",
       "       rest_type dish_liked                       cuisines  \\\n",
       "0    Quick Bites        nan                      Fast Food   \n",
       "1    Quick Bites    Burgers           Fast Food, Beverages   \n",
       "2    Quick Bites    Burgers           Fast Food, Beverages   \n",
       "3  Casual Dining        nan  Continental, Chinese, Italian   \n",
       "4  Casual Dining        nan  Continental, Chinese, Italian   \n",
       "\n",
       "  approx_cost(for two people)  \\\n",
       "0                         200   \n",
       "1                         400   \n",
       "2                         400   \n",
       "3                         700   \n",
       "4                         700   \n",
       "\n",
       "                                        reviews_list menu_item  \\\n",
       "0  [('rated 5.0', \"rated\\n  had an egg chicken ro...        []   \n",
       "1  [('rated 4.0', 'rated\\n  this little cafe is s...        []   \n",
       "2  [('rated 4.0', 'rated\\n  this little cafe is s...        []   \n",
       "3  [('rated 5.0', \"rated\\n  great service and don...        []   \n",
       "4  [('rated 5.0', \"rated\\n  great service and don...        []   \n",
       "\n",
       "  listed_in(type)_y  listed_in(city) rating  \\\n",
       "0          Delivery        Bellandur      1   \n",
       "1          Delivery              BTM      1   \n",
       "2          Dine-out              BTM      1   \n",
       "3            Buffet  Electronic City    NaN   \n",
       "4          Delivery  Electronic City    NaN   \n",
       "\n",
       "                                                text  \n",
       "0  [('rated 5.0', \"rated\\n  had an egg chicken ro...  \n",
       "1  [('rated 4.0', 'rated\\n  this little cafe is s...  \n",
       "2  [('rated 4.0', 'rated\\n  this little cafe is s...  \n",
       "3  [('rated 5.0', \"rated\\n  great service and don...  \n",
       "4  [('rated 5.0', \"rated\\n  great service and don...  "
      ]
     },
     "execution_count": 221,
     "metadata": {},
     "output_type": "execute_result"
    }
   ],
   "source": [
    "newdata.head()"
   ]
  },
  {
   "cell_type": "code",
   "execution_count": 222,
   "id": "03630b03",
   "metadata": {},
   "outputs": [],
   "source": [
    "# Creating a new dataset with text and restaurant ratings\n",
    "text_data = newdata[[\"text\", \"rating\"]]"
   ]
  },
  {
   "cell_type": "code",
   "execution_count": 223,
   "id": "f721880c",
   "metadata": {},
   "outputs": [
    {
     "data": {
      "text/html": [
       "<div>\n",
       "<style scoped>\n",
       "    .dataframe tbody tr th:only-of-type {\n",
       "        vertical-align: middle;\n",
       "    }\n",
       "\n",
       "    .dataframe tbody tr th {\n",
       "        vertical-align: top;\n",
       "    }\n",
       "\n",
       "    .dataframe thead th {\n",
       "        text-align: right;\n",
       "    }\n",
       "</style>\n",
       "<table border=\"1\" class=\"dataframe\">\n",
       "  <thead>\n",
       "    <tr style=\"text-align: right;\">\n",
       "      <th></th>\n",
       "      <th>text</th>\n",
       "      <th>rating</th>\n",
       "    </tr>\n",
       "  </thead>\n",
       "  <tbody>\n",
       "    <tr>\n",
       "      <th>0</th>\n",
       "      <td>[('rated 5.0', \"rated\\n  had an egg chicken ro...</td>\n",
       "      <td>1</td>\n",
       "    </tr>\n",
       "    <tr>\n",
       "      <th>1</th>\n",
       "      <td>[('rated 4.0', 'rated\\n  this little cafe is s...</td>\n",
       "      <td>1</td>\n",
       "    </tr>\n",
       "    <tr>\n",
       "      <th>2</th>\n",
       "      <td>[('rated 4.0', 'rated\\n  this little cafe is s...</td>\n",
       "      <td>1</td>\n",
       "    </tr>\n",
       "    <tr>\n",
       "      <th>3</th>\n",
       "      <td>[('rated 5.0', \"rated\\n  great service and don...</td>\n",
       "      <td>NaN</td>\n",
       "    </tr>\n",
       "    <tr>\n",
       "      <th>4</th>\n",
       "      <td>[('rated 5.0', \"rated\\n  great service and don...</td>\n",
       "      <td>NaN</td>\n",
       "    </tr>\n",
       "  </tbody>\n",
       "</table>\n",
       "</div>"
      ],
      "text/plain": [
       "                                                text rating\n",
       "0  [('rated 5.0', \"rated\\n  had an egg chicken ro...      1\n",
       "1  [('rated 4.0', 'rated\\n  this little cafe is s...      1\n",
       "2  [('rated 4.0', 'rated\\n  this little cafe is s...      1\n",
       "3  [('rated 5.0', \"rated\\n  great service and don...    NaN\n",
       "4  [('rated 5.0', \"rated\\n  great service and don...    NaN"
      ]
     },
     "execution_count": 223,
     "metadata": {},
     "output_type": "execute_result"
    }
   ],
   "source": [
    "text_data.head()"
   ]
  },
  {
   "cell_type": "code",
   "execution_count": 224,
   "id": "d2f366b2",
   "metadata": {},
   "outputs": [
    {
     "data": {
      "text/plain": [
       "['1', NaN, '0', '2']\n",
       "Categories (3, object): ['0' < '1' < '2']"
      ]
     },
     "execution_count": 224,
     "metadata": {},
     "output_type": "execute_result"
    }
   ],
   "source": [
    "text_data['rating'].unique()"
   ]
  },
  {
   "cell_type": "code",
   "execution_count": 225,
   "id": "cddef62e",
   "metadata": {},
   "outputs": [],
   "source": [
    "from sklearn.preprocessing import LabelEncoder"
   ]
  },
  {
   "cell_type": "code",
   "execution_count": 226,
   "id": "e65165a5",
   "metadata": {},
   "outputs": [],
   "source": [
    "le = LabelEncoder()"
   ]
  },
  {
   "cell_type": "code",
   "execution_count": 227,
   "id": "2f23f709",
   "metadata": {},
   "outputs": [],
   "source": [
    "text_data.dropna(inplace=True)"
   ]
  },
  {
   "cell_type": "code",
   "execution_count": 228,
   "id": "af4bd1c6",
   "metadata": {},
   "outputs": [],
   "source": [
    "text_data['rating']=le.fit_transform(text_data['rating'])"
   ]
  },
  {
   "cell_type": "code",
   "execution_count": 229,
   "id": "f598c5ab",
   "metadata": {},
   "outputs": [
    {
     "data": {
      "text/plain": [
       "array([1, 0, 2])"
      ]
     },
     "execution_count": 229,
     "metadata": {},
     "output_type": "execute_result"
    }
   ],
   "source": [
    "text_data['rating'].unique()"
   ]
  },
  {
   "cell_type": "code",
   "execution_count": 230,
   "id": "1bbfe116",
   "metadata": {},
   "outputs": [
    {
     "data": {
      "text/plain": [
       "dtype('int32')"
      ]
     },
     "execution_count": 230,
     "metadata": {},
     "output_type": "execute_result"
    }
   ],
   "source": [
    "text_data['rating'].dtype"
   ]
  },
  {
   "cell_type": "markdown",
   "id": "730e3f5b",
   "metadata": {},
   "source": [
    "    what all things, u have to apply on your text column, basically\n",
    "    a.lowercase\n",
    "    b.tokenization\n",
    "    c.remove stopwords\n",
    "    d.lemmatization"
   ]
  },
  {
   "cell_type": "code",
   "execution_count": 231,
   "id": "d6de1b41",
   "metadata": {},
   "outputs": [],
   "source": [
    "# Converting text to lowercase\n",
    "text_data[\"text\"] = text_data[\"text\"].apply(lambda x: x.lower())"
   ]
  },
  {
   "cell_type": "code",
   "execution_count": 232,
   "id": "e1b98c21",
   "metadata": {},
   "outputs": [
    {
     "data": {
      "text/plain": [
       "(16391, 2)"
      ]
     },
     "execution_count": 232,
     "metadata": {},
     "output_type": "execute_result"
    }
   ],
   "source": [
    "text_data.shape"
   ]
  },
  {
   "cell_type": "code",
   "execution_count": 234,
   "id": "37dddbd6",
   "metadata": {},
   "outputs": [],
   "source": [
    "df=text_data.sample(n=2000)"
   ]
  },
  {
   "cell_type": "code",
   "execution_count": 235,
   "id": "05b36eba",
   "metadata": {},
   "outputs": [],
   "source": [
    "df.reset_index(inplace=True)"
   ]
  },
  {
   "cell_type": "code",
   "execution_count": 236,
   "id": "2f6ee564",
   "metadata": {},
   "outputs": [],
   "source": [
    "df.drop('index',axis=1,inplace=True)"
   ]
  },
  {
   "cell_type": "code",
   "execution_count": 237,
   "id": "26666e40",
   "metadata": {},
   "outputs": [
    {
     "data": {
      "text/html": [
       "<div>\n",
       "<style scoped>\n",
       "    .dataframe tbody tr th:only-of-type {\n",
       "        vertical-align: middle;\n",
       "    }\n",
       "\n",
       "    .dataframe tbody tr th {\n",
       "        vertical-align: top;\n",
       "    }\n",
       "\n",
       "    .dataframe thead th {\n",
       "        text-align: right;\n",
       "    }\n",
       "</style>\n",
       "<table border=\"1\" class=\"dataframe\">\n",
       "  <thead>\n",
       "    <tr style=\"text-align: right;\">\n",
       "      <th></th>\n",
       "      <th>text</th>\n",
       "      <th>rating</th>\n",
       "    </tr>\n",
       "  </thead>\n",
       "  <tbody>\n",
       "    <tr>\n",
       "      <th>0</th>\n",
       "      <td>[('rated 2.0', 'rated\\n  meghana foods!!! the ...</td>\n",
       "      <td>2</td>\n",
       "    </tr>\n",
       "    <tr>\n",
       "      <th>1</th>\n",
       "      <td>[('rated 3.0', 'rated\\n  ordered brown rice ve...</td>\n",
       "      <td>1</td>\n",
       "    </tr>\n",
       "    <tr>\n",
       "      <th>2</th>\n",
       "      <td>[('rated 1.0', 'rated\\n  one of the worst food...</td>\n",
       "      <td>1</td>\n",
       "    </tr>\n",
       "    <tr>\n",
       "      <th>3</th>\n",
       "      <td>[('rated 1.0', 'rated\\n  order at your own ris...</td>\n",
       "      <td>1</td>\n",
       "    </tr>\n",
       "    <tr>\n",
       "      <th>4</th>\n",
       "      <td>[] [] nan north indian</td>\n",
       "      <td>0</td>\n",
       "    </tr>\n",
       "  </tbody>\n",
       "</table>\n",
       "</div>"
      ],
      "text/plain": [
       "                                                text  rating\n",
       "0  [('rated 2.0', 'rated\\n  meghana foods!!! the ...       2\n",
       "1  [('rated 3.0', 'rated\\n  ordered brown rice ve...       1\n",
       "2  [('rated 1.0', 'rated\\n  one of the worst food...       1\n",
       "3  [('rated 1.0', 'rated\\n  order at your own ris...       1\n",
       "4                             [] [] nan north indian       0"
      ]
     },
     "execution_count": 237,
     "metadata": {},
     "output_type": "execute_result"
    }
   ],
   "source": [
    "df.head()"
   ]
  },
  {
   "cell_type": "code",
   "execution_count": 238,
   "id": "90fe63a0",
   "metadata": {},
   "outputs": [
    {
     "data": {
      "text/plain": [
       "text      0\n",
       "rating    0\n",
       "dtype: int64"
      ]
     },
     "execution_count": 238,
     "metadata": {},
     "output_type": "execute_result"
    }
   ],
   "source": [
    "df.isnull().sum()"
   ]
  },
  {
   "cell_type": "code",
   "execution_count": 239,
   "id": "5480a9c1",
   "metadata": {},
   "outputs": [
    {
     "data": {
      "text/plain": [
       "(2000, 2)"
      ]
     },
     "execution_count": 239,
     "metadata": {},
     "output_type": "execute_result"
    }
   ],
   "source": [
    "df.shape"
   ]
  },
  {
   "cell_type": "code",
   "execution_count": 240,
   "id": "c865d61e",
   "metadata": {},
   "outputs": [],
   "source": [
    "tokens = df[\"text\"].apply(tokenizer.tokenize)"
   ]
  },
  {
   "cell_type": "code",
   "execution_count": 241,
   "id": "7885af0d",
   "metadata": {},
   "outputs": [
    {
     "data": {
      "text/plain": [
       "pandas.core.series.Series"
      ]
     },
     "execution_count": 241,
     "metadata": {},
     "output_type": "execute_result"
    }
   ],
   "source": [
    "type(tokens)"
   ]
  },
  {
   "cell_type": "code",
   "execution_count": 243,
   "id": "d0cc63d5",
   "metadata": {},
   "outputs": [
    {
     "name": "stdout",
     "output_type": "stream",
     "text": [
      "['rated', 'rated', 'n', 'meghana', 'foods', 'the', 'name', 'itself', 'is', 'more', 'than', 'enough', 'to', 'get', 'you', 'drooling', 'over', 'their', 'biriyanis', 'they', 'have', 'always', 'been', 'spicy', 'and', 'nice', 'unfortunate', 'not', 'this', 'time', 'u', 'd', 'yes', 'i', 'had', 'a', 'bad', 'experience', 'in', 'meghana', 'foods', 'as', 'shocking', 'as', 'it', 'seems', 'it', 'was', 'bad', 'it', 'was', 'too', 'sweet', 'to', 'be', 'true', 'pun', 'intended', 'but', 'the', 'starter', 'was', 'amazing', 'my', 'review', 'nfood', 'for', 'the', 'before', 'taste', 'nservice', 'nambience', 'ncost', 'for', 'rated', 'rated', 'n', 'this', 'is', 'one', 'of', 'the', 'best', 'biryanis', 'i', 've', 'ever', 'had', 'the', 'meghana', 'special', 'while', 'chicken', 'is', 'still', 'brilliant', 'the', 'tandoori', 'chicken', 'is', 'also', 'pretty', 'great', 'looking', 'forward', 'to', 'trying', 'their', 'mutton', 'variants', 'rated', 'rated', 'n', 'service', 'is', 'too', 'slow', 'and', 'need', 'to', 'wait', 'for', 'hour', 'for', 'min', 'for', 'having', 'food', 'they', 'don', 't', 'even', 'take', 'reservations', 'properly', 'and', 'biryani', 'is', 'not', 'that', 'good', 'compared', 'to', 'paradise', 'biryani', 'in', 'terms', 'of', 'veg', 'biryani', 'rated', 'rated', 'n', 'one', 'of', 'the', 'best', 'briyani', 'i', 'had', 'at', 'the', 'end', 'of', 'n', 'n', 'ni', 'had', 'their', 'special', 'chicken', 'briyani', 'mutton', 'keema', 'briyani', 'the', 'meghanabiryani', 'is', 'an', 'andhra', 'style', 'restuarant', 'serving', 'delicious', 'nonveg', 'dishes', 'in', 'bengaluru', 'the', 'briyani', 'was', 'very', 'tasty', 'the', 'taste', 'clearly', 'showed', 'they', 've', 'used', 'only', 'natural', 'spices', 'in', 'briyani', 'n', 'n', 'noverall', 'it', 'was', 'a', 'great', 'experience', 'in', 'meghanas', 'restuarant', 'so', 'i', 'would', 'rate', 'n', 'n', 'n', 'food', 'foodtalkindia', 'indianfoodie', 'foodtravelers', 'foodphoto', 'foodtalkindia', 'foodindia', 'foodphotographer', 'foodpics', 'rated', 'rated', 'n', 'till', 'now', 'the', 'best', 'biriyani', 'i', 'have', 'tasted', 'nmeghan', 's', 'chicken', 'boneless', 'biriyani', 'is', 'to', 'die', 'for', 'nmeghan', 's', 'have', 'maintained', 'ter', 'taste', 'from', 'yes', 'i', 'm', 'visiting', 'this', 'place', 'and', 'i', 'am', 'not', 'bored', 'of', 'food', 'npanner', 'biriyani', 'resembles', 'taste', 'of', 'boneless', 'biriyani', 'for', 'vegetarians', 'ngravy', 'roti', 's', 'non', 'starters', 'i', 'll', 'give', 'it', 'a', 'star', 'nonly', 'fr', 'biriyani', 'u', 'can', 'visit', 'this', 'place', 'nnice', 'ambience', 'bit', 'crowded', 'always', 'rated', 'rated', 'n', 'i', 'am', 'very', 'happy', 'to', 'give', 'this', 'place', 'a', 'five', 'star', 'rating', 'the', 'taste', 'of', 'the', 'biriyani', 'deserves', 'it', 'i', 'loved', 'it', 'when', 'we', 'visited', 'it', 'was', 'pretty', 'crowded', 'but', 'their', 'service', 'was', 'spot', 'on', 'the', 'food', 'was', 'spicy', 'yet', 'yum', 'the', 'quantity', 'was', 'filling', 'and', 'apt', 'for', 'money', 'kudos', 'rated', 'rated', 'n', 'if', 'you', 'want', 'good', 'biryani', 'this', 'is', 'the', 'place', 'to', 'be', 'at', 'it', 's', 'worth', 'every', 'penny', 'that', 'you', 'would', 'be', 'spending', 'nthe', 'chicken', 'lollipop', 'prawn', 'biryani', 'and', 'the', 'meghana', 'special', 'biryani', 'is', 'absolutely', 'fantastic', 'and', 'also', 'my', 'favourite', 'picks', 'of', 'meghana', 'foods', 'nthis', 'place', 'is', 'always', 'crowded', 'be', 'it', 'a', 'weekday', 'or', 'weekend', 'so', 'you', 'might', 'have', 'to', 'wait', 'for', 'your', 'turn', 'but', 'their', 'service', 'is', 'super', 'quick', 'nthis', 'place', 'is', 'a', 'must', 'if', 'you', 'are', 'new', 'or', 'visiting', 'bangalore', 'rated', 'rated', 'n', 'lemon', 'chicken', 'was', 'so', 'tender', 'fresh', 'and', 'juicy', 'am', 'glad', 'that', 'the', 'restaurant', 'staff', 'suggested', 'us', 'to', 'order', 'the', 'biriyaanis', 'were', 'too', 'good', 'we', 'had', 'ordered', 'lollypop', 'biriyaani', 'which', 'was', 'serverd', 'with', 'the', 'lollypop', 'toppings', 'another', 'was', 'special', 'biriyaaani', 'were', 'scrambled', 'lemon', 'flavoured', 'chicken', 'was', 'topped', 'on', 'the', 'biriyaaani', 'bowl', 'found', 'it', 'expensive', 'but', 'worth', 'giving', 'the', 'bugs', 'rated', 'rated', 'n', 'meghana', 'foods', 'is', 'very', 'famous', 'for', 'its', 'boneless', 'biryani', 'and', 'also', 'boneless', 'starters', 'and', 'taste', 'is', 'good', 'and', 'the', 'quantity', 'is', 'more', 'i', 'have', 'tried', 'many', 'starters', 'all', 'of', 'them', 'are', 'good', 'and', 'they', 'are', 'also', 'boneless', 'rated', 'rated', 'n', 'i', 'have', 'been', 'to', 'this', 'place', 'couple', 'of', 'times', 'best', 'place', 'for', 'biriyani', 'lovers', 'the', 'biriyani', 'rice', 'is', 'so', 'spicy', 'and', 'mouth', 'watering', 'none', 'of', 'my', 'favourite', 'from', 'the', 'menu', 'is', 'lemon', 'chicken', 'and', 'meghanas', 'special', 'biriyani', 'nthis', 'place', 'is', 'crowded', 'all', 'the', 'time', 'weekend', 'we', 'have', 'to', 'wait', 'for', 'an', 'hour', 'but', 'end', 'of', 'the', 'day', 'waiting', 'is', 'worth', 'for', 'the', 'place', 'rated', 'rated', 'n', 'biryani', 'is', 'comfort', 'food', 'and', 'uber', 'eats', 'not', 'sponsored', 'makes', 'the', 'ordering', 'process', 'so', 'easy', 'and', 'affordable', 'n', 'nwe', 'sisters', 'often', 'order', 'dum', 'aloo', 'biryani', 'home', 'when', 'we', 're', 'having', 'the', 'netflix', 'and', 'chill', 'kinda', 'days', 'n', 'nthey', 'deliver', 'the', 'package', 'in', 'a', 'jute', 'bag', 'with', 'raita', 'and', 'a', 'spicy', 'sidedish', 'along', 'with', 'the', 'biryani', 'a', 'packet', 'of', 'biryani', 'is', 'definitely', 'enough', 'for', 'two', 'individuals', 'nthe', 'biryani', 'is', 'superbly', 'cooked', 'in', 'the', 'authentic', 'style', 'flavors', 'oozing', 'out', 'in', 'every', 'bite', 'ndefinitely', 'the', 'best', 'biryani', 'i', 've', 'tasted', 'highly', 'recommended', 'rated', 'rated', 'n', 'i', 'have', 'been', 'an', 'ardent', 'biryani', 'fan', 'especially', 'all', 'the', 'meghana', 'joints', 'in', 'bangalore', 'nvisited', 'this', 'place', 'on', 'a', 'weekend', 'night', 'for', 'dinner', 'ordered', 'chilli', 'chicken', 'as', 'a', 'starter', 'which', 'was', 'not', 'apt', 'i', 'found', 'it', 'directly', 'out', 'of', 'the', 'oil', 'deep', 'fried', 'no', 'taste', 'and', 'fill', 'of', 'oil', 'very', 'blank', 'n', 'nalso', 'ordered', 'naan', 'and', 'butter', 'chicken', 'which', 'was', 'good', 'in', 'taste', 'also', 'ordered', 'chicken', 'boneless', 'biryani', 'the', 'biryani', 'was', 'very', 'average', 'it', 'was', 'very', 'spicy', 'that', 'literally', 'burnt', 'my', 'stomach', 'and', 'throat', 'not', 'sure', 'if', 'something', 'was', 'wrong', 'that', 'particular', 'day', 'but', 'did', 'not', 'like', 'it', 'n', 'noverall', 'can', 'try', 'once', 'rated', 'rated', 'n', 'they', 'are', 'popular', 'for', 'their', 'biryani', 'ordered', 'chicken', 'dum', 'biryanis', 'food', 'was', 'delivered', 'on', 'time', 'and', 'the', 'packaging', 'was', 'good', 'portion', 'size', 'was', 'just', 'right', 'enough', 'for', 'one', 'person', 'taste', 'was', 'also', 'good', 'but', 'the', 'there', 'was', 'too', 'much', 'white', 'rice', 'so', 'the', 'masala', 'was', 'not', 'consistent', 'n', 'noverall', 'food', 'experience', 'was', 'good', 'but', 'nothing', 'extraordinary', 'rated', 'rated', 'n', 'if', 'you', 'visit', 'bangalore', 'and', 'want', 'to', 'have', 'the', 'most', 'famous', 'biryani', 'than', 'this', 'the', 'right', 'place', 'this', 'place', 'has', 'a', 'never', 'ending', 'list', 'of', 'biryani', 'each', 'biryani', 'has', 'its', 'own', 'taste', 'rated', 'rated', 'n', 'i', 'have', 'been', 'to', 'this', 'place', 'couple', 'of', 'times', 'best', 'place', 'for', 'biriyani', 'lovers', 'the', 'biriyani', 'rice', 'is', 'so', 'spicy', 'and', 'mouth', 'watering', 'none', 'of', 'my', 'favourite', 'from', 'the', 'menu', 'is', 'lemon', 'chicken', 'and', 'meghanas', 'special', 'biriyani', 'nthis', 'place', 'is', 'crowded', 'all', 'the', 'time', 'weekend', 'we', 'have', 'to', 'wait', 'for', 'an', 'hour', 'but', 'end', 'of', 'the', 'day', 'waiting', 'is', 'worth', 'for', 'the', 'place', 'rated', 'rated', 'n', 'biryani', 'is', 'comfort', 'food', 'and', 'uber', 'eats', 'not', 'sponsored', 'makes', 'the', 'ordering', 'process', 'so', 'easy', 'and', 'affordable', 'n', 'nwe', 'sisters', 'often', 'order', 'dum', 'aloo', 'biryani', 'home', 'when', 'we', 're', 'having', 'the', 'netflix', 'and', 'chill', 'kinda', 'days', 'n', 'nthey', 'deliver', 'the', 'package', 'in', 'a', 'jute', 'bag', 'with', 'raita', 'and', 'a', 'spicy', 'sidedish', 'along', 'with', 'the', 'biryani', 'a', 'packet', 'of', 'biryani', 'is', 'definitely', 'enough', 'for', 'two', 'individuals', 'nthe', 'biryani', 'is', 'superbly', 'cooked', 'in', 'the', 'authentic', 'style', 'flavors', 'oozing', 'out', 'in', 'every', 'bite', 'ndefinitely', 'the', 'best', 'biryani', 'i', 've', 'tasted', 'highly', 'recommended', 'rated', 'rated', 'n', 'i', 'have', 'been', 'an', 'ardent', 'biryani', 'fan', 'especially', 'all', 'the', 'meghana', 'joints', 'in', 'bangalore', 'nvisited', 'this', 'place', 'on', 'a', 'weekend', 'night', 'for', 'dinner', 'ordered', 'chilli', 'chicken', 'as', 'a', 'starter', 'which', 'was', 'not', 'apt', 'i', 'found', 'it', 'directly', 'out', 'of', 'the', 'oil', 'deep', 'fried', 'no', 'taste', 'and', 'fill', 'of', 'oil', 'very', 'blank', 'n', 'nalso', 'ordered', 'naan', 'and', 'butter', 'chicken', 'which', 'was', 'good', 'in', 'taste', 'also', 'ordered', 'chicken', 'boneless', 'biryani', 'the', 'biryani', 'was', 'very', 'average', 'it', 'was', 'very', 'spicy', 'that', 'literally', 'burnt', 'my', 'stomach', 'and', 'throat', 'not', 'sure', 'if', 'something', 'was', 'wrong', 'that', 'particular', 'day', 'but', 'did', 'not', 'like', 'it', 'n', 'noverall', 'can', 'try', 'once', 'rated', 'rated', 'n', 'they', 'are', 'popular', 'for', 'their', 'biryani', 'ordered', 'chicken', 'dum', 'biryanis', 'food', 'was', 'delivered', 'on', 'time', 'and', 'the', 'packaging', 'was', 'good', 'portion', 'size', 'was', 'just', 'right', 'enough', 'for', 'one', 'person', 'taste', 'was', 'also', 'good', 'but', 'the', 'there', 'was', 'too', 'much', 'white', 'rice', 'so', 'the', 'masala', 'was', 'not', 'consistent', 'n', 'noverall', 'food', 'experience', 'was', 'good', 'but', 'nothing', 'extraordinary', 'rated', 'rated', 'n', 'if', 'you', 'visit', 'bangalore', 'and', 'want', 'to', 'have', 'the', 'most', 'famous', 'biryani', 'than', 'this', 'the', 'right', 'place', 'this', 'place', 'has', 'a', 'never', 'ending', 'list', 'of', 'biryani', 'each', 'biryani', 'has', 'its', 'own', 'taste', 'rated', 'rated', 'n', 'i', 'have', 'been', 'to', 'this', 'place', 'couple', 'of', 'times', 'best', 'place', 'for', 'biriyani', 'lovers', 'the', 'biriyani', 'rice', 'is', 'so', 'spicy', 'and', 'mouth', 'watering', 'none', 'of', 'my', 'favourite', 'from', 'the', 'menu', 'is', 'lemon', 'chicken', 'and', 'meghanas', 'special', 'biriyani', 'nthis', 'place', 'is', 'crowded', 'all', 'the', 'time', 'weekend', 'we', 'have', 'to', 'wait', 'for', 'an', 'hour', 'but', 'end', 'of', 'the', 'day', 'waiting', 'is', 'worth', 'for', 'the', 'place', 'rated', 'rated', 'n', 'biryani', 'is', 'comfort', 'food', 'and', 'uber', 'eats', 'not', 'sponsored', 'makes', 'the', 'ordering', 'process', 'so', 'easy', 'and', 'affordable', 'n', 'nwe', 'sisters', 'often', 'order', 'dum', 'aloo', 'biryani', 'home', 'when', 'we', 're', 'having', 'the', 'netflix', 'and', 'chill', 'kinda', 'days', 'n', 'nthey', 'deliver', 'the', 'package', 'in', 'a', 'jute', 'bag', 'with', 'raita', 'and', 'a', 'spicy', 'sidedish', 'along', 'with', 'the', 'biryani', 'a', 'packet', 'of', 'biryani', 'is', 'definitely', 'enough', 'for', 'two', 'individuals', 'nthe', 'biryani', 'is', 'superbly', 'cooked', 'in', 'the', 'authentic', 'style', 'flavors', 'oozing', 'out', 'in', 'every', 'bite', 'ndefinitely', 'the', 'best', 'biryani', 'i', 've', 'tasted', 'highly', 'recommended', 'rated', 'rated', 'n', 'i', 'have', 'been', 'an', 'ardent', 'biryani', 'fan', 'especially', 'all', 'the', 'meghana', 'joints', 'in', 'bangalore', 'nvisited', 'this', 'place', 'on', 'a', 'weekend', 'night', 'for', 'dinner', 'ordered', 'chilli', 'chicken', 'as', 'a', 'starter', 'which', 'was', 'not', 'apt', 'i', 'found', 'it', 'directly', 'out', 'of', 'the', 'oil', 'deep', 'fried', 'no', 'taste', 'and', 'fill', 'of', 'oil', 'very', 'blank', 'n', 'nalso', 'ordered', 'naan', 'and', 'butter', 'chicken', 'which', 'was', 'good', 'in', 'taste', 'also', 'ordered', 'chicken', 'boneless', 'biryani', 'the', 'biryani', 'was', 'very', 'average', 'it', 'was', 'very', 'spicy', 'that', 'literally', 'burnt', 'my', 'stomach', 'and', 'throat', 'not', 'sure', 'if', 'something', 'was', 'wrong', 'that', 'particular', 'day', 'but', 'did', 'not', 'like', 'it', 'n', 'noverall', 'can', 'try', 'once', 'rated', 'rated', 'n', 'they', 'are', 'popular', 'for', 'their', 'biryani', 'ordered', 'chicken', 'dum', 'biryanis', 'food', 'was', 'delivered', 'on', 'time', 'and', 'the', 'packaging', 'was', 'good', 'portion', 'size', 'was', 'just', 'right', 'enough', 'for', 'one', 'person', 'taste', 'was', 'also', 'good', 'but', 'the', 'there', 'was', 'too', 'much', 'white', 'rice', 'so', 'the', 'masala', 'was', 'not', 'consistent', 'n', 'noverall', 'food', 'experience', 'was', 'good', 'but', 'nothing', 'extraordinary', 'rated', 'rated', 'n', 'if', 'you', 'visit', 'bangalore', 'and', 'want', 'to', 'have', 'the', 'most', 'famous', 'biryani', 'than', 'this', 'the', 'right', 'place', 'this', 'place', 'has', 'a', 'never', 'ending', 'list', 'of', 'biryani', 'each', 'biryani', 'has', 'its', 'own', 'taste', 'chicken', 'boneless', 'biryani', 'hyderabadi', 'biryani', 'paneer', 'biryani', 'tandoori', 'chicken', 'vegetable', 'biryani', 'chicken', 'kebab', 'raita', 'biryani', 'north', 'indian', 'chinese']\n"
     ]
    }
   ],
   "source": [
    "print(tokens[0])"
   ]
  },
  {
   "cell_type": "code",
   "execution_count": 244,
   "id": "a13ff3df",
   "metadata": {},
   "outputs": [
    {
     "data": {
      "text/plain": [
       "2000"
      ]
     },
     "execution_count": 244,
     "metadata": {},
     "output_type": "execute_result"
    }
   ],
   "source": [
    "len(tokens)"
   ]
  },
  {
   "cell_type": "code",
   "execution_count": 245,
   "id": "3859f046",
   "metadata": {},
   "outputs": [],
   "source": [
    "# Removing stopwords \n",
    "tokens = tokens.apply(lambda x: [tokens for tokens in x if tokens not in stop])"
   ]
  },
  {
   "cell_type": "code",
   "execution_count": 246,
   "id": "20198c30",
   "metadata": {},
   "outputs": [],
   "source": [
    "from nltk.stem import WordNetLemmatizer"
   ]
  },
  {
   "cell_type": "code",
   "execution_count": 247,
   "id": "3606460b",
   "metadata": {},
   "outputs": [],
   "source": [
    "wl = WordNetLemmatizer()"
   ]
  },
  {
   "cell_type": "code",
   "execution_count": 248,
   "id": "5a01af4e",
   "metadata": {},
   "outputs": [
    {
     "name": "stdout",
     "output_type": "stream",
     "text": [
      "['meghana', 'foods', 'name', 'enough', 'get', 'drooling', 'biriyanis', 'always', 'spicy', 'nice', 'unfortunate', 'time', 'u', 'yes', 'bad', 'experience', 'meghana', 'foods', 'shocking', 'seems', 'bad', 'sweet', 'true', 'pun', 'intended', 'starter', 'amazing', 'review', 'nfood', 'taste', 'nservice', 'nambience', 'ncost', 'one', 'best', 'biryanis', 'ever', 'meghana', 'special', 'chicken', 'still', 'brilliant', 'tandoori', 'chicken', 'also', 'pretty', 'great', 'looking', 'forward', 'trying', 'mutton', 'variants', 'service', 'slow', 'need', 'wait', 'hour', 'min', 'food', 'even', 'take', 'reservations', 'properly', 'biryani', 'good', 'compared', 'paradise', 'biryani', 'terms', 'veg', 'biryani', 'one', 'best', 'briyani', 'end', 'ni', 'special', 'chicken', 'briyani', 'mutton', 'keema', 'briyani', 'meghanabiryani', 'andhra', 'style', 'restuarant', 'serving', 'delicious', 'nonveg', 'dishes', 'bengaluru', 'briyani', 'tasty', 'taste', 'clearly', 'showed', 'used', 'natural', 'spices', 'briyani', 'noverall', 'great', 'experience', 'meghanas', 'restuarant', 'would', 'rate', 'food', 'foodtalkindia', 'indianfoodie', 'foodtravelers', 'foodphoto', 'foodtalkindia', 'foodindia', 'foodphotographer', 'foodpics', 'till', 'best', 'biriyani', 'tasted', 'nmeghan', 'chicken', 'boneless', 'biriyani', 'die', 'nmeghan', 'maintained', 'ter', 'taste', 'yes', 'visiting', 'place', 'bored', 'food', 'npanner', 'biriyani', 'resembles', 'taste', 'boneless', 'biriyani', 'vegetarians', 'ngravy', 'roti', 'non', 'starters', 'give', 'star', 'nonly', 'fr', 'biriyani', 'u', 'visit', 'place', 'nnice', 'ambience', 'bit', 'crowded', 'always', 'happy', 'give', 'place', 'five', 'star', 'rating', 'taste', 'biriyani', 'deserves', 'loved', 'visited', 'pretty', 'crowded', 'service', 'spot', 'food', 'spicy', 'yet', 'yum', 'quantity', 'filling', 'apt', 'money', 'kudos', 'want', 'good', 'biryani', 'place', 'worth', 'every', 'penny', 'would', 'spending', 'nthe', 'chicken', 'lollipop', 'prawn', 'biryani', 'meghana', 'special', 'biryani', 'absolutely', 'fantastic', 'also', 'favourite', 'picks', 'meghana', 'foods', 'nthis', 'place', 'always', 'crowded', 'weekday', 'weekend', 'might', 'wait', 'turn', 'service', 'super', 'quick', 'nthis', 'place', 'must', 'new', 'visiting', 'bangalore', 'lemon', 'chicken', 'tender', 'fresh', 'juicy', 'glad', 'restaurant', 'staff', 'suggested', 'us', 'order', 'biriyaanis', 'good', 'ordered', 'lollypop', 'biriyaani', 'serverd', 'lollypop', 'toppings', 'another', 'special', 'biriyaaani', 'scrambled', 'lemon', 'flavoured', 'chicken', 'topped', 'biriyaaani', 'bowl', 'found', 'expensive', 'worth', 'giving', 'bugs', 'meghana', 'foods', 'famous', 'boneless', 'biryani', 'also', 'boneless', 'starters', 'taste', 'good', 'quantity', 'tried', 'many', 'starters', 'good', 'also', 'boneless', 'place', 'couple', 'times', 'best', 'place', 'biriyani', 'lovers', 'biriyani', 'rice', 'spicy', 'mouth', 'watering', 'none', 'favourite', 'menu', 'lemon', 'chicken', 'meghanas', 'special', 'biriyani', 'nthis', 'place', 'crowded', 'time', 'weekend', 'wait', 'hour', 'end', 'day', 'waiting', 'worth', 'place', 'biryani', 'comfort', 'food', 'uber', 'eats', 'sponsored', 'makes', 'ordering', 'process', 'easy', 'affordable', 'nwe', 'sisters', 'often', 'order', 'dum', 'aloo', 'biryani', 'home', 'netflix', 'chill', 'kinda', 'days', 'nthey', 'deliver', 'package', 'jute', 'bag', 'raita', 'spicy', 'sidedish', 'along', 'biryani', 'packet', 'biryani', 'definitely', 'enough', 'two', 'individuals', 'nthe', 'biryani', 'superbly', 'cooked', 'authentic', 'style', 'flavors', 'oozing', 'every', 'bite', 'ndefinitely', 'best', 'biryani', 'tasted', 'highly', 'recommended', 'ardent', 'biryani', 'fan', 'especially', 'meghana', 'joints', 'bangalore', 'nvisited', 'place', 'weekend', 'night', 'dinner', 'ordered', 'chilli', 'chicken', 'starter', 'apt', 'found', 'directly', 'oil', 'deep', 'fried', 'taste', 'fill', 'oil', 'blank', 'nalso', 'ordered', 'naan', 'butter', 'chicken', 'good', 'taste', 'also', 'ordered', 'chicken', 'boneless', 'biryani', 'biryani', 'average', 'spicy', 'literally', 'burnt', 'stomach', 'throat', 'sure', 'something', 'wrong', 'particular', 'day', 'like', 'noverall', 'try', 'popular', 'biryani', 'ordered', 'chicken', 'dum', 'biryanis', 'food', 'delivered', 'time', 'packaging', 'good', 'portion', 'size', 'right', 'enough', 'one', 'person', 'taste', 'also', 'good', 'much', 'white', 'rice', 'masala', 'consistent', 'noverall', 'food', 'experience', 'good', 'nothing', 'extraordinary', 'visit', 'bangalore', 'want', 'famous', 'biryani', 'right', 'place', 'place', 'never', 'ending', 'list', 'biryani', 'biryani', 'taste', 'place', 'couple', 'times', 'best', 'place', 'biriyani', 'lovers', 'biriyani', 'rice', 'spicy', 'mouth', 'watering', 'none', 'favourite', 'menu', 'lemon', 'chicken', 'meghanas', 'special', 'biriyani', 'nthis', 'place', 'crowded', 'time', 'weekend', 'wait', 'hour', 'end', 'day', 'waiting', 'worth', 'place', 'biryani', 'comfort', 'food', 'uber', 'eats', 'sponsored', 'makes', 'ordering', 'process', 'easy', 'affordable', 'nwe', 'sisters', 'often', 'order', 'dum', 'aloo', 'biryani', 'home', 'netflix', 'chill', 'kinda', 'days', 'nthey', 'deliver', 'package', 'jute', 'bag', 'raita', 'spicy', 'sidedish', 'along', 'biryani', 'packet', 'biryani', 'definitely', 'enough', 'two', 'individuals', 'nthe', 'biryani', 'superbly', 'cooked', 'authentic', 'style', 'flavors', 'oozing', 'every', 'bite', 'ndefinitely', 'best', 'biryani', 'tasted', 'highly', 'recommended', 'ardent', 'biryani', 'fan', 'especially', 'meghana', 'joints', 'bangalore', 'nvisited', 'place', 'weekend', 'night', 'dinner', 'ordered', 'chilli', 'chicken', 'starter', 'apt', 'found', 'directly', 'oil', 'deep', 'fried', 'taste', 'fill', 'oil', 'blank', 'nalso', 'ordered', 'naan', 'butter', 'chicken', 'good', 'taste', 'also', 'ordered', 'chicken', 'boneless', 'biryani', 'biryani', 'average', 'spicy', 'literally', 'burnt', 'stomach', 'throat', 'sure', 'something', 'wrong', 'particular', 'day', 'like', 'noverall', 'try', 'popular', 'biryani', 'ordered', 'chicken', 'dum', 'biryanis', 'food', 'delivered', 'time', 'packaging', 'good', 'portion', 'size', 'right', 'enough', 'one', 'person', 'taste', 'also', 'good', 'much', 'white', 'rice', 'masala', 'consistent', 'noverall', 'food', 'experience', 'good', 'nothing', 'extraordinary', 'visit', 'bangalore', 'want', 'famous', 'biryani', 'right', 'place', 'place', 'never', 'ending', 'list', 'biryani', 'biryani', 'taste', 'place', 'couple', 'times', 'best', 'place', 'biriyani', 'lovers', 'biriyani', 'rice', 'spicy', 'mouth', 'watering', 'none', 'favourite', 'menu', 'lemon', 'chicken', 'meghanas', 'special', 'biriyani', 'nthis', 'place', 'crowded', 'time', 'weekend', 'wait', 'hour', 'end', 'day', 'waiting', 'worth', 'place', 'biryani', 'comfort', 'food', 'uber', 'eats', 'sponsored', 'makes', 'ordering', 'process', 'easy', 'affordable', 'nwe', 'sisters', 'often', 'order', 'dum', 'aloo', 'biryani', 'home', 'netflix', 'chill', 'kinda', 'days', 'nthey', 'deliver', 'package', 'jute', 'bag', 'raita', 'spicy', 'sidedish', 'along', 'biryani', 'packet', 'biryani', 'definitely', 'enough', 'two', 'individuals', 'nthe', 'biryani', 'superbly', 'cooked', 'authentic', 'style', 'flavors', 'oozing', 'every', 'bite', 'ndefinitely', 'best', 'biryani', 'tasted', 'highly', 'recommended', 'ardent', 'biryani', 'fan', 'especially', 'meghana', 'joints', 'bangalore', 'nvisited', 'place', 'weekend', 'night', 'dinner', 'ordered', 'chilli', 'chicken', 'starter', 'apt', 'found', 'directly', 'oil', 'deep', 'fried', 'taste', 'fill', 'oil', 'blank', 'nalso', 'ordered', 'naan', 'butter', 'chicken', 'good', 'taste', 'also', 'ordered', 'chicken', 'boneless', 'biryani', 'biryani', 'average', 'spicy', 'literally', 'burnt', 'stomach', 'throat', 'sure', 'something', 'wrong', 'particular', 'day', 'like', 'noverall', 'try', 'popular', 'biryani', 'ordered', 'chicken', 'dum', 'biryanis', 'food', 'delivered', 'time', 'packaging', 'good', 'portion', 'size', 'right', 'enough', 'one', 'person', 'taste', 'also', 'good', 'much', 'white', 'rice', 'masala', 'consistent', 'noverall', 'food', 'experience', 'good', 'nothing', 'extraordinary', 'visit', 'bangalore', 'want', 'famous', 'biryani', 'right', 'place', 'place', 'never', 'ending', 'list', 'biryani', 'biryani', 'taste', 'chicken', 'boneless', 'biryani', 'hyderabadi', 'biryani', 'paneer', 'biryani', 'tandoori', 'chicken', 'vegetable', 'biryani', 'chicken', 'kebab', 'raita', 'biryani', 'north', 'indian', 'chinese']\n"
     ]
    }
   ],
   "source": [
    "print(tokens[0])"
   ]
  },
  {
   "cell_type": "code",
   "execution_count": 249,
   "id": "f707f3e2",
   "metadata": {},
   "outputs": [],
   "source": [
    "data = tokens[0]"
   ]
  },
  {
   "cell_type": "code",
   "execution_count": 252,
   "id": "6d81d872",
   "metadata": {},
   "outputs": [
    {
     "name": "stderr",
     "output_type": "stream",
     "text": [
      "[nltk_data] Downloading package wordnet to\n",
      "[nltk_data]     C:\\Users\\Admin\\AppData\\Roaming\\nltk_data...\n",
      "[nltk_data]   Unzipping corpora\\wordnet.zip.\n"
     ]
    },
    {
     "data": {
      "text/plain": [
       "True"
      ]
     },
     "execution_count": 252,
     "metadata": {},
     "output_type": "execute_result"
    }
   ],
   "source": [
    "nltk.download('wordnet')"
   ]
  },
  {
   "cell_type": "code",
   "execution_count": 253,
   "id": "e1f74238",
   "metadata": {},
   "outputs": [
    {
     "name": "stdout",
     "output_type": "stream",
     "text": [
      "['meghana', 'food', 'name', 'enough', 'get', 'drooling', 'biriyanis', 'always', 'spicy', 'nice', 'unfortunate', 'time', 'u', 'yes', 'bad', 'experience', 'meghana', 'food', 'shocking', 'seems', 'bad', 'sweet', 'true', 'pun', 'intended', 'starter', 'amazing', 'review', 'nfood', 'taste', 'nservice', 'nambience', 'ncost', 'one', 'best', 'biryani', 'ever', 'meghana', 'special', 'chicken', 'still', 'brilliant', 'tandoori', 'chicken', 'also', 'pretty', 'great', 'looking', 'forward', 'trying', 'mutton', 'variant', 'service', 'slow', 'need', 'wait', 'hour', 'min', 'food', 'even', 'take', 'reservation', 'properly', 'biryani', 'good', 'compared', 'paradise', 'biryani', 'term', 'veg', 'biryani', 'one', 'best', 'briyani', 'end', 'ni', 'special', 'chicken', 'briyani', 'mutton', 'keema', 'briyani', 'meghanabiryani', 'andhra', 'style', 'restuarant', 'serving', 'delicious', 'nonveg', 'dish', 'bengaluru', 'briyani', 'tasty', 'taste', 'clearly', 'showed', 'used', 'natural', 'spice', 'briyani', 'noverall', 'great', 'experience', 'meghanas', 'restuarant', 'would', 'rate', 'food', 'foodtalkindia', 'indianfoodie', 'foodtravelers', 'foodphoto', 'foodtalkindia', 'foodindia', 'foodphotographer', 'foodpics', 'till', 'best', 'biriyani', 'tasted', 'nmeghan', 'chicken', 'boneless', 'biriyani', 'die', 'nmeghan', 'maintained', 'ter', 'taste', 'yes', 'visiting', 'place', 'bored', 'food', 'npanner', 'biriyani', 'resembles', 'taste', 'boneless', 'biriyani', 'vegetarian', 'ngravy', 'roti', 'non', 'starter', 'give', 'star', 'nonly', 'fr', 'biriyani', 'u', 'visit', 'place', 'nnice', 'ambience', 'bit', 'crowded', 'always', 'happy', 'give', 'place', 'five', 'star', 'rating', 'taste', 'biriyani', 'deserves', 'loved', 'visited', 'pretty', 'crowded', 'service', 'spot', 'food', 'spicy', 'yet', 'yum', 'quantity', 'filling', 'apt', 'money', 'kudos', 'want', 'good', 'biryani', 'place', 'worth', 'every', 'penny', 'would', 'spending', 'nthe', 'chicken', 'lollipop', 'prawn', 'biryani', 'meghana', 'special', 'biryani', 'absolutely', 'fantastic', 'also', 'favourite', 'pick', 'meghana', 'food', 'nthis', 'place', 'always', 'crowded', 'weekday', 'weekend', 'might', 'wait', 'turn', 'service', 'super', 'quick', 'nthis', 'place', 'must', 'new', 'visiting', 'bangalore', 'lemon', 'chicken', 'tender', 'fresh', 'juicy', 'glad', 'restaurant', 'staff', 'suggested', 'u', 'order', 'biriyaanis', 'good', 'ordered', 'lollypop', 'biriyaani', 'serverd', 'lollypop', 'topping', 'another', 'special', 'biriyaaani', 'scrambled', 'lemon', 'flavoured', 'chicken', 'topped', 'biriyaaani', 'bowl', 'found', 'expensive', 'worth', 'giving', 'bug', 'meghana', 'food', 'famous', 'boneless', 'biryani', 'also', 'boneless', 'starter', 'taste', 'good', 'quantity', 'tried', 'many', 'starter', 'good', 'also', 'boneless', 'place', 'couple', 'time', 'best', 'place', 'biriyani', 'lover', 'biriyani', 'rice', 'spicy', 'mouth', 'watering', 'none', 'favourite', 'menu', 'lemon', 'chicken', 'meghanas', 'special', 'biriyani', 'nthis', 'place', 'crowded', 'time', 'weekend', 'wait', 'hour', 'end', 'day', 'waiting', 'worth', 'place', 'biryani', 'comfort', 'food', 'uber', 'eats', 'sponsored', 'make', 'ordering', 'process', 'easy', 'affordable', 'nwe', 'sister', 'often', 'order', 'dum', 'aloo', 'biryani', 'home', 'netflix', 'chill', 'kinda', 'day', 'nthey', 'deliver', 'package', 'jute', 'bag', 'raita', 'spicy', 'sidedish', 'along', 'biryani', 'packet', 'biryani', 'definitely', 'enough', 'two', 'individual', 'nthe', 'biryani', 'superbly', 'cooked', 'authentic', 'style', 'flavor', 'oozing', 'every', 'bite', 'ndefinitely', 'best', 'biryani', 'tasted', 'highly', 'recommended', 'ardent', 'biryani', 'fan', 'especially', 'meghana', 'joint', 'bangalore', 'nvisited', 'place', 'weekend', 'night', 'dinner', 'ordered', 'chilli', 'chicken', 'starter', 'apt', 'found', 'directly', 'oil', 'deep', 'fried', 'taste', 'fill', 'oil', 'blank', 'nalso', 'ordered', 'naan', 'butter', 'chicken', 'good', 'taste', 'also', 'ordered', 'chicken', 'boneless', 'biryani', 'biryani', 'average', 'spicy', 'literally', 'burnt', 'stomach', 'throat', 'sure', 'something', 'wrong', 'particular', 'day', 'like', 'noverall', 'try', 'popular', 'biryani', 'ordered', 'chicken', 'dum', 'biryani', 'food', 'delivered', 'time', 'packaging', 'good', 'portion', 'size', 'right', 'enough', 'one', 'person', 'taste', 'also', 'good', 'much', 'white', 'rice', 'masala', 'consistent', 'noverall', 'food', 'experience', 'good', 'nothing', 'extraordinary', 'visit', 'bangalore', 'want', 'famous', 'biryani', 'right', 'place', 'place', 'never', 'ending', 'list', 'biryani', 'biryani', 'taste', 'place', 'couple', 'time', 'best', 'place', 'biriyani', 'lover', 'biriyani', 'rice', 'spicy', 'mouth', 'watering', 'none', 'favourite', 'menu', 'lemon', 'chicken', 'meghanas', 'special', 'biriyani', 'nthis', 'place', 'crowded', 'time', 'weekend', 'wait', 'hour', 'end', 'day', 'waiting', 'worth', 'place', 'biryani', 'comfort', 'food', 'uber', 'eats', 'sponsored', 'make', 'ordering', 'process', 'easy', 'affordable', 'nwe', 'sister', 'often', 'order', 'dum', 'aloo', 'biryani', 'home', 'netflix', 'chill', 'kinda', 'day', 'nthey', 'deliver', 'package', 'jute', 'bag', 'raita', 'spicy', 'sidedish', 'along', 'biryani', 'packet', 'biryani', 'definitely', 'enough', 'two', 'individual', 'nthe', 'biryani', 'superbly', 'cooked', 'authentic', 'style', 'flavor', 'oozing', 'every', 'bite', 'ndefinitely', 'best', 'biryani', 'tasted', 'highly', 'recommended', 'ardent', 'biryani', 'fan', 'especially', 'meghana', 'joint', 'bangalore', 'nvisited', 'place', 'weekend', 'night', 'dinner', 'ordered', 'chilli', 'chicken', 'starter', 'apt', 'found', 'directly', 'oil', 'deep', 'fried', 'taste', 'fill', 'oil', 'blank', 'nalso', 'ordered', 'naan', 'butter', 'chicken', 'good', 'taste', 'also', 'ordered', 'chicken', 'boneless', 'biryani', 'biryani', 'average', 'spicy', 'literally', 'burnt', 'stomach', 'throat', 'sure', 'something', 'wrong', 'particular', 'day', 'like', 'noverall', 'try', 'popular', 'biryani', 'ordered', 'chicken', 'dum', 'biryani', 'food', 'delivered', 'time', 'packaging', 'good', 'portion', 'size', 'right', 'enough', 'one', 'person', 'taste', 'also', 'good', 'much', 'white', 'rice', 'masala', 'consistent', 'noverall', 'food', 'experience', 'good', 'nothing', 'extraordinary', 'visit', 'bangalore', 'want', 'famous', 'biryani', 'right', 'place', 'place', 'never', 'ending', 'list', 'biryani', 'biryani', 'taste', 'place', 'couple', 'time', 'best', 'place', 'biriyani', 'lover', 'biriyani', 'rice', 'spicy', 'mouth', 'watering', 'none', 'favourite', 'menu', 'lemon', 'chicken', 'meghanas', 'special', 'biriyani', 'nthis', 'place', 'crowded', 'time', 'weekend', 'wait', 'hour', 'end', 'day', 'waiting', 'worth', 'place', 'biryani', 'comfort', 'food', 'uber', 'eats', 'sponsored', 'make', 'ordering', 'process', 'easy', 'affordable', 'nwe', 'sister', 'often', 'order', 'dum', 'aloo', 'biryani', 'home', 'netflix', 'chill', 'kinda', 'day', 'nthey', 'deliver', 'package', 'jute', 'bag', 'raita', 'spicy', 'sidedish', 'along', 'biryani', 'packet', 'biryani', 'definitely', 'enough', 'two', 'individual', 'nthe', 'biryani', 'superbly', 'cooked', 'authentic', 'style', 'flavor', 'oozing', 'every', 'bite', 'ndefinitely', 'best', 'biryani', 'tasted', 'highly', 'recommended', 'ardent', 'biryani', 'fan', 'especially', 'meghana', 'joint', 'bangalore', 'nvisited', 'place', 'weekend', 'night', 'dinner', 'ordered', 'chilli', 'chicken', 'starter', 'apt', 'found', 'directly', 'oil', 'deep', 'fried', 'taste', 'fill', 'oil', 'blank', 'nalso', 'ordered', 'naan', 'butter', 'chicken', 'good', 'taste', 'also', 'ordered', 'chicken', 'boneless', 'biryani', 'biryani', 'average', 'spicy', 'literally', 'burnt', 'stomach', 'throat', 'sure', 'something', 'wrong', 'particular', 'day', 'like', 'noverall', 'try', 'popular', 'biryani', 'ordered', 'chicken', 'dum', 'biryani', 'food', 'delivered', 'time', 'packaging', 'good', 'portion', 'size', 'right', 'enough', 'one', 'person', 'taste', 'also', 'good', 'much', 'white', 'rice', 'masala', 'consistent', 'noverall', 'food', 'experience', 'good', 'nothing', 'extraordinary', 'visit', 'bangalore', 'want', 'famous', 'biryani', 'right', 'place', 'place', 'never', 'ending', 'list', 'biryani', 'biryani', 'taste', 'chicken', 'boneless', 'biryani', 'hyderabadi', 'biryani', 'paneer', 'biryani', 'tandoori', 'chicken', 'vegetable', 'biryani', 'chicken', 'kebab', 'raita', 'biryani', 'north', 'indian', 'chinese']\n"
     ]
    }
   ],
   "source": [
    "print([wl.lemmatize(word) for word in data])"
   ]
  },
  {
   "cell_type": "code",
   "execution_count": 254,
   "id": "2b522b2c",
   "metadata": {},
   "outputs": [
    {
     "data": {
      "text/plain": [
       "array([2, 1, 0])"
      ]
     },
     "execution_count": 254,
     "metadata": {},
     "output_type": "execute_result"
    }
   ],
   "source": [
    "df['rating'].unique()"
   ]
  },
  {
   "cell_type": "code",
   "execution_count": 255,
   "id": "d29fd406",
   "metadata": {},
   "outputs": [
    {
     "data": {
      "text/plain": [
       "dtype('int32')"
      ]
     },
     "execution_count": 255,
     "metadata": {},
     "output_type": "execute_result"
    }
   ],
   "source": [
    "df['rating'].dtype"
   ]
  },
  {
   "cell_type": "code",
   "execution_count": 256,
   "id": "94314943",
   "metadata": {},
   "outputs": [
    {
     "data": {
      "text/plain": [
       "1    1383\n",
       "0     372\n",
       "2     245\n",
       "Name: rating, dtype: int64"
      ]
     },
     "execution_count": 256,
     "metadata": {},
     "output_type": "execute_result"
    }
   ],
   "source": [
    "df['rating'].value_counts()"
   ]
  },
  {
   "cell_type": "code",
   "execution_count": 257,
   "id": "9debf75f",
   "metadata": {},
   "outputs": [],
   "source": [
    "# Writing a function to lemmatize words\n",
    "\n",
    "def lem(text):\n",
    "    return [wl.lemmatize(word) for word in text]"
   ]
  },
  {
   "cell_type": "code",
   "execution_count": 258,
   "id": "1e93de89",
   "metadata": {},
   "outputs": [],
   "source": [
    "# Applying the function to each row of the text\n",
    "# i.e. reducing each word to its lemma\n",
    "\n",
    "tokens_new = tokens.apply(lem)"
   ]
  },
  {
   "cell_type": "code",
   "execution_count": 259,
   "id": "e7fc9bb5",
   "metadata": {},
   "outputs": [
    {
     "data": {
      "text/plain": [
       "pandas.core.series.Series"
      ]
     },
     "execution_count": 259,
     "metadata": {},
     "output_type": "execute_result"
    }
   ],
   "source": [
    "type(tokens_new)"
   ]
  },
  {
   "cell_type": "code",
   "execution_count": 260,
   "id": "e5ad7f81",
   "metadata": {},
   "outputs": [
    {
     "data": {
      "text/plain": [
       "0    [meghana, food, name, enough, get, drooling, b...\n",
       "1    [ordered, brown, rice, veg, biryani, outlet, b...\n",
       "2    [one, worst, food, ordered, briyani, delivered...\n",
       "3    [order, risk, might, assume, delicious, dish, ...\n",
       "4                                      [north, indian]\n",
       "Name: text, dtype: object"
      ]
     },
     "execution_count": 260,
     "metadata": {},
     "output_type": "execute_result"
    }
   ],
   "source": [
    "tokens_new.head()"
   ]
  },
  {
   "cell_type": "code",
   "execution_count": 261,
   "id": "2ba9d6a4",
   "metadata": {},
   "outputs": [],
   "source": [
    "from sklearn.preprocessing import LabelEncoder"
   ]
  },
  {
   "cell_type": "code",
   "execution_count": 262,
   "id": "2d5f7397",
   "metadata": {},
   "outputs": [],
   "source": [
    "le = LabelEncoder()"
   ]
  },
  {
   "cell_type": "code",
   "execution_count": 263,
   "id": "43a55346",
   "metadata": {},
   "outputs": [],
   "source": [
    "df['rating'] = le.fit_transform(df['rating'])"
   ]
  },
  {
   "cell_type": "code",
   "execution_count": 264,
   "id": "122f275d",
   "metadata": {},
   "outputs": [
    {
     "name": "stdout",
     "output_type": "stream",
     "text": [
      "['meghana', 'food', 'name', 'enough', 'get', 'drooling', 'biriyanis', 'always', 'spicy', 'nice', 'unfortunate', 'time', 'u', 'yes', 'bad', 'experience', 'meghana', 'food', 'shocking', 'seems', 'bad', 'sweet', 'true', 'pun', 'intended', 'starter', 'amazing', 'review', 'nfood', 'taste', 'nservice', 'nambience', 'ncost', 'one', 'best', 'biryani', 'ever', 'meghana', 'special', 'chicken', 'still', 'brilliant', 'tandoori', 'chicken', 'also', 'pretty', 'great', 'looking', 'forward', 'trying', 'mutton', 'variant', 'service', 'slow', 'need', 'wait', 'hour', 'min', 'food', 'even', 'take', 'reservation', 'properly', 'biryani', 'good', 'compared', 'paradise', 'biryani', 'term', 'veg', 'biryani', 'one', 'best', 'briyani', 'end', 'ni', 'special', 'chicken', 'briyani', 'mutton', 'keema', 'briyani', 'meghanabiryani', 'andhra', 'style', 'restuarant', 'serving', 'delicious', 'nonveg', 'dish', 'bengaluru', 'briyani', 'tasty', 'taste', 'clearly', 'showed', 'used', 'natural', 'spice', 'briyani', 'noverall', 'great', 'experience', 'meghanas', 'restuarant', 'would', 'rate', 'food', 'foodtalkindia', 'indianfoodie', 'foodtravelers', 'foodphoto', 'foodtalkindia', 'foodindia', 'foodphotographer', 'foodpics', 'till', 'best', 'biriyani', 'tasted', 'nmeghan', 'chicken', 'boneless', 'biriyani', 'die', 'nmeghan', 'maintained', 'ter', 'taste', 'yes', 'visiting', 'place', 'bored', 'food', 'npanner', 'biriyani', 'resembles', 'taste', 'boneless', 'biriyani', 'vegetarian', 'ngravy', 'roti', 'non', 'starter', 'give', 'star', 'nonly', 'fr', 'biriyani', 'u', 'visit', 'place', 'nnice', 'ambience', 'bit', 'crowded', 'always', 'happy', 'give', 'place', 'five', 'star', 'rating', 'taste', 'biriyani', 'deserves', 'loved', 'visited', 'pretty', 'crowded', 'service', 'spot', 'food', 'spicy', 'yet', 'yum', 'quantity', 'filling', 'apt', 'money', 'kudos', 'want', 'good', 'biryani', 'place', 'worth', 'every', 'penny', 'would', 'spending', 'nthe', 'chicken', 'lollipop', 'prawn', 'biryani', 'meghana', 'special', 'biryani', 'absolutely', 'fantastic', 'also', 'favourite', 'pick', 'meghana', 'food', 'nthis', 'place', 'always', 'crowded', 'weekday', 'weekend', 'might', 'wait', 'turn', 'service', 'super', 'quick', 'nthis', 'place', 'must', 'new', 'visiting', 'bangalore', 'lemon', 'chicken', 'tender', 'fresh', 'juicy', 'glad', 'restaurant', 'staff', 'suggested', 'u', 'order', 'biriyaanis', 'good', 'ordered', 'lollypop', 'biriyaani', 'serverd', 'lollypop', 'topping', 'another', 'special', 'biriyaaani', 'scrambled', 'lemon', 'flavoured', 'chicken', 'topped', 'biriyaaani', 'bowl', 'found', 'expensive', 'worth', 'giving', 'bug', 'meghana', 'food', 'famous', 'boneless', 'biryani', 'also', 'boneless', 'starter', 'taste', 'good', 'quantity', 'tried', 'many', 'starter', 'good', 'also', 'boneless', 'place', 'couple', 'time', 'best', 'place', 'biriyani', 'lover', 'biriyani', 'rice', 'spicy', 'mouth', 'watering', 'none', 'favourite', 'menu', 'lemon', 'chicken', 'meghanas', 'special', 'biriyani', 'nthis', 'place', 'crowded', 'time', 'weekend', 'wait', 'hour', 'end', 'day', 'waiting', 'worth', 'place', 'biryani', 'comfort', 'food', 'uber', 'eats', 'sponsored', 'make', 'ordering', 'process', 'easy', 'affordable', 'nwe', 'sister', 'often', 'order', 'dum', 'aloo', 'biryani', 'home', 'netflix', 'chill', 'kinda', 'day', 'nthey', 'deliver', 'package', 'jute', 'bag', 'raita', 'spicy', 'sidedish', 'along', 'biryani', 'packet', 'biryani', 'definitely', 'enough', 'two', 'individual', 'nthe', 'biryani', 'superbly', 'cooked', 'authentic', 'style', 'flavor', 'oozing', 'every', 'bite', 'ndefinitely', 'best', 'biryani', 'tasted', 'highly', 'recommended', 'ardent', 'biryani', 'fan', 'especially', 'meghana', 'joint', 'bangalore', 'nvisited', 'place', 'weekend', 'night', 'dinner', 'ordered', 'chilli', 'chicken', 'starter', 'apt', 'found', 'directly', 'oil', 'deep', 'fried', 'taste', 'fill', 'oil', 'blank', 'nalso', 'ordered', 'naan', 'butter', 'chicken', 'good', 'taste', 'also', 'ordered', 'chicken', 'boneless', 'biryani', 'biryani', 'average', 'spicy', 'literally', 'burnt', 'stomach', 'throat', 'sure', 'something', 'wrong', 'particular', 'day', 'like', 'noverall', 'try', 'popular', 'biryani', 'ordered', 'chicken', 'dum', 'biryani', 'food', 'delivered', 'time', 'packaging', 'good', 'portion', 'size', 'right', 'enough', 'one', 'person', 'taste', 'also', 'good', 'much', 'white', 'rice', 'masala', 'consistent', 'noverall', 'food', 'experience', 'good', 'nothing', 'extraordinary', 'visit', 'bangalore', 'want', 'famous', 'biryani', 'right', 'place', 'place', 'never', 'ending', 'list', 'biryani', 'biryani', 'taste', 'place', 'couple', 'time', 'best', 'place', 'biriyani', 'lover', 'biriyani', 'rice', 'spicy', 'mouth', 'watering', 'none', 'favourite', 'menu', 'lemon', 'chicken', 'meghanas', 'special', 'biriyani', 'nthis', 'place', 'crowded', 'time', 'weekend', 'wait', 'hour', 'end', 'day', 'waiting', 'worth', 'place', 'biryani', 'comfort', 'food', 'uber', 'eats', 'sponsored', 'make', 'ordering', 'process', 'easy', 'affordable', 'nwe', 'sister', 'often', 'order', 'dum', 'aloo', 'biryani', 'home', 'netflix', 'chill', 'kinda', 'day', 'nthey', 'deliver', 'package', 'jute', 'bag', 'raita', 'spicy', 'sidedish', 'along', 'biryani', 'packet', 'biryani', 'definitely', 'enough', 'two', 'individual', 'nthe', 'biryani', 'superbly', 'cooked', 'authentic', 'style', 'flavor', 'oozing', 'every', 'bite', 'ndefinitely', 'best', 'biryani', 'tasted', 'highly', 'recommended', 'ardent', 'biryani', 'fan', 'especially', 'meghana', 'joint', 'bangalore', 'nvisited', 'place', 'weekend', 'night', 'dinner', 'ordered', 'chilli', 'chicken', 'starter', 'apt', 'found', 'directly', 'oil', 'deep', 'fried', 'taste', 'fill', 'oil', 'blank', 'nalso', 'ordered', 'naan', 'butter', 'chicken', 'good', 'taste', 'also', 'ordered', 'chicken', 'boneless', 'biryani', 'biryani', 'average', 'spicy', 'literally', 'burnt', 'stomach', 'throat', 'sure', 'something', 'wrong', 'particular', 'day', 'like', 'noverall', 'try', 'popular', 'biryani', 'ordered', 'chicken', 'dum', 'biryani', 'food', 'delivered', 'time', 'packaging', 'good', 'portion', 'size', 'right', 'enough', 'one', 'person', 'taste', 'also', 'good', 'much', 'white', 'rice', 'masala', 'consistent', 'noverall', 'food', 'experience', 'good', 'nothing', 'extraordinary', 'visit', 'bangalore', 'want', 'famous', 'biryani', 'right', 'place', 'place', 'never', 'ending', 'list', 'biryani', 'biryani', 'taste', 'place', 'couple', 'time', 'best', 'place', 'biriyani', 'lover', 'biriyani', 'rice', 'spicy', 'mouth', 'watering', 'none', 'favourite', 'menu', 'lemon', 'chicken', 'meghanas', 'special', 'biriyani', 'nthis', 'place', 'crowded', 'time', 'weekend', 'wait', 'hour', 'end', 'day', 'waiting', 'worth', 'place', 'biryani', 'comfort', 'food', 'uber', 'eats', 'sponsored', 'make', 'ordering', 'process', 'easy', 'affordable', 'nwe', 'sister', 'often', 'order', 'dum', 'aloo', 'biryani', 'home', 'netflix', 'chill', 'kinda', 'day', 'nthey', 'deliver', 'package', 'jute', 'bag', 'raita', 'spicy', 'sidedish', 'along', 'biryani', 'packet', 'biryani', 'definitely', 'enough', 'two', 'individual', 'nthe', 'biryani', 'superbly', 'cooked', 'authentic', 'style', 'flavor', 'oozing', 'every', 'bite', 'ndefinitely', 'best', 'biryani', 'tasted', 'highly', 'recommended', 'ardent', 'biryani', 'fan', 'especially', 'meghana', 'joint', 'bangalore', 'nvisited', 'place', 'weekend', 'night', 'dinner', 'ordered', 'chilli', 'chicken', 'starter', 'apt', 'found', 'directly', 'oil', 'deep', 'fried', 'taste', 'fill', 'oil', 'blank', 'nalso', 'ordered', 'naan', 'butter', 'chicken', 'good', 'taste', 'also', 'ordered', 'chicken', 'boneless', 'biryani', 'biryani', 'average', 'spicy', 'literally', 'burnt', 'stomach', 'throat', 'sure', 'something', 'wrong', 'particular', 'day', 'like', 'noverall', 'try', 'popular', 'biryani', 'ordered', 'chicken', 'dum', 'biryani', 'food', 'delivered', 'time', 'packaging', 'good', 'portion', 'size', 'right', 'enough', 'one', 'person', 'taste', 'also', 'good', 'much', 'white', 'rice', 'masala', 'consistent', 'noverall', 'food', 'experience', 'good', 'nothing', 'extraordinary', 'visit', 'bangalore', 'want', 'famous', 'biryani', 'right', 'place', 'place', 'never', 'ending', 'list', 'biryani', 'biryani', 'taste', 'chicken', 'boneless', 'biryani', 'hyderabadi', 'biryani', 'paneer', 'biryani', 'tandoori', 'chicken', 'vegetable', 'biryani', 'chicken', 'kebab', 'raita', 'biryani', 'north', 'indian', 'chinese']\n"
     ]
    }
   ],
   "source": [
    "print(tokens_new[0])"
   ]
  },
  {
   "cell_type": "code",
   "execution_count": 265,
   "id": "a1922d08",
   "metadata": {},
   "outputs": [
    {
     "data": {
      "text/plain": [
       "'meghana food name enough get drooling biriyanis always spicy nice unfortunate time u yes bad experience meghana food shocking seems bad sweet true pun intended starter amazing review nfood taste nservice nambience ncost one best biryani ever meghana special chicken still brilliant tandoori chicken also pretty great looking forward trying mutton variant service slow need wait hour min food even take reservation properly biryani good compared paradise biryani term veg biryani one best briyani end ni special chicken briyani mutton keema briyani meghanabiryani andhra style restuarant serving delicious nonveg dish bengaluru briyani tasty taste clearly showed used natural spice briyani noverall great experience meghanas restuarant would rate food foodtalkindia indianfoodie foodtravelers foodphoto foodtalkindia foodindia foodphotographer foodpics till best biriyani tasted nmeghan chicken boneless biriyani die nmeghan maintained ter taste yes visiting place bored food npanner biriyani resembles taste boneless biriyani vegetarian ngravy roti non starter give star nonly fr biriyani u visit place nnice ambience bit crowded always happy give place five star rating taste biriyani deserves loved visited pretty crowded service spot food spicy yet yum quantity filling apt money kudos want good biryani place worth every penny would spending nthe chicken lollipop prawn biryani meghana special biryani absolutely fantastic also favourite pick meghana food nthis place always crowded weekday weekend might wait turn service super quick nthis place must new visiting bangalore lemon chicken tender fresh juicy glad restaurant staff suggested u order biriyaanis good ordered lollypop biriyaani serverd lollypop topping another special biriyaaani scrambled lemon flavoured chicken topped biriyaaani bowl found expensive worth giving bug meghana food famous boneless biryani also boneless starter taste good quantity tried many starter good also boneless place couple time best place biriyani lover biriyani rice spicy mouth watering none favourite menu lemon chicken meghanas special biriyani nthis place crowded time weekend wait hour end day waiting worth place biryani comfort food uber eats sponsored make ordering process easy affordable nwe sister often order dum aloo biryani home netflix chill kinda day nthey deliver package jute bag raita spicy sidedish along biryani packet biryani definitely enough two individual nthe biryani superbly cooked authentic style flavor oozing every bite ndefinitely best biryani tasted highly recommended ardent biryani fan especially meghana joint bangalore nvisited place weekend night dinner ordered chilli chicken starter apt found directly oil deep fried taste fill oil blank nalso ordered naan butter chicken good taste also ordered chicken boneless biryani biryani average spicy literally burnt stomach throat sure something wrong particular day like noverall try popular biryani ordered chicken dum biryani food delivered time packaging good portion size right enough one person taste also good much white rice masala consistent noverall food experience good nothing extraordinary visit bangalore want famous biryani right place place never ending list biryani biryani taste place couple time best place biriyani lover biriyani rice spicy mouth watering none favourite menu lemon chicken meghanas special biriyani nthis place crowded time weekend wait hour end day waiting worth place biryani comfort food uber eats sponsored make ordering process easy affordable nwe sister often order dum aloo biryani home netflix chill kinda day nthey deliver package jute bag raita spicy sidedish along biryani packet biryani definitely enough two individual nthe biryani superbly cooked authentic style flavor oozing every bite ndefinitely best biryani tasted highly recommended ardent biryani fan especially meghana joint bangalore nvisited place weekend night dinner ordered chilli chicken starter apt found directly oil deep fried taste fill oil blank nalso ordered naan butter chicken good taste also ordered chicken boneless biryani biryani average spicy literally burnt stomach throat sure something wrong particular day like noverall try popular biryani ordered chicken dum biryani food delivered time packaging good portion size right enough one person taste also good much white rice masala consistent noverall food experience good nothing extraordinary visit bangalore want famous biryani right place place never ending list biryani biryani taste place couple time best place biriyani lover biriyani rice spicy mouth watering none favourite menu lemon chicken meghanas special biriyani nthis place crowded time weekend wait hour end day waiting worth place biryani comfort food uber eats sponsored make ordering process easy affordable nwe sister often order dum aloo biryani home netflix chill kinda day nthey deliver package jute bag raita spicy sidedish along biryani packet biryani definitely enough two individual nthe biryani superbly cooked authentic style flavor oozing every bite ndefinitely best biryani tasted highly recommended ardent biryani fan especially meghana joint bangalore nvisited place weekend night dinner ordered chilli chicken starter apt found directly oil deep fried taste fill oil blank nalso ordered naan butter chicken good taste also ordered chicken boneless biryani biryani average spicy literally burnt stomach throat sure something wrong particular day like noverall try popular biryani ordered chicken dum biryani food delivered time packaging good portion size right enough one person taste also good much white rice masala consistent noverall food experience good nothing extraordinary visit bangalore want famous biryani right place place never ending list biryani biryani taste chicken boneless biryani hyderabadi biryani paneer biryani tandoori chicken vegetable biryani chicken kebab raita biryani north indian chinese'"
      ]
     },
     "execution_count": 265,
     "metadata": {},
     "output_type": "execute_result"
    }
   ],
   "source": [
    "' '.join(tokens_new[0])"
   ]
  },
  {
   "cell_type": "code",
   "execution_count": 266,
   "id": "0113e604",
   "metadata": {},
   "outputs": [
    {
     "data": {
      "text/plain": [
       "RangeIndex(start=0, stop=2000, step=1)"
      ]
     },
     "execution_count": 266,
     "metadata": {},
     "output_type": "execute_result"
    }
   ],
   "source": [
    "tokens_new.index"
   ]
  },
  {
   "cell_type": "code",
   "execution_count": 267,
   "id": "7d34443b",
   "metadata": {},
   "outputs": [],
   "source": [
    "## collect entire data into corpus as we have to NLP techniques to this corpus to convert it into some vectors\n",
    "\n",
    "corpus=[]\n",
    "\n",
    "for i in tokens_new.index:\n",
    "    review=' '.join(tokens_new[i])\n",
    "    corpus.append(review)"
   ]
  },
  {
   "cell_type": "code",
   "execution_count": 273,
   "id": "6a3d2043",
   "metadata": {},
   "outputs": [],
   "source": [
    "# Creating the TF_IDF model\n",
    "from sklearn.feature_extraction.text import TfidfVectorizer\n",
    "cv = TfidfVectorizer()\n",
    "X = cv.fit_transform(corpus).toarray()"
   ]
  },
  {
   "cell_type": "code",
   "execution_count": 274,
   "id": "e7f5dc47",
   "metadata": {},
   "outputs": [
    {
     "data": {
      "text/plain": [
       "(2000, 25471)"
      ]
     },
     "execution_count": 274,
     "metadata": {},
     "output_type": "execute_result"
    }
   ],
   "source": [
    "X.shape"
   ]
  },
  {
   "cell_type": "markdown",
   "id": "9f5e5d62",
   "metadata": {},
   "source": [
    "# Splitting the data into train and test sets (stratified)"
   ]
  },
  {
   "cell_type": "code",
   "execution_count": 275,
   "id": "30b3941a",
   "metadata": {},
   "outputs": [],
   "source": [
    "from sklearn.model_selection import train_test_split"
   ]
  },
  {
   "cell_type": "code",
   "execution_count": 276,
   "id": "3744ebf7",
   "metadata": {},
   "outputs": [],
   "source": [
    "X_train, X_test, y_train, y_test = train_test_split(X, df['rating'], test_size= 0.3, random_state= 0,stratify=df['rating'])"
   ]
  },
  {
   "cell_type": "code",
   "execution_count": 277,
   "id": "08c79219",
   "metadata": {},
   "outputs": [],
   "source": [
    "from sklearn.linear_model import LogisticRegression"
   ]
  },
  {
   "cell_type": "code",
   "execution_count": 278,
   "id": "051f1ba9",
   "metadata": {},
   "outputs": [],
   "source": [
    "lr=LogisticRegression(multi_class='multinomial')"
   ]
  },
  {
   "cell_type": "code",
   "execution_count": 279,
   "id": "7a703c42",
   "metadata": {},
   "outputs": [
    {
     "data": {
      "text/plain": [
       "LogisticRegression(multi_class='multinomial')"
      ]
     },
     "execution_count": 279,
     "metadata": {},
     "output_type": "execute_result"
    }
   ],
   "source": [
    "lr.fit(X_train,y_train)"
   ]
  },
  {
   "cell_type": "code",
   "execution_count": 280,
   "id": "e1525fd2",
   "metadata": {},
   "outputs": [],
   "source": [
    "# Make predictions.\n",
    "predictions =lr.predict(X_test)"
   ]
  },
  {
   "cell_type": "code",
   "execution_count": 281,
   "id": "1c24e072",
   "metadata": {},
   "outputs": [
    {
     "name": "stdout",
     "output_type": "stream",
     "text": [
      "[[ 13  13   0]\n",
      " [ 98 395  43]\n",
      " [  1   7  30]]\n"
     ]
    }
   ],
   "source": [
    "# Compute the error.\n",
    "from sklearn.metrics import confusion_matrix\n",
    "print(confusion_matrix(predictions, y_test))"
   ]
  },
  {
   "cell_type": "code",
   "execution_count": 282,
   "id": "12308de2",
   "metadata": {},
   "outputs": [
    {
     "name": "stdout",
     "output_type": "stream",
     "text": [
      "0.73\n",
      "\n",
      "\n"
     ]
    }
   ],
   "source": [
    "from sklearn.metrics import accuracy_score\n",
    "print(accuracy_score(predictions,y_test))\n",
    "print('\\n')"
   ]
  },
  {
   "cell_type": "code",
   "execution_count": 283,
   "id": "5cae9921",
   "metadata": {},
   "outputs": [],
   "source": [
    "#fit naive bayes\n",
    "from sklearn.naive_bayes import GaussianNB\n",
    "from sklearn.linear_model import LogisticRegression\n",
    "from sklearn.neighbors import KNeighborsClassifier\n",
    "from sklearn.ensemble import RandomForestClassifier\n",
    "from sklearn.tree import DecisionTreeClassifier"
   ]
  },
  {
   "cell_type": "code",
   "execution_count": 284,
   "id": "ee906c39",
   "metadata": {},
   "outputs": [],
   "source": [
    "### classifier models\n",
    "models = []\n",
    "models.append(('LogisticRegression',LogisticRegression()))\n",
    "models.append(('Naive Bayes',GaussianNB()))\n",
    "models.append(('RandomForest',RandomForestClassifier()))\n",
    "models.append(('Decision Tree',DecisionTreeClassifier()))\n",
    "models.append(('KNN', KNeighborsClassifier(n_neighbors = 5)))"
   ]
  },
  {
   "cell_type": "code",
   "execution_count": 285,
   "id": "11784d7f",
   "metadata": {},
   "outputs": [
    {
     "name": "stdout",
     "output_type": "stream",
     "text": [
      "LogisticRegression\n",
      "[[ 13  13   0]\n",
      " [ 98 395  43]\n",
      " [  1   7  30]]\n",
      "0.73\n",
      "\n",
      "\n",
      "Naive Bayes\n",
      "[[ 34  53   1]\n",
      " [ 67 291  38]\n",
      " [ 11  71  34]]\n",
      "0.5983333333333334\n",
      "\n",
      "\n",
      "RandomForest\n",
      "[[  8   0   0]\n",
      " [104 411  47]\n",
      " [  0   4  26]]\n",
      "0.7416666666666667\n",
      "\n",
      "\n",
      "Decision Tree\n",
      "[[ 46  66   4]\n",
      " [ 64 320  39]\n",
      " [  2  29  30]]\n",
      "0.66\n",
      "\n",
      "\n",
      "KNN\n",
      "[[ 32  56   1]\n",
      " [ 68 305  28]\n",
      " [ 12  54  44]]\n",
      "0.635\n",
      "\n",
      "\n"
     ]
    }
   ],
   "source": [
    "# Make predictions on validation dataset\n",
    "\n",
    "for name, model in models:\n",
    "    print(name)\n",
    "    model.fit(X_train, y_train)\n",
    "\n",
    "    #Make prediction.\n",
    "    predictions = model.predict(X_test)\n",
    "\n",
    "    # Compute the error\n",
    "    from sklearn.metrics import confusion_matrix\n",
    "    print(confusion_matrix(predictions, y_test))\n",
    "\n",
    "    from sklearn.metrics import accuracy_score\n",
    "    print(accuracy_score(predictions,y_test))\n",
    "    print('\\n')"
   ]
  },
  {
   "cell_type": "code",
   "execution_count": 286,
   "id": "58dcc41b",
   "metadata": {},
   "outputs": [],
   "source": [
    "### cross validating my Logistic Regression model"
   ]
  },
  {
   "cell_type": "code",
   "execution_count": 287,
   "id": "d14e678b",
   "metadata": {},
   "outputs": [],
   "source": [
    "from sklearn.model_selection import cross_val_score"
   ]
  },
  {
   "cell_type": "code",
   "execution_count": 288,
   "id": "af76f370",
   "metadata": {},
   "outputs": [
    {
     "name": "stdout",
     "output_type": "stream",
     "text": [
      "0.7435\n"
     ]
    }
   ],
   "source": [
    "lr = LogisticRegression()\n",
    "print(cross_val_score(lr, X, df['rating'], cv=5, scoring='accuracy').mean())"
   ]
  },
  {
   "cell_type": "code",
   "execution_count": null,
   "id": "a4b1c9a0",
   "metadata": {},
   "outputs": [],
   "source": []
  }
 ],
 "metadata": {
  "kernelspec": {
   "display_name": "Python 3",
   "language": "python",
   "name": "python3"
  },
  "language_info": {
   "codemirror_mode": {
    "name": "ipython",
    "version": 3
   },
   "file_extension": ".py",
   "mimetype": "text/x-python",
   "name": "python",
   "nbconvert_exporter": "python",
   "pygments_lexer": "ipython3",
   "version": "3.8.8"
  }
 },
 "nbformat": 4,
 "nbformat_minor": 5
}
